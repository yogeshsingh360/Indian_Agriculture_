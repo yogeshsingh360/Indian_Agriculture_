{
 "cells": [
  {
   "cell_type": "code",
   "execution_count": 68,
   "id": "09f1051f-2159-40ed-9844-554849fd5cf4",
   "metadata": {},
   "outputs": [],
   "source": [
    "import pandas as pd \n",
    "import numpy as np \n",
    "import matplotlib.pyplot as plt \n",
    "from sklearn.model_selection import train_test_split\n",
    "from sklearn.preprocessing import StandardScaler\n",
    "from sklearn.preprocessing import LabelEncoder"
   ]
  },
  {
   "cell_type": "code",
   "execution_count": 69,
   "id": "a64b0c3b-1501-4e84-af98-47f0fd2e600e",
   "metadata": {},
   "outputs": [],
   "source": [
    "df = pd.read_csv('data_after_cleaning.csv')"
   ]
  },
  {
   "cell_type": "code",
   "execution_count": 70,
   "id": "885a9aa7-6d43-4e4a-b6d1-dbdffa4dc85e",
   "metadata": {},
   "outputs": [],
   "source": [
    "df['crop']=df['crop'].str.replace(' ','')\n",
    "df['season']=df['season'].str.replace(' ','')"
   ]
  },
  {
   "cell_type": "code",
   "execution_count": 71,
   "id": "7becf324-4f34-46bd-a889-e60768e4c9e4",
   "metadata": {},
   "outputs": [],
   "source": [
    "df = df.sort_values(by='crop_year')"
   ]
  },
  {
   "cell_type": "code",
   "execution_count": 72,
   "id": "981ae610-04c6-45c7-8be5-a622449c8c8c",
   "metadata": {},
   "outputs": [
    {
     "data": {
      "text/html": [
       "<div>\n",
       "<style scoped>\n",
       "    .dataframe tbody tr th:only-of-type {\n",
       "        vertical-align: middle;\n",
       "    }\n",
       "\n",
       "    .dataframe tbody tr th {\n",
       "        vertical-align: top;\n",
       "    }\n",
       "\n",
       "    .dataframe thead th {\n",
       "        text-align: right;\n",
       "    }\n",
       "</style>\n",
       "<table border=\"1\" class=\"dataframe\">\n",
       "  <thead>\n",
       "    <tr style=\"text-align: right;\">\n",
       "      <th></th>\n",
       "      <th>crop_year</th>\n",
       "      <th>season</th>\n",
       "      <th>crop</th>\n",
       "      <th>area</th>\n",
       "      <th>temperature_2m_mean</th>\n",
       "      <th>precipitation_sum</th>\n",
       "      <th>relative_humidity_2m_mean</th>\n",
       "      <th>wind_speed_10m_mean</th>\n",
       "      <th>latitude</th>\n",
       "      <th>longitude</th>\n",
       "      <th>crop_yield</th>\n",
       "    </tr>\n",
       "  </thead>\n",
       "  <tbody>\n",
       "    <tr>\n",
       "      <th>29</th>\n",
       "      <td>2001</td>\n",
       "      <td>wholeyear</td>\n",
       "      <td>banana</td>\n",
       "      <td>7.367077</td>\n",
       "      <td>26.936137</td>\n",
       "      <td>1.614875</td>\n",
       "      <td>58.895437</td>\n",
       "      <td>13.118321</td>\n",
       "      <td>14.724220</td>\n",
       "      <td>77.430674</td>\n",
       "      <td>0.256219</td>\n",
       "    </tr>\n",
       "    <tr>\n",
       "      <th>30</th>\n",
       "      <td>2001</td>\n",
       "      <td>wholeyear</td>\n",
       "      <td>coconut</td>\n",
       "      <td>6.747587</td>\n",
       "      <td>26.936137</td>\n",
       "      <td>1.614875</td>\n",
       "      <td>58.895437</td>\n",
       "      <td>13.118321</td>\n",
       "      <td>14.724220</td>\n",
       "      <td>77.430674</td>\n",
       "      <td>8.185731</td>\n",
       "    </tr>\n",
       "    <tr>\n",
       "      <th>31</th>\n",
       "      <td>2001</td>\n",
       "      <td>wholeyear</td>\n",
       "      <td>coriander</td>\n",
       "      <td>8.464214</td>\n",
       "      <td>26.936137</td>\n",
       "      <td>1.614875</td>\n",
       "      <td>58.895437</td>\n",
       "      <td>13.118321</td>\n",
       "      <td>14.724220</td>\n",
       "      <td>77.430674</td>\n",
       "      <td>0.211902</td>\n",
       "    </tr>\n",
       "    <tr>\n",
       "      <th>4</th>\n",
       "      <td>2001</td>\n",
       "      <td>kharif</td>\n",
       "      <td>drychillies</td>\n",
       "      <td>8.233769</td>\n",
       "      <td>27.047742</td>\n",
       "      <td>1.125806</td>\n",
       "      <td>65.310753</td>\n",
       "      <td>21.165090</td>\n",
       "      <td>14.724220</td>\n",
       "      <td>77.430674</td>\n",
       "      <td>1.062281</td>\n",
       "    </tr>\n",
       "    <tr>\n",
       "      <th>5</th>\n",
       "      <td>2001</td>\n",
       "      <td>kharif</td>\n",
       "      <td>groundnut</td>\n",
       "      <td>13.539363</td>\n",
       "      <td>27.047742</td>\n",
       "      <td>1.125806</td>\n",
       "      <td>65.310753</td>\n",
       "      <td>21.165090</td>\n",
       "      <td>14.724220</td>\n",
       "      <td>77.430674</td>\n",
       "      <td>0.364643</td>\n",
       "    </tr>\n",
       "    <tr>\n",
       "      <th>...</th>\n",
       "      <td>...</td>\n",
       "      <td>...</td>\n",
       "      <td>...</td>\n",
       "      <td>...</td>\n",
       "      <td>...</td>\n",
       "      <td>...</td>\n",
       "      <td>...</td>\n",
       "      <td>...</td>\n",
       "      <td>...</td>\n",
       "      <td>...</td>\n",
       "      <td>...</td>\n",
       "    </tr>\n",
       "    <tr>\n",
       "      <th>249491</th>\n",
       "      <td>2020</td>\n",
       "      <td>rabi</td>\n",
       "      <td>wheat</td>\n",
       "      <td>9.114160</td>\n",
       "      <td>12.551224</td>\n",
       "      <td>2.734038</td>\n",
       "      <td>60.397664</td>\n",
       "      <td>3.186096</td>\n",
       "      <td>30.729860</td>\n",
       "      <td>78.443420</td>\n",
       "      <td>0.983564</td>\n",
       "    </tr>\n",
       "    <tr>\n",
       "      <th>249460</th>\n",
       "      <td>2020</td>\n",
       "      <td>wholeyear</td>\n",
       "      <td>turmeric</td>\n",
       "      <td>0.693147</td>\n",
       "      <td>12.463553</td>\n",
       "      <td>6.557644</td>\n",
       "      <td>56.127426</td>\n",
       "      <td>3.479982</td>\n",
       "      <td>30.608720</td>\n",
       "      <td>79.065170</td>\n",
       "      <td>1.098612</td>\n",
       "    </tr>\n",
       "    <tr>\n",
       "      <th>249485</th>\n",
       "      <td>2020</td>\n",
       "      <td>rabi</td>\n",
       "      <td>wheat</td>\n",
       "      <td>9.965476</td>\n",
       "      <td>7.998832</td>\n",
       "      <td>2.927197</td>\n",
       "      <td>71.856507</td>\n",
       "      <td>5.530812</td>\n",
       "      <td>29.390529</td>\n",
       "      <td>79.460869</td>\n",
       "      <td>1.573525</td>\n",
       "    </tr>\n",
       "    <tr>\n",
       "      <th>249431</th>\n",
       "      <td>2020</td>\n",
       "      <td>kharif</td>\n",
       "      <td>soyabean</td>\n",
       "      <td>3.610918</td>\n",
       "      <td>19.961075</td>\n",
       "      <td>13.932401</td>\n",
       "      <td>85.659140</td>\n",
       "      <td>3.244839</td>\n",
       "      <td>30.008790</td>\n",
       "      <td>79.928018</td>\n",
       "      <td>0.693147</td>\n",
       "    </tr>\n",
       "    <tr>\n",
       "      <th>249468</th>\n",
       "      <td>2020</td>\n",
       "      <td>summer</td>\n",
       "      <td>urad</td>\n",
       "      <td>2.302585</td>\n",
       "      <td>23.703710</td>\n",
       "      <td>1.304355</td>\n",
       "      <td>55.102151</td>\n",
       "      <td>5.963441</td>\n",
       "      <td>30.325565</td>\n",
       "      <td>78.043681</td>\n",
       "      <td>0.798508</td>\n",
       "    </tr>\n",
       "  </tbody>\n",
       "</table>\n",
       "<p>249492 rows × 11 columns</p>\n",
       "</div>"
      ],
      "text/plain": [
       "        crop_year     season         crop       area  ...  wind_speed_10m_mean   latitude  longitude  crop_yield\n",
       "29           2001  wholeyear       banana   7.367077  ...            13.118321  14.724220  77.430674    0.256219\n",
       "30           2001  wholeyear      coconut   6.747587  ...            13.118321  14.724220  77.430674    8.185731\n",
       "31           2001  wholeyear    coriander   8.464214  ...            13.118321  14.724220  77.430674    0.211902\n",
       "4            2001     kharif  drychillies   8.233769  ...            21.165090  14.724220  77.430674    1.062281\n",
       "5            2001     kharif    groundnut  13.539363  ...            21.165090  14.724220  77.430674    0.364643\n",
       "...           ...        ...          ...        ...  ...                  ...        ...        ...         ...\n",
       "249491       2020       rabi        wheat   9.114160  ...             3.186096  30.729860  78.443420    0.983564\n",
       "249460       2020  wholeyear     turmeric   0.693147  ...             3.479982  30.608720  79.065170    1.098612\n",
       "249485       2020       rabi        wheat   9.965476  ...             5.530812  29.390529  79.460869    1.573525\n",
       "249431       2020     kharif     soyabean   3.610918  ...             3.244839  30.008790  79.928018    0.693147\n",
       "249468       2020     summer         urad   2.302585  ...             5.963441  30.325565  78.043681    0.798508\n",
       "\n",
       "[249492 rows x 11 columns]"
      ]
     },
     "execution_count": 72,
     "metadata": {},
     "output_type": "execute_result"
    }
   ],
   "source": [
    "df"
   ]
  },
  {
   "cell_type": "code",
   "execution_count": 73,
   "id": "4ab1a105-ba09-4acd-ba5a-06d4446e4603",
   "metadata": {},
   "outputs": [],
   "source": [
    "train_df = df[df['crop_year'] <= 2017]\n",
    "test_df = df[df['crop_year'] > 2017]"
   ]
  },
  {
   "cell_type": "code",
   "execution_count": 74,
   "id": "3d12d444-928c-428d-bbc3-7590ceac7795",
   "metadata": {},
   "outputs": [],
   "source": [
    "x_train = train_df.drop(columns=['crop_yield'])\n",
    "y_train = train_df['crop_yield']\n",
    "\n",
    "x_test = test_df.drop(columns=['crop_yield'])\n",
    "y_test = test_df['crop_yield']"
   ]
  },
  {
   "cell_type": "code",
   "execution_count": 75,
   "id": "7265c2f5-c7d3-4dbe-b34d-5f2da688d072",
   "metadata": {},
   "outputs": [
    {
     "data": {
      "text/html": [
       "<div>\n",
       "<style scoped>\n",
       "    .dataframe tbody tr th:only-of-type {\n",
       "        vertical-align: middle;\n",
       "    }\n",
       "\n",
       "    .dataframe tbody tr th {\n",
       "        vertical-align: top;\n",
       "    }\n",
       "\n",
       "    .dataframe thead th {\n",
       "        text-align: right;\n",
       "    }\n",
       "</style>\n",
       "<table border=\"1\" class=\"dataframe\">\n",
       "  <thead>\n",
       "    <tr style=\"text-align: right;\">\n",
       "      <th></th>\n",
       "      <th>crop_year</th>\n",
       "      <th>season</th>\n",
       "      <th>crop</th>\n",
       "      <th>area</th>\n",
       "      <th>temperature_2m_mean</th>\n",
       "      <th>precipitation_sum</th>\n",
       "      <th>relative_humidity_2m_mean</th>\n",
       "      <th>wind_speed_10m_mean</th>\n",
       "      <th>latitude</th>\n",
       "      <th>longitude</th>\n",
       "    </tr>\n",
       "  </thead>\n",
       "  <tbody>\n",
       "    <tr>\n",
       "      <th>29</th>\n",
       "      <td>2001</td>\n",
       "      <td>wholeyear</td>\n",
       "      <td>banana</td>\n",
       "      <td>7.367077</td>\n",
       "      <td>26.936137</td>\n",
       "      <td>1.614875</td>\n",
       "      <td>58.895437</td>\n",
       "      <td>13.118321</td>\n",
       "      <td>14.724220</td>\n",
       "      <td>77.430674</td>\n",
       "    </tr>\n",
       "    <tr>\n",
       "      <th>30</th>\n",
       "      <td>2001</td>\n",
       "      <td>wholeyear</td>\n",
       "      <td>coconut</td>\n",
       "      <td>6.747587</td>\n",
       "      <td>26.936137</td>\n",
       "      <td>1.614875</td>\n",
       "      <td>58.895437</td>\n",
       "      <td>13.118321</td>\n",
       "      <td>14.724220</td>\n",
       "      <td>77.430674</td>\n",
       "    </tr>\n",
       "    <tr>\n",
       "      <th>31</th>\n",
       "      <td>2001</td>\n",
       "      <td>wholeyear</td>\n",
       "      <td>coriander</td>\n",
       "      <td>8.464214</td>\n",
       "      <td>26.936137</td>\n",
       "      <td>1.614875</td>\n",
       "      <td>58.895437</td>\n",
       "      <td>13.118321</td>\n",
       "      <td>14.724220</td>\n",
       "      <td>77.430674</td>\n",
       "    </tr>\n",
       "    <tr>\n",
       "      <th>4</th>\n",
       "      <td>2001</td>\n",
       "      <td>kharif</td>\n",
       "      <td>drychillies</td>\n",
       "      <td>8.233769</td>\n",
       "      <td>27.047742</td>\n",
       "      <td>1.125806</td>\n",
       "      <td>65.310753</td>\n",
       "      <td>21.165090</td>\n",
       "      <td>14.724220</td>\n",
       "      <td>77.430674</td>\n",
       "    </tr>\n",
       "    <tr>\n",
       "      <th>5</th>\n",
       "      <td>2001</td>\n",
       "      <td>kharif</td>\n",
       "      <td>groundnut</td>\n",
       "      <td>13.539363</td>\n",
       "      <td>27.047742</td>\n",
       "      <td>1.125806</td>\n",
       "      <td>65.310753</td>\n",
       "      <td>21.165090</td>\n",
       "      <td>14.724220</td>\n",
       "      <td>77.430674</td>\n",
       "    </tr>\n",
       "    <tr>\n",
       "      <th>...</th>\n",
       "      <td>...</td>\n",
       "      <td>...</td>\n",
       "      <td>...</td>\n",
       "      <td>...</td>\n",
       "      <td>...</td>\n",
       "      <td>...</td>\n",
       "      <td>...</td>\n",
       "      <td>...</td>\n",
       "      <td>...</td>\n",
       "      <td>...</td>\n",
       "    </tr>\n",
       "    <tr>\n",
       "      <th>230935</th>\n",
       "      <td>2017</td>\n",
       "      <td>rabi</td>\n",
       "      <td>wheat</td>\n",
       "      <td>1.791759</td>\n",
       "      <td>24.916359</td>\n",
       "      <td>1.022696</td>\n",
       "      <td>72.918779</td>\n",
       "      <td>9.358756</td>\n",
       "      <td>22.064845</td>\n",
       "      <td>87.837759</td>\n",
       "    </tr>\n",
       "    <tr>\n",
       "      <th>230936</th>\n",
       "      <td>2017</td>\n",
       "      <td>rabi</td>\n",
       "      <td>wheat</td>\n",
       "      <td>5.198497</td>\n",
       "      <td>25.175461</td>\n",
       "      <td>0.705012</td>\n",
       "      <td>61.695276</td>\n",
       "      <td>8.248041</td>\n",
       "      <td>22.420000</td>\n",
       "      <td>87.320000</td>\n",
       "    </tr>\n",
       "    <tr>\n",
       "      <th>230937</th>\n",
       "      <td>2017</td>\n",
       "      <td>rabi</td>\n",
       "      <td>wheat</td>\n",
       "      <td>4.143135</td>\n",
       "      <td>23.105588</td>\n",
       "      <td>0.319528</td>\n",
       "      <td>65.649194</td>\n",
       "      <td>7.725115</td>\n",
       "      <td>24.174599</td>\n",
       "      <td>88.272133</td>\n",
       "    </tr>\n",
       "    <tr>\n",
       "      <th>230938</th>\n",
       "      <td>2017</td>\n",
       "      <td>rabi</td>\n",
       "      <td>wheat</td>\n",
       "      <td>8.136811</td>\n",
       "      <td>24.080357</td>\n",
       "      <td>0.675058</td>\n",
       "      <td>60.582373</td>\n",
       "      <td>7.733410</td>\n",
       "      <td>23.388409</td>\n",
       "      <td>87.960676</td>\n",
       "    </tr>\n",
       "    <tr>\n",
       "      <th>230939</th>\n",
       "      <td>2017</td>\n",
       "      <td>rabi</td>\n",
       "      <td>wheat</td>\n",
       "      <td>6.959399</td>\n",
       "      <td>24.102247</td>\n",
       "      <td>0.149251</td>\n",
       "      <td>46.248272</td>\n",
       "      <td>7.849136</td>\n",
       "      <td>23.202097</td>\n",
       "      <td>86.322899</td>\n",
       "    </tr>\n",
       "  </tbody>\n",
       "</table>\n",
       "<p>213518 rows × 10 columns</p>\n",
       "</div>"
      ],
      "text/plain": [
       "        crop_year     season         crop  ...  wind_speed_10m_mean   latitude  longitude\n",
       "29           2001  wholeyear       banana  ...            13.118321  14.724220  77.430674\n",
       "30           2001  wholeyear      coconut  ...            13.118321  14.724220  77.430674\n",
       "31           2001  wholeyear    coriander  ...            13.118321  14.724220  77.430674\n",
       "4            2001     kharif  drychillies  ...            21.165090  14.724220  77.430674\n",
       "5            2001     kharif    groundnut  ...            21.165090  14.724220  77.430674\n",
       "...           ...        ...          ...  ...                  ...        ...        ...\n",
       "230935       2017       rabi        wheat  ...             9.358756  22.064845  87.837759\n",
       "230936       2017       rabi        wheat  ...             8.248041  22.420000  87.320000\n",
       "230937       2017       rabi        wheat  ...             7.725115  24.174599  88.272133\n",
       "230938       2017       rabi        wheat  ...             7.733410  23.388409  87.960676\n",
       "230939       2017       rabi        wheat  ...             7.849136  23.202097  86.322899\n",
       "\n",
       "[213518 rows x 10 columns]"
      ]
     },
     "execution_count": 75,
     "metadata": {},
     "output_type": "execute_result"
    }
   ],
   "source": [
    "x_train"
   ]
  },
  {
   "cell_type": "code",
   "execution_count": 76,
   "id": "8045fa39-abce-4abf-b0ef-1eca7ae22487",
   "metadata": {},
   "outputs": [
    {
     "data": {
      "text/html": [
       "<div>\n",
       "<style scoped>\n",
       "    .dataframe tbody tr th:only-of-type {\n",
       "        vertical-align: middle;\n",
       "    }\n",
       "\n",
       "    .dataframe tbody tr th {\n",
       "        vertical-align: top;\n",
       "    }\n",
       "\n",
       "    .dataframe thead th {\n",
       "        text-align: right;\n",
       "    }\n",
       "</style>\n",
       "<table border=\"1\" class=\"dataframe\">\n",
       "  <thead>\n",
       "    <tr style=\"text-align: right;\">\n",
       "      <th></th>\n",
       "      <th>crop_year</th>\n",
       "      <th>season</th>\n",
       "      <th>crop</th>\n",
       "      <th>area</th>\n",
       "      <th>temperature_2m_mean</th>\n",
       "      <th>precipitation_sum</th>\n",
       "      <th>relative_humidity_2m_mean</th>\n",
       "      <th>wind_speed_10m_mean</th>\n",
       "      <th>latitude</th>\n",
       "      <th>longitude</th>\n",
       "    </tr>\n",
       "  </thead>\n",
       "  <tbody>\n",
       "    <tr>\n",
       "      <th>196293</th>\n",
       "      <td>2018</td>\n",
       "      <td>kharif</td>\n",
       "      <td>arhar/tur</td>\n",
       "      <td>8.337827</td>\n",
       "      <td>30.524337</td>\n",
       "      <td>1.639104</td>\n",
       "      <td>57.123297</td>\n",
       "      <td>18.537061</td>\n",
       "      <td>14.475294</td>\n",
       "      <td>78.821686</td>\n",
       "    </tr>\n",
       "    <tr>\n",
       "      <th>196292</th>\n",
       "      <td>2018</td>\n",
       "      <td>rabi</td>\n",
       "      <td>arhar/tur</td>\n",
       "      <td>6.966967</td>\n",
       "      <td>27.324539</td>\n",
       "      <td>0.095680</td>\n",
       "      <td>65.982719</td>\n",
       "      <td>9.026267</td>\n",
       "      <td>16.291519</td>\n",
       "      <td>80.454159</td>\n",
       "    </tr>\n",
       "    <tr>\n",
       "      <th>196323</th>\n",
       "      <td>2018</td>\n",
       "      <td>kharif</td>\n",
       "      <td>bajra</td>\n",
       "      <td>4.418841</td>\n",
       "      <td>28.712652</td>\n",
       "      <td>8.850824</td>\n",
       "      <td>77.973477</td>\n",
       "      <td>9.236416</td>\n",
       "      <td>18.114126</td>\n",
       "      <td>83.411439</td>\n",
       "    </tr>\n",
       "    <tr>\n",
       "      <th>196322</th>\n",
       "      <td>2018</td>\n",
       "      <td>kharif</td>\n",
       "      <td>bajra</td>\n",
       "      <td>4.442651</td>\n",
       "      <td>28.544194</td>\n",
       "      <td>9.827921</td>\n",
       "      <td>81.937993</td>\n",
       "      <td>11.404050</td>\n",
       "      <td>18.294931</td>\n",
       "      <td>83.893884</td>\n",
       "    </tr>\n",
       "    <tr>\n",
       "      <th>196321</th>\n",
       "      <td>2018</td>\n",
       "      <td>rabi</td>\n",
       "      <td>bajra</td>\n",
       "      <td>0.693147</td>\n",
       "      <td>26.882892</td>\n",
       "      <td>0.226152</td>\n",
       "      <td>66.549539</td>\n",
       "      <td>9.343433</td>\n",
       "      <td>14.717439</td>\n",
       "      <td>79.660506</td>\n",
       "    </tr>\n",
       "    <tr>\n",
       "      <th>...</th>\n",
       "      <td>...</td>\n",
       "      <td>...</td>\n",
       "      <td>...</td>\n",
       "      <td>...</td>\n",
       "      <td>...</td>\n",
       "      <td>...</td>\n",
       "      <td>...</td>\n",
       "      <td>...</td>\n",
       "      <td>...</td>\n",
       "      <td>...</td>\n",
       "    </tr>\n",
       "    <tr>\n",
       "      <th>249491</th>\n",
       "      <td>2020</td>\n",
       "      <td>rabi</td>\n",
       "      <td>wheat</td>\n",
       "      <td>9.114160</td>\n",
       "      <td>12.551224</td>\n",
       "      <td>2.734038</td>\n",
       "      <td>60.397664</td>\n",
       "      <td>3.186096</td>\n",
       "      <td>30.729860</td>\n",
       "      <td>78.443420</td>\n",
       "    </tr>\n",
       "    <tr>\n",
       "      <th>249460</th>\n",
       "      <td>2020</td>\n",
       "      <td>wholeyear</td>\n",
       "      <td>turmeric</td>\n",
       "      <td>0.693147</td>\n",
       "      <td>12.463553</td>\n",
       "      <td>6.557644</td>\n",
       "      <td>56.127426</td>\n",
       "      <td>3.479982</td>\n",
       "      <td>30.608720</td>\n",
       "      <td>79.065170</td>\n",
       "    </tr>\n",
       "    <tr>\n",
       "      <th>249485</th>\n",
       "      <td>2020</td>\n",
       "      <td>rabi</td>\n",
       "      <td>wheat</td>\n",
       "      <td>9.965476</td>\n",
       "      <td>7.998832</td>\n",
       "      <td>2.927197</td>\n",
       "      <td>71.856507</td>\n",
       "      <td>5.530812</td>\n",
       "      <td>29.390529</td>\n",
       "      <td>79.460869</td>\n",
       "    </tr>\n",
       "    <tr>\n",
       "      <th>249431</th>\n",
       "      <td>2020</td>\n",
       "      <td>kharif</td>\n",
       "      <td>soyabean</td>\n",
       "      <td>3.610918</td>\n",
       "      <td>19.961075</td>\n",
       "      <td>13.932401</td>\n",
       "      <td>85.659140</td>\n",
       "      <td>3.244839</td>\n",
       "      <td>30.008790</td>\n",
       "      <td>79.928018</td>\n",
       "    </tr>\n",
       "    <tr>\n",
       "      <th>249468</th>\n",
       "      <td>2020</td>\n",
       "      <td>summer</td>\n",
       "      <td>urad</td>\n",
       "      <td>2.302585</td>\n",
       "      <td>23.703710</td>\n",
       "      <td>1.304355</td>\n",
       "      <td>55.102151</td>\n",
       "      <td>5.963441</td>\n",
       "      <td>30.325565</td>\n",
       "      <td>78.043681</td>\n",
       "    </tr>\n",
       "  </tbody>\n",
       "</table>\n",
       "<p>35974 rows × 10 columns</p>\n",
       "</div>"
      ],
      "text/plain": [
       "        crop_year     season       crop      area  ...  relative_humidity_2m_mean  wind_speed_10m_mean   latitude  longitude\n",
       "196293       2018     kharif  arhar/tur  8.337827  ...                  57.123297            18.537061  14.475294  78.821686\n",
       "196292       2018       rabi  arhar/tur  6.966967  ...                  65.982719             9.026267  16.291519  80.454159\n",
       "196323       2018     kharif      bajra  4.418841  ...                  77.973477             9.236416  18.114126  83.411439\n",
       "196322       2018     kharif      bajra  4.442651  ...                  81.937993            11.404050  18.294931  83.893884\n",
       "196321       2018       rabi      bajra  0.693147  ...                  66.549539             9.343433  14.717439  79.660506\n",
       "...           ...        ...        ...       ...  ...                        ...                  ...        ...        ...\n",
       "249491       2020       rabi      wheat  9.114160  ...                  60.397664             3.186096  30.729860  78.443420\n",
       "249460       2020  wholeyear   turmeric  0.693147  ...                  56.127426             3.479982  30.608720  79.065170\n",
       "249485       2020       rabi      wheat  9.965476  ...                  71.856507             5.530812  29.390529  79.460869\n",
       "249431       2020     kharif   soyabean  3.610918  ...                  85.659140             3.244839  30.008790  79.928018\n",
       "249468       2020     summer       urad  2.302585  ...                  55.102151             5.963441  30.325565  78.043681\n",
       "\n",
       "[35974 rows x 10 columns]"
      ]
     },
     "execution_count": 76,
     "metadata": {},
     "output_type": "execute_result"
    }
   ],
   "source": [
    "x_test"
   ]
  },
  {
   "cell_type": "code",
   "execution_count": 77,
   "id": "450de463-a74e-4487-bbec-c01b1c99fcfe",
   "metadata": {},
   "outputs": [],
   "source": [
    "x_train_encoding  = x_train.copy()\n",
    "x_test_encoding = x_test.copy()"
   ]
  },
  {
   "cell_type": "code",
   "execution_count": 78,
   "id": "14c0af9e-8829-4d44-9bff-2a101f3799f5",
   "metadata": {},
   "outputs": [],
   "source": [
    "crop_encoder = LabelEncoder()\n",
    "x_train_encoding['crop_encoded'] = crop_encoder.fit_transform(x_train_encoding['crop'])"
   ]
  },
  {
   "cell_type": "code",
   "execution_count": 79,
   "id": "e00fa21d-7ccb-46d7-b23b-d6ef204e64a6",
   "metadata": {},
   "outputs": [
    {
     "data": {
      "text/html": [
       "<div>\n",
       "<style scoped>\n",
       "    .dataframe tbody tr th:only-of-type {\n",
       "        vertical-align: middle;\n",
       "    }\n",
       "\n",
       "    .dataframe tbody tr th {\n",
       "        vertical-align: top;\n",
       "    }\n",
       "\n",
       "    .dataframe thead th {\n",
       "        text-align: right;\n",
       "    }\n",
       "</style>\n",
       "<table border=\"1\" class=\"dataframe\">\n",
       "  <thead>\n",
       "    <tr style=\"text-align: right;\">\n",
       "      <th></th>\n",
       "      <th>crop_year</th>\n",
       "      <th>season</th>\n",
       "      <th>crop</th>\n",
       "      <th>area</th>\n",
       "      <th>temperature_2m_mean</th>\n",
       "      <th>precipitation_sum</th>\n",
       "      <th>relative_humidity_2m_mean</th>\n",
       "      <th>wind_speed_10m_mean</th>\n",
       "      <th>latitude</th>\n",
       "      <th>longitude</th>\n",
       "      <th>crop_encoded</th>\n",
       "    </tr>\n",
       "  </thead>\n",
       "  <tbody>\n",
       "    <tr>\n",
       "      <th>29</th>\n",
       "      <td>2001</td>\n",
       "      <td>wholeyear</td>\n",
       "      <td>banana</td>\n",
       "      <td>7.367077</td>\n",
       "      <td>26.936137</td>\n",
       "      <td>1.614875</td>\n",
       "      <td>58.895437</td>\n",
       "      <td>13.118321</td>\n",
       "      <td>14.724220</td>\n",
       "      <td>77.430674</td>\n",
       "      <td>5</td>\n",
       "    </tr>\n",
       "    <tr>\n",
       "      <th>30</th>\n",
       "      <td>2001</td>\n",
       "      <td>wholeyear</td>\n",
       "      <td>coconut</td>\n",
       "      <td>6.747587</td>\n",
       "      <td>26.936137</td>\n",
       "      <td>1.614875</td>\n",
       "      <td>58.895437</td>\n",
       "      <td>13.118321</td>\n",
       "      <td>14.724220</td>\n",
       "      <td>77.430674</td>\n",
       "      <td>22</td>\n",
       "    </tr>\n",
       "    <tr>\n",
       "      <th>31</th>\n",
       "      <td>2001</td>\n",
       "      <td>wholeyear</td>\n",
       "      <td>coriander</td>\n",
       "      <td>8.464214</td>\n",
       "      <td>26.936137</td>\n",
       "      <td>1.614875</td>\n",
       "      <td>58.895437</td>\n",
       "      <td>13.118321</td>\n",
       "      <td>14.724220</td>\n",
       "      <td>77.430674</td>\n",
       "      <td>24</td>\n",
       "    </tr>\n",
       "    <tr>\n",
       "      <th>4</th>\n",
       "      <td>2001</td>\n",
       "      <td>kharif</td>\n",
       "      <td>drychillies</td>\n",
       "      <td>8.233769</td>\n",
       "      <td>27.047742</td>\n",
       "      <td>1.125806</td>\n",
       "      <td>65.310753</td>\n",
       "      <td>21.165090</td>\n",
       "      <td>14.724220</td>\n",
       "      <td>77.430674</td>\n",
       "      <td>28</td>\n",
       "    </tr>\n",
       "    <tr>\n",
       "      <th>5</th>\n",
       "      <td>2001</td>\n",
       "      <td>kharif</td>\n",
       "      <td>groundnut</td>\n",
       "      <td>13.539363</td>\n",
       "      <td>27.047742</td>\n",
       "      <td>1.125806</td>\n",
       "      <td>65.310753</td>\n",
       "      <td>21.165090</td>\n",
       "      <td>14.724220</td>\n",
       "      <td>77.430674</td>\n",
       "      <td>34</td>\n",
       "    </tr>\n",
       "    <tr>\n",
       "      <th>...</th>\n",
       "      <td>...</td>\n",
       "      <td>...</td>\n",
       "      <td>...</td>\n",
       "      <td>...</td>\n",
       "      <td>...</td>\n",
       "      <td>...</td>\n",
       "      <td>...</td>\n",
       "      <td>...</td>\n",
       "      <td>...</td>\n",
       "      <td>...</td>\n",
       "      <td>...</td>\n",
       "    </tr>\n",
       "    <tr>\n",
       "      <th>230935</th>\n",
       "      <td>2017</td>\n",
       "      <td>rabi</td>\n",
       "      <td>wheat</td>\n",
       "      <td>1.791759</td>\n",
       "      <td>24.916359</td>\n",
       "      <td>1.022696</td>\n",
       "      <td>72.918779</td>\n",
       "      <td>9.358756</td>\n",
       "      <td>22.064845</td>\n",
       "      <td>87.837759</td>\n",
       "      <td>91</td>\n",
       "    </tr>\n",
       "    <tr>\n",
       "      <th>230936</th>\n",
       "      <td>2017</td>\n",
       "      <td>rabi</td>\n",
       "      <td>wheat</td>\n",
       "      <td>5.198497</td>\n",
       "      <td>25.175461</td>\n",
       "      <td>0.705012</td>\n",
       "      <td>61.695276</td>\n",
       "      <td>8.248041</td>\n",
       "      <td>22.420000</td>\n",
       "      <td>87.320000</td>\n",
       "      <td>91</td>\n",
       "    </tr>\n",
       "    <tr>\n",
       "      <th>230937</th>\n",
       "      <td>2017</td>\n",
       "      <td>rabi</td>\n",
       "      <td>wheat</td>\n",
       "      <td>4.143135</td>\n",
       "      <td>23.105588</td>\n",
       "      <td>0.319528</td>\n",
       "      <td>65.649194</td>\n",
       "      <td>7.725115</td>\n",
       "      <td>24.174599</td>\n",
       "      <td>88.272133</td>\n",
       "      <td>91</td>\n",
       "    </tr>\n",
       "    <tr>\n",
       "      <th>230938</th>\n",
       "      <td>2017</td>\n",
       "      <td>rabi</td>\n",
       "      <td>wheat</td>\n",
       "      <td>8.136811</td>\n",
       "      <td>24.080357</td>\n",
       "      <td>0.675058</td>\n",
       "      <td>60.582373</td>\n",
       "      <td>7.733410</td>\n",
       "      <td>23.388409</td>\n",
       "      <td>87.960676</td>\n",
       "      <td>91</td>\n",
       "    </tr>\n",
       "    <tr>\n",
       "      <th>230939</th>\n",
       "      <td>2017</td>\n",
       "      <td>rabi</td>\n",
       "      <td>wheat</td>\n",
       "      <td>6.959399</td>\n",
       "      <td>24.102247</td>\n",
       "      <td>0.149251</td>\n",
       "      <td>46.248272</td>\n",
       "      <td>7.849136</td>\n",
       "      <td>23.202097</td>\n",
       "      <td>86.322899</td>\n",
       "      <td>91</td>\n",
       "    </tr>\n",
       "  </tbody>\n",
       "</table>\n",
       "<p>213518 rows × 11 columns</p>\n",
       "</div>"
      ],
      "text/plain": [
       "        crop_year     season         crop       area  ...  wind_speed_10m_mean   latitude  longitude  crop_encoded\n",
       "29           2001  wholeyear       banana   7.367077  ...            13.118321  14.724220  77.430674             5\n",
       "30           2001  wholeyear      coconut   6.747587  ...            13.118321  14.724220  77.430674            22\n",
       "31           2001  wholeyear    coriander   8.464214  ...            13.118321  14.724220  77.430674            24\n",
       "4            2001     kharif  drychillies   8.233769  ...            21.165090  14.724220  77.430674            28\n",
       "5            2001     kharif    groundnut  13.539363  ...            21.165090  14.724220  77.430674            34\n",
       "...           ...        ...          ...        ...  ...                  ...        ...        ...           ...\n",
       "230935       2017       rabi        wheat   1.791759  ...             9.358756  22.064845  87.837759            91\n",
       "230936       2017       rabi        wheat   5.198497  ...             8.248041  22.420000  87.320000            91\n",
       "230937       2017       rabi        wheat   4.143135  ...             7.725115  24.174599  88.272133            91\n",
       "230938       2017       rabi        wheat   8.136811  ...             7.733410  23.388409  87.960676            91\n",
       "230939       2017       rabi        wheat   6.959399  ...             7.849136  23.202097  86.322899            91\n",
       "\n",
       "[213518 rows x 11 columns]"
      ]
     },
     "execution_count": 79,
     "metadata": {},
     "output_type": "execute_result"
    }
   ],
   "source": [
    "x_train_encoding"
   ]
  },
  {
   "cell_type": "code",
   "execution_count": 80,
   "id": "829ba39b-66db-4794-aea0-02dc7825eeaa",
   "metadata": {},
   "outputs": [
    {
     "data": {
      "text/html": [
       "<div>\n",
       "<style scoped>\n",
       "    .dataframe tbody tr th:only-of-type {\n",
       "        vertical-align: middle;\n",
       "    }\n",
       "\n",
       "    .dataframe tbody tr th {\n",
       "        vertical-align: top;\n",
       "    }\n",
       "\n",
       "    .dataframe thead th {\n",
       "        text-align: right;\n",
       "    }\n",
       "</style>\n",
       "<table border=\"1\" class=\"dataframe\">\n",
       "  <thead>\n",
       "    <tr style=\"text-align: right;\">\n",
       "      <th></th>\n",
       "      <th>crop_year</th>\n",
       "      <th>season</th>\n",
       "      <th>crop</th>\n",
       "      <th>area</th>\n",
       "      <th>temperature_2m_mean</th>\n",
       "      <th>precipitation_sum</th>\n",
       "      <th>relative_humidity_2m_mean</th>\n",
       "      <th>wind_speed_10m_mean</th>\n",
       "      <th>latitude</th>\n",
       "      <th>longitude</th>\n",
       "    </tr>\n",
       "  </thead>\n",
       "  <tbody>\n",
       "    <tr>\n",
       "      <th>29</th>\n",
       "      <td>2001</td>\n",
       "      <td>wholeyear</td>\n",
       "      <td>banana</td>\n",
       "      <td>7.367077</td>\n",
       "      <td>26.936137</td>\n",
       "      <td>1.614875</td>\n",
       "      <td>58.895437</td>\n",
       "      <td>13.118321</td>\n",
       "      <td>14.724220</td>\n",
       "      <td>77.430674</td>\n",
       "    </tr>\n",
       "    <tr>\n",
       "      <th>30</th>\n",
       "      <td>2001</td>\n",
       "      <td>wholeyear</td>\n",
       "      <td>coconut</td>\n",
       "      <td>6.747587</td>\n",
       "      <td>26.936137</td>\n",
       "      <td>1.614875</td>\n",
       "      <td>58.895437</td>\n",
       "      <td>13.118321</td>\n",
       "      <td>14.724220</td>\n",
       "      <td>77.430674</td>\n",
       "    </tr>\n",
       "    <tr>\n",
       "      <th>31</th>\n",
       "      <td>2001</td>\n",
       "      <td>wholeyear</td>\n",
       "      <td>coriander</td>\n",
       "      <td>8.464214</td>\n",
       "      <td>26.936137</td>\n",
       "      <td>1.614875</td>\n",
       "      <td>58.895437</td>\n",
       "      <td>13.118321</td>\n",
       "      <td>14.724220</td>\n",
       "      <td>77.430674</td>\n",
       "    </tr>\n",
       "    <tr>\n",
       "      <th>4</th>\n",
       "      <td>2001</td>\n",
       "      <td>kharif</td>\n",
       "      <td>drychillies</td>\n",
       "      <td>8.233769</td>\n",
       "      <td>27.047742</td>\n",
       "      <td>1.125806</td>\n",
       "      <td>65.310753</td>\n",
       "      <td>21.165090</td>\n",
       "      <td>14.724220</td>\n",
       "      <td>77.430674</td>\n",
       "    </tr>\n",
       "    <tr>\n",
       "      <th>5</th>\n",
       "      <td>2001</td>\n",
       "      <td>kharif</td>\n",
       "      <td>groundnut</td>\n",
       "      <td>13.539363</td>\n",
       "      <td>27.047742</td>\n",
       "      <td>1.125806</td>\n",
       "      <td>65.310753</td>\n",
       "      <td>21.165090</td>\n",
       "      <td>14.724220</td>\n",
       "      <td>77.430674</td>\n",
       "    </tr>\n",
       "    <tr>\n",
       "      <th>...</th>\n",
       "      <td>...</td>\n",
       "      <td>...</td>\n",
       "      <td>...</td>\n",
       "      <td>...</td>\n",
       "      <td>...</td>\n",
       "      <td>...</td>\n",
       "      <td>...</td>\n",
       "      <td>...</td>\n",
       "      <td>...</td>\n",
       "      <td>...</td>\n",
       "    </tr>\n",
       "    <tr>\n",
       "      <th>230935</th>\n",
       "      <td>2017</td>\n",
       "      <td>rabi</td>\n",
       "      <td>wheat</td>\n",
       "      <td>1.791759</td>\n",
       "      <td>24.916359</td>\n",
       "      <td>1.022696</td>\n",
       "      <td>72.918779</td>\n",
       "      <td>9.358756</td>\n",
       "      <td>22.064845</td>\n",
       "      <td>87.837759</td>\n",
       "    </tr>\n",
       "    <tr>\n",
       "      <th>230936</th>\n",
       "      <td>2017</td>\n",
       "      <td>rabi</td>\n",
       "      <td>wheat</td>\n",
       "      <td>5.198497</td>\n",
       "      <td>25.175461</td>\n",
       "      <td>0.705012</td>\n",
       "      <td>61.695276</td>\n",
       "      <td>8.248041</td>\n",
       "      <td>22.420000</td>\n",
       "      <td>87.320000</td>\n",
       "    </tr>\n",
       "    <tr>\n",
       "      <th>230937</th>\n",
       "      <td>2017</td>\n",
       "      <td>rabi</td>\n",
       "      <td>wheat</td>\n",
       "      <td>4.143135</td>\n",
       "      <td>23.105588</td>\n",
       "      <td>0.319528</td>\n",
       "      <td>65.649194</td>\n",
       "      <td>7.725115</td>\n",
       "      <td>24.174599</td>\n",
       "      <td>88.272133</td>\n",
       "    </tr>\n",
       "    <tr>\n",
       "      <th>230938</th>\n",
       "      <td>2017</td>\n",
       "      <td>rabi</td>\n",
       "      <td>wheat</td>\n",
       "      <td>8.136811</td>\n",
       "      <td>24.080357</td>\n",
       "      <td>0.675058</td>\n",
       "      <td>60.582373</td>\n",
       "      <td>7.733410</td>\n",
       "      <td>23.388409</td>\n",
       "      <td>87.960676</td>\n",
       "    </tr>\n",
       "    <tr>\n",
       "      <th>230939</th>\n",
       "      <td>2017</td>\n",
       "      <td>rabi</td>\n",
       "      <td>wheat</td>\n",
       "      <td>6.959399</td>\n",
       "      <td>24.102247</td>\n",
       "      <td>0.149251</td>\n",
       "      <td>46.248272</td>\n",
       "      <td>7.849136</td>\n",
       "      <td>23.202097</td>\n",
       "      <td>86.322899</td>\n",
       "    </tr>\n",
       "  </tbody>\n",
       "</table>\n",
       "<p>213518 rows × 10 columns</p>\n",
       "</div>"
      ],
      "text/plain": [
       "        crop_year     season         crop  ...  wind_speed_10m_mean   latitude  longitude\n",
       "29           2001  wholeyear       banana  ...            13.118321  14.724220  77.430674\n",
       "30           2001  wholeyear      coconut  ...            13.118321  14.724220  77.430674\n",
       "31           2001  wholeyear    coriander  ...            13.118321  14.724220  77.430674\n",
       "4            2001     kharif  drychillies  ...            21.165090  14.724220  77.430674\n",
       "5            2001     kharif    groundnut  ...            21.165090  14.724220  77.430674\n",
       "...           ...        ...          ...  ...                  ...        ...        ...\n",
       "230935       2017       rabi        wheat  ...             9.358756  22.064845  87.837759\n",
       "230936       2017       rabi        wheat  ...             8.248041  22.420000  87.320000\n",
       "230937       2017       rabi        wheat  ...             7.725115  24.174599  88.272133\n",
       "230938       2017       rabi        wheat  ...             7.733410  23.388409  87.960676\n",
       "230939       2017       rabi        wheat  ...             7.849136  23.202097  86.322899\n",
       "\n",
       "[213518 rows x 10 columns]"
      ]
     },
     "execution_count": 80,
     "metadata": {},
     "output_type": "execute_result"
    }
   ],
   "source": [
    "x_train"
   ]
  },
  {
   "cell_type": "code",
   "execution_count": 81,
   "id": "269fd58a-23ad-4c8a-9226-cb900daee813",
   "metadata": {},
   "outputs": [],
   "source": [
    "x_test_encoding['crop_encoded'] = crop_encoder.transform(x_test_encoding['crop'])"
   ]
  },
  {
   "cell_type": "code",
   "execution_count": 82,
   "id": "d4aca027-1e83-4079-bffd-837dc7e15a7e",
   "metadata": {},
   "outputs": [
    {
     "data": {
      "text/plain": [
       "196293     2\n",
       "196292     2\n",
       "196323     4\n",
       "196322     4\n",
       "196321     4\n",
       "          ..\n",
       "249491    91\n",
       "249460    87\n",
       "249485    91\n",
       "249431    79\n",
       "249468    89\n",
       "Name: crop_encoded, Length: 35974, dtype: int64"
      ]
     },
     "execution_count": 82,
     "metadata": {},
     "output_type": "execute_result"
    }
   ],
   "source": [
    "x_test_encoding['crop_encoded']"
   ]
  },
  {
   "cell_type": "code",
   "execution_count": 83,
   "id": "a3e84d87-9fa4-44c4-a423-a5d5f9a5059c",
   "metadata": {},
   "outputs": [],
   "source": [
    "season_encoder = LabelEncoder()\n",
    "x_train_encoding['season_encoded'] = season_encoder.fit_transform(x_train_encoding['season'])"
   ]
  },
  {
   "cell_type": "code",
   "execution_count": 84,
   "id": "cb0823f9-cbf8-4624-89db-7e7ede0d9c35",
   "metadata": {},
   "outputs": [
    {
     "data": {
      "text/plain": [
       "29        4\n",
       "30        4\n",
       "31        4\n",
       "4         1\n",
       "5         1\n",
       "         ..\n",
       "230935    2\n",
       "230936    2\n",
       "230937    2\n",
       "230938    2\n",
       "230939    2\n",
       "Name: season_encoded, Length: 213518, dtype: int64"
      ]
     },
     "execution_count": 84,
     "metadata": {},
     "output_type": "execute_result"
    }
   ],
   "source": [
    "x_train_encoding['season_encoded']"
   ]
  },
  {
   "cell_type": "code",
   "execution_count": 85,
   "id": "bf277a88-9d1a-4c66-953d-68a60fe34aff",
   "metadata": {},
   "outputs": [],
   "source": [
    "x_test_encoding['season_encoded'] = season_encoder.transform(x_test_encoding['season'])"
   ]
  },
  {
   "cell_type": "code",
   "execution_count": 86,
   "id": "78f8f7da-9875-4ef9-9a3f-ac38137dc150",
   "metadata": {},
   "outputs": [
    {
     "data": {
      "text/plain": [
       "196293    1\n",
       "196292    2\n",
       "196323    1\n",
       "196322    1\n",
       "196321    2\n",
       "         ..\n",
       "249491    2\n",
       "249460    4\n",
       "249485    2\n",
       "249431    1\n",
       "249468    3\n",
       "Name: season_encoded, Length: 35974, dtype: int64"
      ]
     },
     "execution_count": 86,
     "metadata": {},
     "output_type": "execute_result"
    }
   ],
   "source": [
    "x_test_encoding['season_encoded']"
   ]
  },
  {
   "cell_type": "code",
   "execution_count": 87,
   "id": "c95a836d-c2c6-47c0-a263-e0c15ff1348c",
   "metadata": {},
   "outputs": [],
   "source": [
    "x_train_for_scaling = x_train_encoding.drop(['crop','season'],axis=1)"
   ]
  },
  {
   "cell_type": "code",
   "execution_count": 88,
   "id": "d0903a75-76a4-4b7e-8248-d566b7864285",
   "metadata": {},
   "outputs": [
    {
     "data": {
      "text/html": [
       "<div>\n",
       "<style scoped>\n",
       "    .dataframe tbody tr th:only-of-type {\n",
       "        vertical-align: middle;\n",
       "    }\n",
       "\n",
       "    .dataframe tbody tr th {\n",
       "        vertical-align: top;\n",
       "    }\n",
       "\n",
       "    .dataframe thead th {\n",
       "        text-align: right;\n",
       "    }\n",
       "</style>\n",
       "<table border=\"1\" class=\"dataframe\">\n",
       "  <thead>\n",
       "    <tr style=\"text-align: right;\">\n",
       "      <th></th>\n",
       "      <th>crop_year</th>\n",
       "      <th>area</th>\n",
       "      <th>temperature_2m_mean</th>\n",
       "      <th>precipitation_sum</th>\n",
       "      <th>relative_humidity_2m_mean</th>\n",
       "      <th>wind_speed_10m_mean</th>\n",
       "      <th>latitude</th>\n",
       "      <th>longitude</th>\n",
       "      <th>crop_encoded</th>\n",
       "      <th>season_encoded</th>\n",
       "    </tr>\n",
       "  </thead>\n",
       "  <tbody>\n",
       "    <tr>\n",
       "      <th>29</th>\n",
       "      <td>2001</td>\n",
       "      <td>7.367077</td>\n",
       "      <td>26.936137</td>\n",
       "      <td>1.614875</td>\n",
       "      <td>58.895437</td>\n",
       "      <td>13.118321</td>\n",
       "      <td>14.724220</td>\n",
       "      <td>77.430674</td>\n",
       "      <td>5</td>\n",
       "      <td>4</td>\n",
       "    </tr>\n",
       "    <tr>\n",
       "      <th>30</th>\n",
       "      <td>2001</td>\n",
       "      <td>6.747587</td>\n",
       "      <td>26.936137</td>\n",
       "      <td>1.614875</td>\n",
       "      <td>58.895437</td>\n",
       "      <td>13.118321</td>\n",
       "      <td>14.724220</td>\n",
       "      <td>77.430674</td>\n",
       "      <td>22</td>\n",
       "      <td>4</td>\n",
       "    </tr>\n",
       "    <tr>\n",
       "      <th>31</th>\n",
       "      <td>2001</td>\n",
       "      <td>8.464214</td>\n",
       "      <td>26.936137</td>\n",
       "      <td>1.614875</td>\n",
       "      <td>58.895437</td>\n",
       "      <td>13.118321</td>\n",
       "      <td>14.724220</td>\n",
       "      <td>77.430674</td>\n",
       "      <td>24</td>\n",
       "      <td>4</td>\n",
       "    </tr>\n",
       "    <tr>\n",
       "      <th>4</th>\n",
       "      <td>2001</td>\n",
       "      <td>8.233769</td>\n",
       "      <td>27.047742</td>\n",
       "      <td>1.125806</td>\n",
       "      <td>65.310753</td>\n",
       "      <td>21.165090</td>\n",
       "      <td>14.724220</td>\n",
       "      <td>77.430674</td>\n",
       "      <td>28</td>\n",
       "      <td>1</td>\n",
       "    </tr>\n",
       "    <tr>\n",
       "      <th>5</th>\n",
       "      <td>2001</td>\n",
       "      <td>13.539363</td>\n",
       "      <td>27.047742</td>\n",
       "      <td>1.125806</td>\n",
       "      <td>65.310753</td>\n",
       "      <td>21.165090</td>\n",
       "      <td>14.724220</td>\n",
       "      <td>77.430674</td>\n",
       "      <td>34</td>\n",
       "      <td>1</td>\n",
       "    </tr>\n",
       "    <tr>\n",
       "      <th>...</th>\n",
       "      <td>...</td>\n",
       "      <td>...</td>\n",
       "      <td>...</td>\n",
       "      <td>...</td>\n",
       "      <td>...</td>\n",
       "      <td>...</td>\n",
       "      <td>...</td>\n",
       "      <td>...</td>\n",
       "      <td>...</td>\n",
       "      <td>...</td>\n",
       "    </tr>\n",
       "    <tr>\n",
       "      <th>230935</th>\n",
       "      <td>2017</td>\n",
       "      <td>1.791759</td>\n",
       "      <td>24.916359</td>\n",
       "      <td>1.022696</td>\n",
       "      <td>72.918779</td>\n",
       "      <td>9.358756</td>\n",
       "      <td>22.064845</td>\n",
       "      <td>87.837759</td>\n",
       "      <td>91</td>\n",
       "      <td>2</td>\n",
       "    </tr>\n",
       "    <tr>\n",
       "      <th>230936</th>\n",
       "      <td>2017</td>\n",
       "      <td>5.198497</td>\n",
       "      <td>25.175461</td>\n",
       "      <td>0.705012</td>\n",
       "      <td>61.695276</td>\n",
       "      <td>8.248041</td>\n",
       "      <td>22.420000</td>\n",
       "      <td>87.320000</td>\n",
       "      <td>91</td>\n",
       "      <td>2</td>\n",
       "    </tr>\n",
       "    <tr>\n",
       "      <th>230937</th>\n",
       "      <td>2017</td>\n",
       "      <td>4.143135</td>\n",
       "      <td>23.105588</td>\n",
       "      <td>0.319528</td>\n",
       "      <td>65.649194</td>\n",
       "      <td>7.725115</td>\n",
       "      <td>24.174599</td>\n",
       "      <td>88.272133</td>\n",
       "      <td>91</td>\n",
       "      <td>2</td>\n",
       "    </tr>\n",
       "    <tr>\n",
       "      <th>230938</th>\n",
       "      <td>2017</td>\n",
       "      <td>8.136811</td>\n",
       "      <td>24.080357</td>\n",
       "      <td>0.675058</td>\n",
       "      <td>60.582373</td>\n",
       "      <td>7.733410</td>\n",
       "      <td>23.388409</td>\n",
       "      <td>87.960676</td>\n",
       "      <td>91</td>\n",
       "      <td>2</td>\n",
       "    </tr>\n",
       "    <tr>\n",
       "      <th>230939</th>\n",
       "      <td>2017</td>\n",
       "      <td>6.959399</td>\n",
       "      <td>24.102247</td>\n",
       "      <td>0.149251</td>\n",
       "      <td>46.248272</td>\n",
       "      <td>7.849136</td>\n",
       "      <td>23.202097</td>\n",
       "      <td>86.322899</td>\n",
       "      <td>91</td>\n",
       "      <td>2</td>\n",
       "    </tr>\n",
       "  </tbody>\n",
       "</table>\n",
       "<p>213518 rows × 10 columns</p>\n",
       "</div>"
      ],
      "text/plain": [
       "        crop_year       area  temperature_2m_mean  ...  longitude  crop_encoded  season_encoded\n",
       "29           2001   7.367077            26.936137  ...  77.430674             5               4\n",
       "30           2001   6.747587            26.936137  ...  77.430674            22               4\n",
       "31           2001   8.464214            26.936137  ...  77.430674            24               4\n",
       "4            2001   8.233769            27.047742  ...  77.430674            28               1\n",
       "5            2001  13.539363            27.047742  ...  77.430674            34               1\n",
       "...           ...        ...                  ...  ...        ...           ...             ...\n",
       "230935       2017   1.791759            24.916359  ...  87.837759            91               2\n",
       "230936       2017   5.198497            25.175461  ...  87.320000            91               2\n",
       "230937       2017   4.143135            23.105588  ...  88.272133            91               2\n",
       "230938       2017   8.136811            24.080357  ...  87.960676            91               2\n",
       "230939       2017   6.959399            24.102247  ...  86.322899            91               2\n",
       "\n",
       "[213518 rows x 10 columns]"
      ]
     },
     "execution_count": 88,
     "metadata": {},
     "output_type": "execute_result"
    }
   ],
   "source": [
    "x_train_for_scaling"
   ]
  },
  {
   "cell_type": "code",
   "execution_count": 89,
   "id": "ac8ffb47-5af9-46de-8199-9bcb1863c684",
   "metadata": {},
   "outputs": [],
   "source": [
    "x_test_for_scaling = x_test_encoding.drop(['crop','season'],axis=1)"
   ]
  },
  {
   "cell_type": "code",
   "execution_count": 90,
   "id": "ab21e49c-1818-462b-875c-5470a6d32215",
   "metadata": {
    "scrolled": true
   },
   "outputs": [
    {
     "data": {
      "text/html": [
       "<div>\n",
       "<style scoped>\n",
       "    .dataframe tbody tr th:only-of-type {\n",
       "        vertical-align: middle;\n",
       "    }\n",
       "\n",
       "    .dataframe tbody tr th {\n",
       "        vertical-align: top;\n",
       "    }\n",
       "\n",
       "    .dataframe thead th {\n",
       "        text-align: right;\n",
       "    }\n",
       "</style>\n",
       "<table border=\"1\" class=\"dataframe\">\n",
       "  <thead>\n",
       "    <tr style=\"text-align: right;\">\n",
       "      <th></th>\n",
       "      <th>crop_year</th>\n",
       "      <th>area</th>\n",
       "      <th>temperature_2m_mean</th>\n",
       "      <th>precipitation_sum</th>\n",
       "      <th>relative_humidity_2m_mean</th>\n",
       "      <th>wind_speed_10m_mean</th>\n",
       "      <th>latitude</th>\n",
       "      <th>longitude</th>\n",
       "      <th>crop_encoded</th>\n",
       "      <th>season_encoded</th>\n",
       "    </tr>\n",
       "  </thead>\n",
       "  <tbody>\n",
       "    <tr>\n",
       "      <th>196293</th>\n",
       "      <td>2018</td>\n",
       "      <td>8.337827</td>\n",
       "      <td>30.524337</td>\n",
       "      <td>1.639104</td>\n",
       "      <td>57.123297</td>\n",
       "      <td>18.537061</td>\n",
       "      <td>14.475294</td>\n",
       "      <td>78.821686</td>\n",
       "      <td>2</td>\n",
       "      <td>1</td>\n",
       "    </tr>\n",
       "    <tr>\n",
       "      <th>196292</th>\n",
       "      <td>2018</td>\n",
       "      <td>6.966967</td>\n",
       "      <td>27.324539</td>\n",
       "      <td>0.095680</td>\n",
       "      <td>65.982719</td>\n",
       "      <td>9.026267</td>\n",
       "      <td>16.291519</td>\n",
       "      <td>80.454159</td>\n",
       "      <td>2</td>\n",
       "      <td>2</td>\n",
       "    </tr>\n",
       "    <tr>\n",
       "      <th>196323</th>\n",
       "      <td>2018</td>\n",
       "      <td>4.418841</td>\n",
       "      <td>28.712652</td>\n",
       "      <td>8.850824</td>\n",
       "      <td>77.973477</td>\n",
       "      <td>9.236416</td>\n",
       "      <td>18.114126</td>\n",
       "      <td>83.411439</td>\n",
       "      <td>4</td>\n",
       "      <td>1</td>\n",
       "    </tr>\n",
       "    <tr>\n",
       "      <th>196322</th>\n",
       "      <td>2018</td>\n",
       "      <td>4.442651</td>\n",
       "      <td>28.544194</td>\n",
       "      <td>9.827921</td>\n",
       "      <td>81.937993</td>\n",
       "      <td>11.404050</td>\n",
       "      <td>18.294931</td>\n",
       "      <td>83.893884</td>\n",
       "      <td>4</td>\n",
       "      <td>1</td>\n",
       "    </tr>\n",
       "    <tr>\n",
       "      <th>196321</th>\n",
       "      <td>2018</td>\n",
       "      <td>0.693147</td>\n",
       "      <td>26.882892</td>\n",
       "      <td>0.226152</td>\n",
       "      <td>66.549539</td>\n",
       "      <td>9.343433</td>\n",
       "      <td>14.717439</td>\n",
       "      <td>79.660506</td>\n",
       "      <td>4</td>\n",
       "      <td>2</td>\n",
       "    </tr>\n",
       "    <tr>\n",
       "      <th>...</th>\n",
       "      <td>...</td>\n",
       "      <td>...</td>\n",
       "      <td>...</td>\n",
       "      <td>...</td>\n",
       "      <td>...</td>\n",
       "      <td>...</td>\n",
       "      <td>...</td>\n",
       "      <td>...</td>\n",
       "      <td>...</td>\n",
       "      <td>...</td>\n",
       "    </tr>\n",
       "    <tr>\n",
       "      <th>249491</th>\n",
       "      <td>2020</td>\n",
       "      <td>9.114160</td>\n",
       "      <td>12.551224</td>\n",
       "      <td>2.734038</td>\n",
       "      <td>60.397664</td>\n",
       "      <td>3.186096</td>\n",
       "      <td>30.729860</td>\n",
       "      <td>78.443420</td>\n",
       "      <td>91</td>\n",
       "      <td>2</td>\n",
       "    </tr>\n",
       "    <tr>\n",
       "      <th>249460</th>\n",
       "      <td>2020</td>\n",
       "      <td>0.693147</td>\n",
       "      <td>12.463553</td>\n",
       "      <td>6.557644</td>\n",
       "      <td>56.127426</td>\n",
       "      <td>3.479982</td>\n",
       "      <td>30.608720</td>\n",
       "      <td>79.065170</td>\n",
       "      <td>87</td>\n",
       "      <td>4</td>\n",
       "    </tr>\n",
       "    <tr>\n",
       "      <th>249485</th>\n",
       "      <td>2020</td>\n",
       "      <td>9.965476</td>\n",
       "      <td>7.998832</td>\n",
       "      <td>2.927197</td>\n",
       "      <td>71.856507</td>\n",
       "      <td>5.530812</td>\n",
       "      <td>29.390529</td>\n",
       "      <td>79.460869</td>\n",
       "      <td>91</td>\n",
       "      <td>2</td>\n",
       "    </tr>\n",
       "    <tr>\n",
       "      <th>249431</th>\n",
       "      <td>2020</td>\n",
       "      <td>3.610918</td>\n",
       "      <td>19.961075</td>\n",
       "      <td>13.932401</td>\n",
       "      <td>85.659140</td>\n",
       "      <td>3.244839</td>\n",
       "      <td>30.008790</td>\n",
       "      <td>79.928018</td>\n",
       "      <td>79</td>\n",
       "      <td>1</td>\n",
       "    </tr>\n",
       "    <tr>\n",
       "      <th>249468</th>\n",
       "      <td>2020</td>\n",
       "      <td>2.302585</td>\n",
       "      <td>23.703710</td>\n",
       "      <td>1.304355</td>\n",
       "      <td>55.102151</td>\n",
       "      <td>5.963441</td>\n",
       "      <td>30.325565</td>\n",
       "      <td>78.043681</td>\n",
       "      <td>89</td>\n",
       "      <td>3</td>\n",
       "    </tr>\n",
       "  </tbody>\n",
       "</table>\n",
       "<p>35974 rows × 10 columns</p>\n",
       "</div>"
      ],
      "text/plain": [
       "        crop_year      area  temperature_2m_mean  precipitation_sum  ...   latitude  longitude  crop_encoded  season_encoded\n",
       "196293       2018  8.337827            30.524337           1.639104  ...  14.475294  78.821686             2               1\n",
       "196292       2018  6.966967            27.324539           0.095680  ...  16.291519  80.454159             2               2\n",
       "196323       2018  4.418841            28.712652           8.850824  ...  18.114126  83.411439             4               1\n",
       "196322       2018  4.442651            28.544194           9.827921  ...  18.294931  83.893884             4               1\n",
       "196321       2018  0.693147            26.882892           0.226152  ...  14.717439  79.660506             4               2\n",
       "...           ...       ...                  ...                ...  ...        ...        ...           ...             ...\n",
       "249491       2020  9.114160            12.551224           2.734038  ...  30.729860  78.443420            91               2\n",
       "249460       2020  0.693147            12.463553           6.557644  ...  30.608720  79.065170            87               4\n",
       "249485       2020  9.965476             7.998832           2.927197  ...  29.390529  79.460869            91               2\n",
       "249431       2020  3.610918            19.961075          13.932401  ...  30.008790  79.928018            79               1\n",
       "249468       2020  2.302585            23.703710           1.304355  ...  30.325565  78.043681            89               3\n",
       "\n",
       "[35974 rows x 10 columns]"
      ]
     },
     "execution_count": 90,
     "metadata": {},
     "output_type": "execute_result"
    }
   ],
   "source": [
    "x_test_for_scaling"
   ]
  },
  {
   "cell_type": "code",
   "execution_count": 91,
   "id": "b91ae785-bb0e-4302-b6c0-34017ddcfab4",
   "metadata": {},
   "outputs": [],
   "source": [
    "scaler = StandardScaler()\n",
    "x_train_scaled = scaler.fit_transform(x_train_for_scaling)"
   ]
  },
  {
   "cell_type": "code",
   "execution_count": 92,
   "id": "c465b55d-4b80-45ba-9951-e688215b7929",
   "metadata": {},
   "outputs": [],
   "source": [
    "x_test_scaled = scaler.transform(x_test_for_scaling)"
   ]
  },
  {
   "cell_type": "code",
   "execution_count": 24,
   "id": "1d74e390-5ec7-4c7f-98a5-fbf5da84408e",
   "metadata": {
    "scrolled": true
   },
   "outputs": [
    {
     "name": "stdout",
     "output_type": "stream",
     "text": [
      "Requirement already satisfied: catboost in c:\\users\\91742\\desktop\\indian_agriculture\\myenv\\lib\\site-packages (1.2.8)\n",
      "Requirement already satisfied: graphviz in c:\\users\\91742\\desktop\\indian_agriculture\\myenv\\lib\\site-packages (from catboost) (0.20.3)\n",
      "Requirement already satisfied: matplotlib in c:\\users\\91742\\desktop\\indian_agriculture\\myenv\\lib\\site-packages (from catboost) (3.10.0)\n",
      "Requirement already satisfied: numpy<3.0,>=1.16.0 in c:\\users\\91742\\desktop\\indian_agriculture\\myenv\\lib\\site-packages (from catboost) (2.1.3)\n",
      "Requirement already satisfied: pandas>=0.24 in c:\\users\\91742\\desktop\\indian_agriculture\\myenv\\lib\\site-packages (from catboost) (2.2.3)\n",
      "Requirement already satisfied: scipy in c:\\users\\91742\\desktop\\indian_agriculture\\myenv\\lib\\site-packages (from catboost) (1.15.3)\n",
      "Requirement already satisfied: plotly in c:\\users\\91742\\desktop\\indian_agriculture\\myenv\\lib\\site-packages (from catboost) (6.1.2)\n",
      "Requirement already satisfied: six in c:\\users\\91742\\desktop\\indian_agriculture\\myenv\\lib\\site-packages (from catboost) (1.17.0)\n",
      "Requirement already satisfied: python-dateutil>=2.8.2 in c:\\users\\91742\\desktop\\indian_agriculture\\myenv\\lib\\site-packages (from pandas>=0.24->catboost) (2.9.0.post0)\n",
      "Requirement already satisfied: pytz>=2020.1 in c:\\users\\91742\\desktop\\indian_agriculture\\myenv\\lib\\site-packages (from pandas>=0.24->catboost) (2024.1)\n",
      "Requirement already satisfied: tzdata>=2022.7 in c:\\users\\91742\\desktop\\indian_agriculture\\myenv\\lib\\site-packages (from pandas>=0.24->catboost) (2023.3)\n",
      "Requirement already satisfied: contourpy>=1.0.1 in c:\\users\\91742\\desktop\\indian_agriculture\\myenv\\lib\\site-packages (from matplotlib->catboost) (1.3.1)\n",
      "Requirement already satisfied: cycler>=0.10 in c:\\users\\91742\\desktop\\indian_agriculture\\myenv\\lib\\site-packages (from matplotlib->catboost) (0.11.0)\n",
      "Requirement already satisfied: fonttools>=4.22.0 in c:\\users\\91742\\desktop\\indian_agriculture\\myenv\\lib\\site-packages (from matplotlib->catboost) (4.55.3)\n",
      "Requirement already satisfied: kiwisolver>=1.3.1 in c:\\users\\91742\\desktop\\indian_agriculture\\myenv\\lib\\site-packages (from matplotlib->catboost) (1.4.8)\n",
      "Requirement already satisfied: packaging>=20.0 in c:\\users\\91742\\desktop\\indian_agriculture\\myenv\\lib\\site-packages (from matplotlib->catboost) (24.2)\n",
      "Requirement already satisfied: pillow>=8 in c:\\users\\91742\\desktop\\indian_agriculture\\myenv\\lib\\site-packages (from matplotlib->catboost) (11.1.0)\n",
      "Requirement already satisfied: pyparsing>=2.3.1 in c:\\users\\91742\\desktop\\indian_agriculture\\myenv\\lib\\site-packages (from matplotlib->catboost) (3.2.0)\n",
      "Requirement already satisfied: narwhals>=1.15.1 in c:\\users\\91742\\desktop\\indian_agriculture\\myenv\\lib\\site-packages (from plotly->catboost) (1.41.0)\n"
     ]
    }
   ],
   "source": [
    "# 1. Catboost model \n",
    "! pip install catboost"
   ]
  },
  {
   "cell_type": "code",
   "execution_count": 93,
   "id": "3af82ecf-7c87-4c7f-9130-8a27838fd14b",
   "metadata": {},
   "outputs": [],
   "source": [
    "from catboost import CatBoostRegressor, Pool\n",
    "from sklearn.metrics import mean_squared_error, r2_score, mean_absolute_error\n",
    "categorical_features = [\"season\", \"crop\"]\n",
    "model = CatBoostRegressor(\n",
    "    iterations=1000,\n",
    "    learning_rate=0.05,\n",
    "    depth=6,\n",
    "    bootstrap_type='No',\n",
    "    eval_metric='RMSE',\n",
    "    cat_features=categorical_features,\n",
    "    verbose=100\n",
    ")"
   ]
  },
  {
   "cell_type": "code",
   "execution_count": 94,
   "id": "19a83af8-da42-4a43-bb38-59b102474fc2",
   "metadata": {},
   "outputs": [
    {
     "name": "stdout",
     "output_type": "stream",
     "text": [
      "0:\tlearn: 1.1562192\ttest: 1.1781804\tbest: 1.1781804 (0)\ttotal: 333ms\tremaining: 5m 32s\n",
      "100:\tlearn: 0.5441324\ttest: 0.5743583\tbest: 0.5743583 (100)\ttotal: 16.1s\tremaining: 2m 23s\n",
      "200:\tlearn: 0.4984861\ttest: 0.5360666\tbest: 0.5360666 (200)\ttotal: 34.3s\tremaining: 2m 16s\n",
      "300:\tlearn: 0.4712372\ttest: 0.5187391\tbest: 0.5187391 (300)\ttotal: 52.8s\tremaining: 2m 2s\n",
      "400:\tlearn: 0.4524458\ttest: 0.5101981\tbest: 0.5101981 (400)\ttotal: 1m 10s\tremaining: 1m 45s\n",
      "500:\tlearn: 0.4392985\ttest: 0.5036628\tbest: 0.5036628 (500)\ttotal: 1m 28s\tremaining: 1m 28s\n",
      "600:\tlearn: 0.4289233\ttest: 0.4984662\tbest: 0.4984662 (600)\ttotal: 1m 47s\tremaining: 1m 11s\n",
      "700:\tlearn: 0.4202298\ttest: 0.4968824\tbest: 0.4968824 (700)\ttotal: 2m 6s\tremaining: 53.8s\n",
      "800:\tlearn: 0.4115986\ttest: 0.4951120\tbest: 0.4951120 (800)\ttotal: 2m 24s\tremaining: 35.9s\n",
      "900:\tlearn: 0.4053708\ttest: 0.4940487\tbest: 0.4940286 (899)\ttotal: 2m 43s\tremaining: 17.9s\n",
      "999:\tlearn: 0.3986339\ttest: 0.4924781\tbest: 0.4922349 (964)\ttotal: 3m 1s\tremaining: 0us\n",
      "\n",
      "bestTest = 0.4922348606\n",
      "bestIteration = 964\n",
      "\n",
      "Shrink model to first 965 iterations.\n"
     ]
    },
    {
     "data": {
      "text/plain": [
       "<catboost.core.CatBoostRegressor at 0x2c4f5fe8040>"
      ]
     },
     "execution_count": 94,
     "metadata": {},
     "output_type": "execute_result"
    }
   ],
   "source": [
    "model.fit(x_train, y_train, eval_set=(x_test, y_test), use_best_model=True, early_stopping_rounds=50)"
   ]
  },
  {
   "cell_type": "code",
   "execution_count": 95,
   "id": "29314552-d33c-44e6-aef5-e965f5ac4fc0",
   "metadata": {},
   "outputs": [
    {
     "data": {
      "text/plain": [
       "964"
      ]
     },
     "execution_count": 95,
     "metadata": {},
     "output_type": "execute_result"
    }
   ],
   "source": [
    "model.best_iteration_"
   ]
  },
  {
   "cell_type": "code",
   "execution_count": 96,
   "id": "67c00982-ac2c-4ba8-a4a3-648d487e2f54",
   "metadata": {},
   "outputs": [
    {
     "data": {
      "text/plain": [
       "{'learn': {'RMSE': 0.39863390108307817},\n",
       " 'validation': {'RMSE': 0.492234860567333}}"
      ]
     },
     "execution_count": 96,
     "metadata": {},
     "output_type": "execute_result"
    }
   ],
   "source": [
    "model.best_score_"
   ]
  },
  {
   "cell_type": "code",
   "execution_count": 97,
   "id": "14a3b115-81da-4328-9b3f-32cdce7a7a4b",
   "metadata": {},
   "outputs": [],
   "source": [
    "y_test_predict = model.predict(x_test)"
   ]
  },
  {
   "cell_type": "code",
   "execution_count": 98,
   "id": "c30af704-cbcd-4fc8-8cc8-1866245acf5b",
   "metadata": {},
   "outputs": [],
   "source": [
    "y_train_predict = model.predict(x_train)"
   ]
  },
  {
   "cell_type": "code",
   "execution_count": 99,
   "id": "b8fb3459-987c-4949-9508-b0586f360354",
   "metadata": {},
   "outputs": [
    {
     "data": {
      "text/plain": [
       "(0.24229515799784115, 0.15669704318696648)"
      ]
     },
     "execution_count": 99,
     "metadata": {},
     "output_type": "execute_result"
    }
   ],
   "source": [
    "test_score = mean_squared_error(y_test,y_test_predict)\n",
    "train_score = mean_squared_error(y_train,y_train_predict)\n",
    "test_score,train_score"
   ]
  },
  {
   "cell_type": "code",
   "execution_count": 100,
   "id": "bcdd2b6b-f947-4a30-b3bc-dcf87718f95d",
   "metadata": {},
   "outputs": [
    {
     "data": {
      "text/plain": [
       "(0.8344231539413826, 0.8894671670044105)"
      ]
     },
     "execution_count": 100,
     "metadata": {},
     "output_type": "execute_result"
    }
   ],
   "source": [
    "test_r2 = r2_score(y_test,y_test_predict)\n",
    "train_r2 = r2_score(y_train,y_train_predict)\n",
    "test_r2,train_r2"
   ]
  },
  {
   "cell_type": "code",
   "execution_count": 101,
   "id": "9d1a0128-6937-443b-8ca2-b7eed45dc41c",
   "metadata": {},
   "outputs": [],
   "source": [
    "train_pool = Pool(data=x_train, label=y_train, cat_features=categorical_features)\n",
    "test_pool = Pool(data=x_test, label=y_test, cat_features=categorical_features)\n"
   ]
  },
  {
   "cell_type": "code",
   "execution_count": 102,
   "id": "de37ef27-bc81-49f5-8e9f-91604069314a",
   "metadata": {},
   "outputs": [],
   "source": [
    "model_pool = CatBoostRegressor(\n",
    "    iterations=1000,\n",
    "    learning_rate=0.1,\n",
    "    depth=6,\n",
    "    eval_metric='RMSE',\n",
    "    verbose=100,\n",
    "    early_stopping_rounds=50\n",
    ")"
   ]
  },
  {
   "cell_type": "code",
   "execution_count": 103,
   "id": "61ebac85-1b6b-4b15-9403-dc245417eb20",
   "metadata": {},
   "outputs": [
    {
     "name": "stdout",
     "output_type": "stream",
     "text": [
      "0:\tlearn: 1.1219263\ttest: 1.1467497\tbest: 1.1467497 (0)\ttotal: 190ms\tremaining: 3m 9s\n",
      "100:\tlearn: 0.4941229\ttest: 0.5383037\tbest: 0.5383037 (100)\ttotal: 17.3s\tremaining: 2m 34s\n",
      "200:\tlearn: 0.4525156\ttest: 0.5126138\tbest: 0.5126138 (200)\ttotal: 35s\tremaining: 2m 19s\n",
      "300:\tlearn: 0.4265129\ttest: 0.5009766\tbest: 0.5009766 (300)\ttotal: 53s\tremaining: 2m 3s\n",
      "400:\tlearn: 0.4080265\ttest: 0.4961881\tbest: 0.4960502 (378)\ttotal: 1m 11s\tremaining: 1m 47s\n",
      "500:\tlearn: 0.3955195\ttest: 0.4942149\tbest: 0.4937850 (452)\ttotal: 1m 30s\tremaining: 1m 29s\n",
      "Stopped by overfitting detector  (50 iterations wait)\n",
      "\n",
      "bestTest = 0.4937849753\n",
      "bestIteration = 452\n",
      "\n",
      "Shrink model to first 453 iterations.\n"
     ]
    },
    {
     "data": {
      "text/plain": [
       "<catboost.core.CatBoostRegressor at 0x2c4f5fd4e50>"
      ]
     },
     "execution_count": 103,
     "metadata": {},
     "output_type": "execute_result"
    }
   ],
   "source": [
    "model_pool.fit(train_pool, eval_set=test_pool, use_best_model=True)"
   ]
  },
  {
   "cell_type": "code",
   "execution_count": 104,
   "id": "d9f94fe9-edf6-4652-9833-c8e5488c9182",
   "metadata": {},
   "outputs": [
    {
     "data": {
      "text/plain": [
       "{'learn': {'RMSE': 0.3953887533804206},\n",
       " 'validation': {'RMSE': 0.49378497530082255}}"
      ]
     },
     "execution_count": 104,
     "metadata": {},
     "output_type": "execute_result"
    }
   ],
   "source": [
    "model_pool.best_score_\n"
   ]
  },
  {
   "cell_type": "code",
   "execution_count": 105,
   "id": "376b0a52-7363-4ecc-82aa-41295c49f5e9",
   "metadata": {},
   "outputs": [
    {
     "data": {
      "text/plain": [
       "(0.2438236020541351, 0.15673922163963072)"
      ]
     },
     "execution_count": 105,
     "metadata": {},
     "output_type": "execute_result"
    }
   ],
   "source": [
    "y_test_pool_predict = model_pool.predict(test_pool) \n",
    "y_train_pool_predict = model_pool.predict(train_pool)\n",
    "test_pool_score = mean_squared_error(y_test,y_test_pool_predict)\n",
    "train_pool_score = mean_squared_error(y_train,y_train_pool_predict)\n",
    "test_pool_score,train_pool_score"
   ]
  },
  {
   "cell_type": "code",
   "execution_count": 106,
   "id": "04370ddd-00f4-4eaf-b347-c52edf1120d6",
   "metadata": {},
   "outputs": [
    {
     "data": {
      "text/plain": [
       "(0.83337866362507, 0.8894374146633993)"
      ]
     },
     "execution_count": 106,
     "metadata": {},
     "output_type": "execute_result"
    }
   ],
   "source": [
    "test_r2 = r2_score(y_test,y_test_pool_predict)\n",
    "train_r2 = r2_score(y_train,y_train_pool_predict)\n",
    "test_r2,train_r2"
   ]
  },
  {
   "cell_type": "code",
   "execution_count": 25,
   "id": "77a79d47-5a86-4687-8174-e08ced5457fa",
   "metadata": {},
   "outputs": [
    {
     "name": "stdout",
     "output_type": "stream",
     "text": [
      "Collecting lightgbm\n",
      "  Downloading lightgbm-4.6.0-py3-none-win_amd64.whl.metadata (17 kB)\n",
      "Requirement already satisfied: numpy>=1.17.0 in c:\\users\\91742\\desktop\\indian_agriculture\\myenv\\lib\\site-packages (from lightgbm) (2.2.4)\n",
      "Requirement already satisfied: scipy in c:\\users\\91742\\desktop\\indian_agriculture\\myenv\\lib\\site-packages (from lightgbm) (1.15.3)\n",
      "Downloading lightgbm-4.6.0-py3-none-win_amd64.whl (1.5 MB)\n",
      "   ---------------------------------------- 0.0/1.5 MB ? eta -:--:--\n",
      "   --------------------- ------------------ 0.8/1.5 MB 4.8 MB/s eta 0:00:01\n",
      "   ---------------------------------------- 1.5/1.5 MB 4.8 MB/s eta 0:00:00\n",
      "Installing collected packages: lightgbm\n",
      "Successfully installed lightgbm-4.6.0\n"
     ]
    }
   ],
   "source": [
    "# 2. LightGBM \n",
    "! pip install lightgbm"
   ]
  },
  {
   "cell_type": "code",
   "execution_count": 107,
   "id": "a2d82129-1e3f-4740-8870-050e57d313b9",
   "metadata": {},
   "outputs": [],
   "source": [
    "import lightgbm as lgb\n",
    "from sklearn.metrics import r2_score, root_mean_squared_error"
   ]
  },
  {
   "cell_type": "code",
   "execution_count": 108,
   "id": "b6475889-bb17-4a66-89fb-9e322a826523",
   "metadata": {},
   "outputs": [],
   "source": [
    "#Convert categorical columns to 'category' dtype\n",
    "for col in ['crop', 'season']:\n",
    "    x_train[col] = x_train[col].astype('category')\n",
    "    x_test[col] = x_test[col].astype('category')"
   ]
  },
  {
   "cell_type": "code",
   "execution_count": 109,
   "id": "3f198e66-526c-4c7a-a9d7-434b721fd72b",
   "metadata": {},
   "outputs": [],
   "source": [
    "model_lgbm = lgb.LGBMRegressor(\n",
    "    objective='regression',\n",
    "    n_estimators=100,\n",
    "    learning_rate=0.1,\n",
    "    \n",
    ")"
   ]
  },
  {
   "cell_type": "code",
   "execution_count": 110,
   "id": "6a533db3-4d2b-45af-a70f-cb8046f52c72",
   "metadata": {},
   "outputs": [
    {
     "data": {
      "text/html": [
       "<div>\n",
       "<style scoped>\n",
       "    .dataframe tbody tr th:only-of-type {\n",
       "        vertical-align: middle;\n",
       "    }\n",
       "\n",
       "    .dataframe tbody tr th {\n",
       "        vertical-align: top;\n",
       "    }\n",
       "\n",
       "    .dataframe thead th {\n",
       "        text-align: right;\n",
       "    }\n",
       "</style>\n",
       "<table border=\"1\" class=\"dataframe\">\n",
       "  <thead>\n",
       "    <tr style=\"text-align: right;\">\n",
       "      <th></th>\n",
       "      <th>crop_year</th>\n",
       "      <th>season</th>\n",
       "      <th>crop</th>\n",
       "      <th>area</th>\n",
       "      <th>temperature_2m_mean</th>\n",
       "      <th>precipitation_sum</th>\n",
       "      <th>relative_humidity_2m_mean</th>\n",
       "      <th>wind_speed_10m_mean</th>\n",
       "      <th>latitude</th>\n",
       "      <th>longitude</th>\n",
       "    </tr>\n",
       "  </thead>\n",
       "  <tbody>\n",
       "    <tr>\n",
       "      <th>29</th>\n",
       "      <td>2001</td>\n",
       "      <td>wholeyear</td>\n",
       "      <td>banana</td>\n",
       "      <td>7.367077</td>\n",
       "      <td>26.936137</td>\n",
       "      <td>1.614875</td>\n",
       "      <td>58.895437</td>\n",
       "      <td>13.118321</td>\n",
       "      <td>14.724220</td>\n",
       "      <td>77.430674</td>\n",
       "    </tr>\n",
       "    <tr>\n",
       "      <th>30</th>\n",
       "      <td>2001</td>\n",
       "      <td>wholeyear</td>\n",
       "      <td>coconut</td>\n",
       "      <td>6.747587</td>\n",
       "      <td>26.936137</td>\n",
       "      <td>1.614875</td>\n",
       "      <td>58.895437</td>\n",
       "      <td>13.118321</td>\n",
       "      <td>14.724220</td>\n",
       "      <td>77.430674</td>\n",
       "    </tr>\n",
       "    <tr>\n",
       "      <th>31</th>\n",
       "      <td>2001</td>\n",
       "      <td>wholeyear</td>\n",
       "      <td>coriander</td>\n",
       "      <td>8.464214</td>\n",
       "      <td>26.936137</td>\n",
       "      <td>1.614875</td>\n",
       "      <td>58.895437</td>\n",
       "      <td>13.118321</td>\n",
       "      <td>14.724220</td>\n",
       "      <td>77.430674</td>\n",
       "    </tr>\n",
       "    <tr>\n",
       "      <th>4</th>\n",
       "      <td>2001</td>\n",
       "      <td>kharif</td>\n",
       "      <td>drychillies</td>\n",
       "      <td>8.233769</td>\n",
       "      <td>27.047742</td>\n",
       "      <td>1.125806</td>\n",
       "      <td>65.310753</td>\n",
       "      <td>21.165090</td>\n",
       "      <td>14.724220</td>\n",
       "      <td>77.430674</td>\n",
       "    </tr>\n",
       "    <tr>\n",
       "      <th>5</th>\n",
       "      <td>2001</td>\n",
       "      <td>kharif</td>\n",
       "      <td>groundnut</td>\n",
       "      <td>13.539363</td>\n",
       "      <td>27.047742</td>\n",
       "      <td>1.125806</td>\n",
       "      <td>65.310753</td>\n",
       "      <td>21.165090</td>\n",
       "      <td>14.724220</td>\n",
       "      <td>77.430674</td>\n",
       "    </tr>\n",
       "    <tr>\n",
       "      <th>...</th>\n",
       "      <td>...</td>\n",
       "      <td>...</td>\n",
       "      <td>...</td>\n",
       "      <td>...</td>\n",
       "      <td>...</td>\n",
       "      <td>...</td>\n",
       "      <td>...</td>\n",
       "      <td>...</td>\n",
       "      <td>...</td>\n",
       "      <td>...</td>\n",
       "    </tr>\n",
       "    <tr>\n",
       "      <th>230935</th>\n",
       "      <td>2017</td>\n",
       "      <td>rabi</td>\n",
       "      <td>wheat</td>\n",
       "      <td>1.791759</td>\n",
       "      <td>24.916359</td>\n",
       "      <td>1.022696</td>\n",
       "      <td>72.918779</td>\n",
       "      <td>9.358756</td>\n",
       "      <td>22.064845</td>\n",
       "      <td>87.837759</td>\n",
       "    </tr>\n",
       "    <tr>\n",
       "      <th>230936</th>\n",
       "      <td>2017</td>\n",
       "      <td>rabi</td>\n",
       "      <td>wheat</td>\n",
       "      <td>5.198497</td>\n",
       "      <td>25.175461</td>\n",
       "      <td>0.705012</td>\n",
       "      <td>61.695276</td>\n",
       "      <td>8.248041</td>\n",
       "      <td>22.420000</td>\n",
       "      <td>87.320000</td>\n",
       "    </tr>\n",
       "    <tr>\n",
       "      <th>230937</th>\n",
       "      <td>2017</td>\n",
       "      <td>rabi</td>\n",
       "      <td>wheat</td>\n",
       "      <td>4.143135</td>\n",
       "      <td>23.105588</td>\n",
       "      <td>0.319528</td>\n",
       "      <td>65.649194</td>\n",
       "      <td>7.725115</td>\n",
       "      <td>24.174599</td>\n",
       "      <td>88.272133</td>\n",
       "    </tr>\n",
       "    <tr>\n",
       "      <th>230938</th>\n",
       "      <td>2017</td>\n",
       "      <td>rabi</td>\n",
       "      <td>wheat</td>\n",
       "      <td>8.136811</td>\n",
       "      <td>24.080357</td>\n",
       "      <td>0.675058</td>\n",
       "      <td>60.582373</td>\n",
       "      <td>7.733410</td>\n",
       "      <td>23.388409</td>\n",
       "      <td>87.960676</td>\n",
       "    </tr>\n",
       "    <tr>\n",
       "      <th>230939</th>\n",
       "      <td>2017</td>\n",
       "      <td>rabi</td>\n",
       "      <td>wheat</td>\n",
       "      <td>6.959399</td>\n",
       "      <td>24.102247</td>\n",
       "      <td>0.149251</td>\n",
       "      <td>46.248272</td>\n",
       "      <td>7.849136</td>\n",
       "      <td>23.202097</td>\n",
       "      <td>86.322899</td>\n",
       "    </tr>\n",
       "  </tbody>\n",
       "</table>\n",
       "<p>213518 rows × 10 columns</p>\n",
       "</div>"
      ],
      "text/plain": [
       "        crop_year     season         crop  ...  wind_speed_10m_mean   latitude  longitude\n",
       "29           2001  wholeyear       banana  ...            13.118321  14.724220  77.430674\n",
       "30           2001  wholeyear      coconut  ...            13.118321  14.724220  77.430674\n",
       "31           2001  wholeyear    coriander  ...            13.118321  14.724220  77.430674\n",
       "4            2001     kharif  drychillies  ...            21.165090  14.724220  77.430674\n",
       "5            2001     kharif    groundnut  ...            21.165090  14.724220  77.430674\n",
       "...           ...        ...          ...  ...                  ...        ...        ...\n",
       "230935       2017       rabi        wheat  ...             9.358756  22.064845  87.837759\n",
       "230936       2017       rabi        wheat  ...             8.248041  22.420000  87.320000\n",
       "230937       2017       rabi        wheat  ...             7.725115  24.174599  88.272133\n",
       "230938       2017       rabi        wheat  ...             7.733410  23.388409  87.960676\n",
       "230939       2017       rabi        wheat  ...             7.849136  23.202097  86.322899\n",
       "\n",
       "[213518 rows x 10 columns]"
      ]
     },
     "execution_count": 110,
     "metadata": {},
     "output_type": "execute_result"
    }
   ],
   "source": [
    "x_train"
   ]
  },
  {
   "cell_type": "code",
   "execution_count": 111,
   "id": "ce567dd4-8803-4a75-9e7a-fb5b79e004cd",
   "metadata": {},
   "outputs": [
    {
     "name": "stdout",
     "output_type": "stream",
     "text": [
      "[LightGBM] [Info] Auto-choosing row-wise multi-threading, the overhead of testing was 0.004340 seconds.\n",
      "You can set `force_row_wise=true` to remove the overhead.\n",
      "And if memory is not enough, you can set `force_col_wise=true`.\n",
      "[LightGBM] [Info] Total Bins 1901\n",
      "[LightGBM] [Info] Number of data points in the train set: 213518, number of used features: 10\n",
      "[LightGBM] [Info] Start training from score 1.184515\n"
     ]
    },
    {
     "data": {
      "text/html": [
       "<style>#sk-container-id-1 {\n",
       "  /* Definition of color scheme common for light and dark mode */\n",
       "  --sklearn-color-text: #000;\n",
       "  --sklearn-color-text-muted: #666;\n",
       "  --sklearn-color-line: gray;\n",
       "  /* Definition of color scheme for unfitted estimators */\n",
       "  --sklearn-color-unfitted-level-0: #fff5e6;\n",
       "  --sklearn-color-unfitted-level-1: #f6e4d2;\n",
       "  --sklearn-color-unfitted-level-2: #ffe0b3;\n",
       "  --sklearn-color-unfitted-level-3: chocolate;\n",
       "  /* Definition of color scheme for fitted estimators */\n",
       "  --sklearn-color-fitted-level-0: #f0f8ff;\n",
       "  --sklearn-color-fitted-level-1: #d4ebff;\n",
       "  --sklearn-color-fitted-level-2: #b3dbfd;\n",
       "  --sklearn-color-fitted-level-3: cornflowerblue;\n",
       "\n",
       "  /* Specific color for light theme */\n",
       "  --sklearn-color-text-on-default-background: var(--sg-text-color, var(--theme-code-foreground, var(--jp-content-font-color1, black)));\n",
       "  --sklearn-color-background: var(--sg-background-color, var(--theme-background, var(--jp-layout-color0, white)));\n",
       "  --sklearn-color-border-box: var(--sg-text-color, var(--theme-code-foreground, var(--jp-content-font-color1, black)));\n",
       "  --sklearn-color-icon: #696969;\n",
       "\n",
       "  @media (prefers-color-scheme: dark) {\n",
       "    /* Redefinition of color scheme for dark theme */\n",
       "    --sklearn-color-text-on-default-background: var(--sg-text-color, var(--theme-code-foreground, var(--jp-content-font-color1, white)));\n",
       "    --sklearn-color-background: var(--sg-background-color, var(--theme-background, var(--jp-layout-color0, #111)));\n",
       "    --sklearn-color-border-box: var(--sg-text-color, var(--theme-code-foreground, var(--jp-content-font-color1, white)));\n",
       "    --sklearn-color-icon: #878787;\n",
       "  }\n",
       "}\n",
       "\n",
       "#sk-container-id-1 {\n",
       "  color: var(--sklearn-color-text);\n",
       "}\n",
       "\n",
       "#sk-container-id-1 pre {\n",
       "  padding: 0;\n",
       "}\n",
       "\n",
       "#sk-container-id-1 input.sk-hidden--visually {\n",
       "  border: 0;\n",
       "  clip: rect(1px 1px 1px 1px);\n",
       "  clip: rect(1px, 1px, 1px, 1px);\n",
       "  height: 1px;\n",
       "  margin: -1px;\n",
       "  overflow: hidden;\n",
       "  padding: 0;\n",
       "  position: absolute;\n",
       "  width: 1px;\n",
       "}\n",
       "\n",
       "#sk-container-id-1 div.sk-dashed-wrapped {\n",
       "  border: 1px dashed var(--sklearn-color-line);\n",
       "  margin: 0 0.4em 0.5em 0.4em;\n",
       "  box-sizing: border-box;\n",
       "  padding-bottom: 0.4em;\n",
       "  background-color: var(--sklearn-color-background);\n",
       "}\n",
       "\n",
       "#sk-container-id-1 div.sk-container {\n",
       "  /* jupyter's `normalize.less` sets `[hidden] { display: none; }`\n",
       "     but bootstrap.min.css set `[hidden] { display: none !important; }`\n",
       "     so we also need the `!important` here to be able to override the\n",
       "     default hidden behavior on the sphinx rendered scikit-learn.org.\n",
       "     See: https://github.com/scikit-learn/scikit-learn/issues/21755 */\n",
       "  display: inline-block !important;\n",
       "  position: relative;\n",
       "}\n",
       "\n",
       "#sk-container-id-1 div.sk-text-repr-fallback {\n",
       "  display: none;\n",
       "}\n",
       "\n",
       "div.sk-parallel-item,\n",
       "div.sk-serial,\n",
       "div.sk-item {\n",
       "  /* draw centered vertical line to link estimators */\n",
       "  background-image: linear-gradient(var(--sklearn-color-text-on-default-background), var(--sklearn-color-text-on-default-background));\n",
       "  background-size: 2px 100%;\n",
       "  background-repeat: no-repeat;\n",
       "  background-position: center center;\n",
       "}\n",
       "\n",
       "/* Parallel-specific style estimator block */\n",
       "\n",
       "#sk-container-id-1 div.sk-parallel-item::after {\n",
       "  content: \"\";\n",
       "  width: 100%;\n",
       "  border-bottom: 2px solid var(--sklearn-color-text-on-default-background);\n",
       "  flex-grow: 1;\n",
       "}\n",
       "\n",
       "#sk-container-id-1 div.sk-parallel {\n",
       "  display: flex;\n",
       "  align-items: stretch;\n",
       "  justify-content: center;\n",
       "  background-color: var(--sklearn-color-background);\n",
       "  position: relative;\n",
       "}\n",
       "\n",
       "#sk-container-id-1 div.sk-parallel-item {\n",
       "  display: flex;\n",
       "  flex-direction: column;\n",
       "}\n",
       "\n",
       "#sk-container-id-1 div.sk-parallel-item:first-child::after {\n",
       "  align-self: flex-end;\n",
       "  width: 50%;\n",
       "}\n",
       "\n",
       "#sk-container-id-1 div.sk-parallel-item:last-child::after {\n",
       "  align-self: flex-start;\n",
       "  width: 50%;\n",
       "}\n",
       "\n",
       "#sk-container-id-1 div.sk-parallel-item:only-child::after {\n",
       "  width: 0;\n",
       "}\n",
       "\n",
       "/* Serial-specific style estimator block */\n",
       "\n",
       "#sk-container-id-1 div.sk-serial {\n",
       "  display: flex;\n",
       "  flex-direction: column;\n",
       "  align-items: center;\n",
       "  background-color: var(--sklearn-color-background);\n",
       "  padding-right: 1em;\n",
       "  padding-left: 1em;\n",
       "}\n",
       "\n",
       "\n",
       "/* Toggleable style: style used for estimator/Pipeline/ColumnTransformer box that is\n",
       "clickable and can be expanded/collapsed.\n",
       "- Pipeline and ColumnTransformer use this feature and define the default style\n",
       "- Estimators will overwrite some part of the style using the `sk-estimator` class\n",
       "*/\n",
       "\n",
       "/* Pipeline and ColumnTransformer style (default) */\n",
       "\n",
       "#sk-container-id-1 div.sk-toggleable {\n",
       "  /* Default theme specific background. It is overwritten whether we have a\n",
       "  specific estimator or a Pipeline/ColumnTransformer */\n",
       "  background-color: var(--sklearn-color-background);\n",
       "}\n",
       "\n",
       "/* Toggleable label */\n",
       "#sk-container-id-1 label.sk-toggleable__label {\n",
       "  cursor: pointer;\n",
       "  display: flex;\n",
       "  width: 100%;\n",
       "  margin-bottom: 0;\n",
       "  padding: 0.5em;\n",
       "  box-sizing: border-box;\n",
       "  text-align: center;\n",
       "  align-items: start;\n",
       "  justify-content: space-between;\n",
       "  gap: 0.5em;\n",
       "}\n",
       "\n",
       "#sk-container-id-1 label.sk-toggleable__label .caption {\n",
       "  font-size: 0.6rem;\n",
       "  font-weight: lighter;\n",
       "  color: var(--sklearn-color-text-muted);\n",
       "}\n",
       "\n",
       "#sk-container-id-1 label.sk-toggleable__label-arrow:before {\n",
       "  /* Arrow on the left of the label */\n",
       "  content: \"▸\";\n",
       "  float: left;\n",
       "  margin-right: 0.25em;\n",
       "  color: var(--sklearn-color-icon);\n",
       "}\n",
       "\n",
       "#sk-container-id-1 label.sk-toggleable__label-arrow:hover:before {\n",
       "  color: var(--sklearn-color-text);\n",
       "}\n",
       "\n",
       "/* Toggleable content - dropdown */\n",
       "\n",
       "#sk-container-id-1 div.sk-toggleable__content {\n",
       "  max-height: 0;\n",
       "  max-width: 0;\n",
       "  overflow: hidden;\n",
       "  text-align: left;\n",
       "  /* unfitted */\n",
       "  background-color: var(--sklearn-color-unfitted-level-0);\n",
       "}\n",
       "\n",
       "#sk-container-id-1 div.sk-toggleable__content.fitted {\n",
       "  /* fitted */\n",
       "  background-color: var(--sklearn-color-fitted-level-0);\n",
       "}\n",
       "\n",
       "#sk-container-id-1 div.sk-toggleable__content pre {\n",
       "  margin: 0.2em;\n",
       "  border-radius: 0.25em;\n",
       "  color: var(--sklearn-color-text);\n",
       "  /* unfitted */\n",
       "  background-color: var(--sklearn-color-unfitted-level-0);\n",
       "}\n",
       "\n",
       "#sk-container-id-1 div.sk-toggleable__content.fitted pre {\n",
       "  /* unfitted */\n",
       "  background-color: var(--sklearn-color-fitted-level-0);\n",
       "}\n",
       "\n",
       "#sk-container-id-1 input.sk-toggleable__control:checked~div.sk-toggleable__content {\n",
       "  /* Expand drop-down */\n",
       "  max-height: 200px;\n",
       "  max-width: 100%;\n",
       "  overflow: auto;\n",
       "}\n",
       "\n",
       "#sk-container-id-1 input.sk-toggleable__control:checked~label.sk-toggleable__label-arrow:before {\n",
       "  content: \"▾\";\n",
       "}\n",
       "\n",
       "/* Pipeline/ColumnTransformer-specific style */\n",
       "\n",
       "#sk-container-id-1 div.sk-label input.sk-toggleable__control:checked~label.sk-toggleable__label {\n",
       "  color: var(--sklearn-color-text);\n",
       "  background-color: var(--sklearn-color-unfitted-level-2);\n",
       "}\n",
       "\n",
       "#sk-container-id-1 div.sk-label.fitted input.sk-toggleable__control:checked~label.sk-toggleable__label {\n",
       "  background-color: var(--sklearn-color-fitted-level-2);\n",
       "}\n",
       "\n",
       "/* Estimator-specific style */\n",
       "\n",
       "/* Colorize estimator box */\n",
       "#sk-container-id-1 div.sk-estimator input.sk-toggleable__control:checked~label.sk-toggleable__label {\n",
       "  /* unfitted */\n",
       "  background-color: var(--sklearn-color-unfitted-level-2);\n",
       "}\n",
       "\n",
       "#sk-container-id-1 div.sk-estimator.fitted input.sk-toggleable__control:checked~label.sk-toggleable__label {\n",
       "  /* fitted */\n",
       "  background-color: var(--sklearn-color-fitted-level-2);\n",
       "}\n",
       "\n",
       "#sk-container-id-1 div.sk-label label.sk-toggleable__label,\n",
       "#sk-container-id-1 div.sk-label label {\n",
       "  /* The background is the default theme color */\n",
       "  color: var(--sklearn-color-text-on-default-background);\n",
       "}\n",
       "\n",
       "/* On hover, darken the color of the background */\n",
       "#sk-container-id-1 div.sk-label:hover label.sk-toggleable__label {\n",
       "  color: var(--sklearn-color-text);\n",
       "  background-color: var(--sklearn-color-unfitted-level-2);\n",
       "}\n",
       "\n",
       "/* Label box, darken color on hover, fitted */\n",
       "#sk-container-id-1 div.sk-label.fitted:hover label.sk-toggleable__label.fitted {\n",
       "  color: var(--sklearn-color-text);\n",
       "  background-color: var(--sklearn-color-fitted-level-2);\n",
       "}\n",
       "\n",
       "/* Estimator label */\n",
       "\n",
       "#sk-container-id-1 div.sk-label label {\n",
       "  font-family: monospace;\n",
       "  font-weight: bold;\n",
       "  display: inline-block;\n",
       "  line-height: 1.2em;\n",
       "}\n",
       "\n",
       "#sk-container-id-1 div.sk-label-container {\n",
       "  text-align: center;\n",
       "}\n",
       "\n",
       "/* Estimator-specific */\n",
       "#sk-container-id-1 div.sk-estimator {\n",
       "  font-family: monospace;\n",
       "  border: 1px dotted var(--sklearn-color-border-box);\n",
       "  border-radius: 0.25em;\n",
       "  box-sizing: border-box;\n",
       "  margin-bottom: 0.5em;\n",
       "  /* unfitted */\n",
       "  background-color: var(--sklearn-color-unfitted-level-0);\n",
       "}\n",
       "\n",
       "#sk-container-id-1 div.sk-estimator.fitted {\n",
       "  /* fitted */\n",
       "  background-color: var(--sklearn-color-fitted-level-0);\n",
       "}\n",
       "\n",
       "/* on hover */\n",
       "#sk-container-id-1 div.sk-estimator:hover {\n",
       "  /* unfitted */\n",
       "  background-color: var(--sklearn-color-unfitted-level-2);\n",
       "}\n",
       "\n",
       "#sk-container-id-1 div.sk-estimator.fitted:hover {\n",
       "  /* fitted */\n",
       "  background-color: var(--sklearn-color-fitted-level-2);\n",
       "}\n",
       "\n",
       "/* Specification for estimator info (e.g. \"i\" and \"?\") */\n",
       "\n",
       "/* Common style for \"i\" and \"?\" */\n",
       "\n",
       ".sk-estimator-doc-link,\n",
       "a:link.sk-estimator-doc-link,\n",
       "a:visited.sk-estimator-doc-link {\n",
       "  float: right;\n",
       "  font-size: smaller;\n",
       "  line-height: 1em;\n",
       "  font-family: monospace;\n",
       "  background-color: var(--sklearn-color-background);\n",
       "  border-radius: 1em;\n",
       "  height: 1em;\n",
       "  width: 1em;\n",
       "  text-decoration: none !important;\n",
       "  margin-left: 0.5em;\n",
       "  text-align: center;\n",
       "  /* unfitted */\n",
       "  border: var(--sklearn-color-unfitted-level-1) 1pt solid;\n",
       "  color: var(--sklearn-color-unfitted-level-1);\n",
       "}\n",
       "\n",
       ".sk-estimator-doc-link.fitted,\n",
       "a:link.sk-estimator-doc-link.fitted,\n",
       "a:visited.sk-estimator-doc-link.fitted {\n",
       "  /* fitted */\n",
       "  border: var(--sklearn-color-fitted-level-1) 1pt solid;\n",
       "  color: var(--sklearn-color-fitted-level-1);\n",
       "}\n",
       "\n",
       "/* On hover */\n",
       "div.sk-estimator:hover .sk-estimator-doc-link:hover,\n",
       ".sk-estimator-doc-link:hover,\n",
       "div.sk-label-container:hover .sk-estimator-doc-link:hover,\n",
       ".sk-estimator-doc-link:hover {\n",
       "  /* unfitted */\n",
       "  background-color: var(--sklearn-color-unfitted-level-3);\n",
       "  color: var(--sklearn-color-background);\n",
       "  text-decoration: none;\n",
       "}\n",
       "\n",
       "div.sk-estimator.fitted:hover .sk-estimator-doc-link.fitted:hover,\n",
       ".sk-estimator-doc-link.fitted:hover,\n",
       "div.sk-label-container:hover .sk-estimator-doc-link.fitted:hover,\n",
       ".sk-estimator-doc-link.fitted:hover {\n",
       "  /* fitted */\n",
       "  background-color: var(--sklearn-color-fitted-level-3);\n",
       "  color: var(--sklearn-color-background);\n",
       "  text-decoration: none;\n",
       "}\n",
       "\n",
       "/* Span, style for the box shown on hovering the info icon */\n",
       ".sk-estimator-doc-link span {\n",
       "  display: none;\n",
       "  z-index: 9999;\n",
       "  position: relative;\n",
       "  font-weight: normal;\n",
       "  right: .2ex;\n",
       "  padding: .5ex;\n",
       "  margin: .5ex;\n",
       "  width: min-content;\n",
       "  min-width: 20ex;\n",
       "  max-width: 50ex;\n",
       "  color: var(--sklearn-color-text);\n",
       "  box-shadow: 2pt 2pt 4pt #999;\n",
       "  /* unfitted */\n",
       "  background: var(--sklearn-color-unfitted-level-0);\n",
       "  border: .5pt solid var(--sklearn-color-unfitted-level-3);\n",
       "}\n",
       "\n",
       ".sk-estimator-doc-link.fitted span {\n",
       "  /* fitted */\n",
       "  background: var(--sklearn-color-fitted-level-0);\n",
       "  border: var(--sklearn-color-fitted-level-3);\n",
       "}\n",
       "\n",
       ".sk-estimator-doc-link:hover span {\n",
       "  display: block;\n",
       "}\n",
       "\n",
       "/* \"?\"-specific style due to the `<a>` HTML tag */\n",
       "\n",
       "#sk-container-id-1 a.estimator_doc_link {\n",
       "  float: right;\n",
       "  font-size: 1rem;\n",
       "  line-height: 1em;\n",
       "  font-family: monospace;\n",
       "  background-color: var(--sklearn-color-background);\n",
       "  border-radius: 1rem;\n",
       "  height: 1rem;\n",
       "  width: 1rem;\n",
       "  text-decoration: none;\n",
       "  /* unfitted */\n",
       "  color: var(--sklearn-color-unfitted-level-1);\n",
       "  border: var(--sklearn-color-unfitted-level-1) 1pt solid;\n",
       "}\n",
       "\n",
       "#sk-container-id-1 a.estimator_doc_link.fitted {\n",
       "  /* fitted */\n",
       "  border: var(--sklearn-color-fitted-level-1) 1pt solid;\n",
       "  color: var(--sklearn-color-fitted-level-1);\n",
       "}\n",
       "\n",
       "/* On hover */\n",
       "#sk-container-id-1 a.estimator_doc_link:hover {\n",
       "  /* unfitted */\n",
       "  background-color: var(--sklearn-color-unfitted-level-3);\n",
       "  color: var(--sklearn-color-background);\n",
       "  text-decoration: none;\n",
       "}\n",
       "\n",
       "#sk-container-id-1 a.estimator_doc_link.fitted:hover {\n",
       "  /* fitted */\n",
       "  background-color: var(--sklearn-color-fitted-level-3);\n",
       "}\n",
       "</style><div id=\"sk-container-id-1\" class=\"sk-top-container\"><div class=\"sk-text-repr-fallback\"><pre>LGBMRegressor(objective=&#x27;regression&#x27;)</pre><b>In a Jupyter environment, please rerun this cell to show the HTML representation or trust the notebook. <br />On GitHub, the HTML representation is unable to render, please try loading this page with nbviewer.org.</b></div><div class=\"sk-container\" hidden><div class=\"sk-item\"><div class=\"sk-estimator fitted sk-toggleable\"><input class=\"sk-toggleable__control sk-hidden--visually\" id=\"sk-estimator-id-1\" type=\"checkbox\" checked><label for=\"sk-estimator-id-1\" class=\"sk-toggleable__label fitted sk-toggleable__label-arrow\"><div><div>LGBMRegressor</div></div><div><span class=\"sk-estimator-doc-link fitted\">i<span>Fitted</span></span></div></label><div class=\"sk-toggleable__content fitted\"><pre>LGBMRegressor(objective=&#x27;regression&#x27;)</pre></div> </div></div></div></div>"
      ],
      "text/plain": [
       "LGBMRegressor(objective='regression')"
      ]
     },
     "execution_count": 111,
     "metadata": {},
     "output_type": "execute_result"
    }
   ],
   "source": [
    "model_lgbm.fit(x_train, y_train)"
   ]
  },
  {
   "cell_type": "code",
   "execution_count": 112,
   "id": "ba582061-d84d-462a-a321-eab1ce716835",
   "metadata": {},
   "outputs": [],
   "source": [
    "y_test_lgbm_predict = model_lgbm.predict(x_test)\n",
    "y_train_lgbm_predict = model_lgbm.predict(x_train)"
   ]
  },
  {
   "cell_type": "code",
   "execution_count": 113,
   "id": "0db6c79e-2250-496a-9fa6-61ec08584bf9",
   "metadata": {},
   "outputs": [
    {
     "data": {
      "text/plain": [
       "(0.8400751331111764, 0.9077156869663902)"
      ]
     },
     "execution_count": 113,
     "metadata": {},
     "output_type": "execute_result"
    }
   ],
   "source": [
    "r2_test_lgbm = r2_score(y_test,y_test_lgbm_predict)\n",
    "r2_train_lgbm = r2_score(y_train,y_train_lgbm_predict)\n",
    "r2_test_lgbm, r2_train_lgbm"
   ]
  },
  {
   "cell_type": "code",
   "execution_count": 114,
   "id": "9c89483a-1631-4fe1-b43d-ffa0fe8cd528",
   "metadata": {},
   "outputs": [
    {
     "data": {
      "text/plain": [
       "(0.48376067738212264, 0.3617001525923697)"
      ]
     },
     "execution_count": 114,
     "metadata": {},
     "output_type": "execute_result"
    }
   ],
   "source": [
    "rmse_test_lgbm = root_mean_squared_error(y_test,y_test_lgbm_predict)\n",
    "rmse_train_lgbm = root_mean_squared_error(y_train,y_train_lgbm_predict)\n",
    "rmse_test_lgbm, rmse_train_lgbm"
   ]
  },
  {
   "cell_type": "code",
   "execution_count": 115,
   "id": "780ac545-b27f-4942-ae55-e791c0880c63",
   "metadata": {},
   "outputs": [
    {
     "data": {
      "image/png": "[encoded data removed]",
      "text/plain": [
       "<Figure size 800x600 with 1 Axes>"
      ]
     },
     "metadata": {},
     "output_type": "display_data"
    }
   ],
   "source": [
    "#Plot predictions vs actual\n",
    "plt.figure(figsize=(8, 6))\n",
    "plt.scatter(y_test, y_test_lgbm_predict, alpha=0.4, color='royalblue')\n",
    "plt.plot([y_test.min(), y_test.max()], [y_test.min(), y_test.max()], 'r--')\n",
    "plt.xlabel('Actual')\n",
    "plt.ylabel('Predicted')\n",
    "plt.title('LigthGBM - Actual vs Predicted')\n",
    "plt.grid(True)\n",
    "plt.tight_layout()\n",
    "plt.show()"
   ]
  },
  {
   "cell_type": "code",
   "execution_count": 43,
   "id": "62820b53-298c-4487-bfa0-cd328b8c678b",
   "metadata": {
    "scrolled": true
   },
   "outputs": [
    {
     "name": "stdout",
     "output_type": "stream",
     "text": [
      "Collecting xgboost\n",
      "  Downloading xgboost-3.0.2-py3-none-win_amd64.whl.metadata (2.1 kB)\n",
      "Requirement already satisfied: numpy in c:\\users\\91742\\desktop\\indian_agriculture\\myenv\\lib\\site-packages (from xgboost) (2.2.4)\n",
      "Requirement already satisfied: scipy in c:\\users\\91742\\desktop\\indian_agriculture\\myenv\\lib\\site-packages (from xgboost) (1.15.3)\n",
      "Downloading xgboost-3.0.2-py3-none-win_amd64.whl (150.0 MB)\n",
      "   ---------------------------------------- 0.0/150.0 MB ? eta -:--:--\n",
      "   ---------------------------------------- 0.8/150.0 MB 4.8 MB/s eta 0:00:32\n",
      "   ---------------------------------------- 1.6/150.0 MB 4.9 MB/s eta 0:00:31\n",
      "    --------------------------------------- 2.4/150.0 MB 4.2 MB/s eta 0:00:36\n",
      "    --------------------------------------- 3.1/150.0 MB 4.0 MB/s eta 0:00:37\n",
      "   - -------------------------------------- 4.2/150.0 MB 4.1 MB/s eta 0:00:36\n",
      "   - -------------------------------------- 5.2/150.0 MB 4.2 MB/s eta 0:00:35\n",
      "   - -------------------------------------- 6.3/150.0 MB 4.3 MB/s eta 0:00:34\n",
      "   - -------------------------------------- 7.3/150.0 MB 4.3 MB/s eta 0:00:34\n",
      "   -- ------------------------------------- 8.4/150.0 MB 4.4 MB/s eta 0:00:32\n",
      "   -- ------------------------------------- 9.4/150.0 MB 4.5 MB/s eta 0:00:32\n",
      "   -- ------------------------------------- 10.5/150.0 MB 4.5 MB/s eta 0:00:31\n",
      "   --- ------------------------------------ 11.8/150.0 MB 4.6 MB/s eta 0:00:31\n",
      "   --- ------------------------------------ 12.8/150.0 MB 4.7 MB/s eta 0:00:30\n",
      "   --- ------------------------------------ 13.9/150.0 MB 4.7 MB/s eta 0:00:30\n",
      "   --- ------------------------------------ 14.9/150.0 MB 4.7 MB/s eta 0:00:29\n",
      "   ---- ----------------------------------- 16.0/150.0 MB 4.7 MB/s eta 0:00:29\n",
      "   ---- ----------------------------------- 17.0/150.0 MB 4.7 MB/s eta 0:00:29\n",
      "   ---- ----------------------------------- 17.8/150.0 MB 4.7 MB/s eta 0:00:29\n",
      "   ----- ---------------------------------- 18.9/150.0 MB 4.7 MB/s eta 0:00:29\n",
      "   ----- ---------------------------------- 19.9/150.0 MB 4.6 MB/s eta 0:00:29\n",
      "   ----- ---------------------------------- 20.7/150.0 MB 4.6 MB/s eta 0:00:28\n",
      "   ----- ---------------------------------- 22.0/150.0 MB 4.7 MB/s eta 0:00:28\n",
      "   ------ --------------------------------- 23.1/150.0 MB 4.7 MB/s eta 0:00:28\n",
      "   ------ --------------------------------- 24.4/150.0 MB 4.7 MB/s eta 0:00:27\n",
      "   ------ --------------------------------- 25.2/150.0 MB 4.7 MB/s eta 0:00:27\n",
      "   ------- -------------------------------- 26.5/150.0 MB 4.8 MB/s eta 0:00:26\n",
      "   ------- -------------------------------- 27.8/150.0 MB 4.8 MB/s eta 0:00:26\n",
      "   ------- -------------------------------- 28.8/150.0 MB 4.8 MB/s eta 0:00:26\n",
      "   ------- -------------------------------- 29.9/150.0 MB 4.8 MB/s eta 0:00:26\n",
      "   -------- ------------------------------- 30.9/150.0 MB 4.8 MB/s eta 0:00:25\n",
      "   -------- ------------------------------- 32.0/150.0 MB 4.8 MB/s eta 0:00:25\n",
      "   -------- ------------------------------- 33.0/150.0 MB 4.8 MB/s eta 0:00:25\n",
      "   --------- ------------------------------ 34.1/150.0 MB 4.8 MB/s eta 0:00:25\n",
      "   --------- ------------------------------ 35.1/150.0 MB 4.8 MB/s eta 0:00:24\n",
      "   --------- ------------------------------ 35.9/150.0 MB 4.8 MB/s eta 0:00:24\n",
      "   --------- ------------------------------ 37.2/150.0 MB 4.8 MB/s eta 0:00:24\n",
      "   ---------- ----------------------------- 38.3/150.0 MB 4.8 MB/s eta 0:00:24\n",
      "   ---------- ----------------------------- 39.1/150.0 MB 4.8 MB/s eta 0:00:24\n",
      "   ---------- ----------------------------- 40.4/150.0 MB 4.8 MB/s eta 0:00:23\n",
      "   ---------- ----------------------------- 41.2/150.0 MB 4.8 MB/s eta 0:00:23\n",
      "   ----------- ---------------------------- 42.5/150.0 MB 4.8 MB/s eta 0:00:23\n",
      "   ----------- ---------------------------- 43.5/150.0 MB 4.8 MB/s eta 0:00:23\n",
      "   ----------- ---------------------------- 44.6/150.0 MB 4.8 MB/s eta 0:00:22\n",
      "   ------------ --------------------------- 45.6/150.0 MB 4.8 MB/s eta 0:00:22\n",
      "   ------------ --------------------------- 46.9/150.0 MB 4.8 MB/s eta 0:00:22\n",
      "   ------------ --------------------------- 48.0/150.0 MB 4.8 MB/s eta 0:00:22\n",
      "   ------------- -------------------------- 49.3/150.0 MB 4.9 MB/s eta 0:00:21\n",
      "   ------------- -------------------------- 50.6/150.0 MB 4.9 MB/s eta 0:00:21\n",
      "   ------------- -------------------------- 51.6/150.0 MB 4.9 MB/s eta 0:00:21\n",
      "   -------------- ------------------------- 53.0/150.0 MB 4.9 MB/s eta 0:00:20\n",
      "   -------------- ------------------------- 54.0/150.0 MB 4.9 MB/s eta 0:00:20\n",
      "   -------------- ------------------------- 55.1/150.0 MB 4.9 MB/s eta 0:00:20\n",
      "   --------------- ------------------------ 56.4/150.0 MB 4.9 MB/s eta 0:00:20\n",
      "   --------------- ------------------------ 57.4/150.0 MB 4.9 MB/s eta 0:00:19\n",
      "   --------------- ------------------------ 58.5/150.0 MB 4.9 MB/s eta 0:00:19\n",
      "   --------------- ------------------------ 59.2/150.0 MB 4.9 MB/s eta 0:00:19\n",
      "   ---------------- ----------------------- 60.3/150.0 MB 4.9 MB/s eta 0:00:19\n",
      "   ---------------- ----------------------- 61.3/150.0 MB 4.9 MB/s eta 0:00:19\n",
      "   ---------------- ----------------------- 62.4/150.0 MB 4.9 MB/s eta 0:00:18\n",
      "   ---------------- ----------------------- 63.7/150.0 MB 4.9 MB/s eta 0:00:18\n",
      "   ----------------- ---------------------- 64.7/150.0 MB 4.9 MB/s eta 0:00:18\n",
      "   ----------------- ---------------------- 66.1/150.0 MB 4.9 MB/s eta 0:00:18\n",
      "   ----------------- ---------------------- 67.1/150.0 MB 4.9 MB/s eta 0:00:17\n",
      "   ------------------ --------------------- 68.2/150.0 MB 4.9 MB/s eta 0:00:17\n",
      "   ------------------ --------------------- 69.5/150.0 MB 4.9 MB/s eta 0:00:17\n",
      "   ------------------ --------------------- 70.8/150.0 MB 4.9 MB/s eta 0:00:17\n",
      "   ------------------- -------------------- 71.8/150.0 MB 4.9 MB/s eta 0:00:16\n",
      "   ------------------- -------------------- 72.9/150.0 MB 5.0 MB/s eta 0:00:16\n",
      "   ------------------- -------------------- 74.2/150.0 MB 5.0 MB/s eta 0:00:16\n",
      "   -------------------- ------------------- 75.2/150.0 MB 5.0 MB/s eta 0:00:16\n",
      "   -------------------- ------------------- 76.3/150.0 MB 5.0 MB/s eta 0:00:15\n",
      "   -------------------- ------------------- 77.3/150.0 MB 5.0 MB/s eta 0:00:15\n",
      "   -------------------- ------------------- 78.6/150.0 MB 5.0 MB/s eta 0:00:15\n",
      "   --------------------- ------------------ 79.7/150.0 MB 5.0 MB/s eta 0:00:15\n",
      "   --------------------- ------------------ 80.7/150.0 MB 5.0 MB/s eta 0:00:14\n",
      "   --------------------- ------------------ 82.1/150.0 MB 5.0 MB/s eta 0:00:14\n",
      "   ---------------------- ----------------- 83.1/150.0 MB 5.0 MB/s eta 0:00:14\n",
      "   ---------------------- ----------------- 84.1/150.0 MB 5.0 MB/s eta 0:00:14\n",
      "   ---------------------- ----------------- 85.2/150.0 MB 5.0 MB/s eta 0:00:14\n",
      "   ----------------------- ---------------- 86.5/150.0 MB 5.0 MB/s eta 0:00:13\n",
      "   ----------------------- ---------------- 87.3/150.0 MB 5.0 MB/s eta 0:00:13\n",
      "   ----------------------- ---------------- 88.6/150.0 MB 5.0 MB/s eta 0:00:13\n",
      "   ----------------------- ---------------- 89.7/150.0 MB 5.0 MB/s eta 0:00:13\n",
      "   ------------------------ --------------- 91.0/150.0 MB 5.0 MB/s eta 0:00:12\n",
      "   ------------------------ --------------- 92.0/150.0 MB 5.0 MB/s eta 0:00:12\n",
      "   ------------------------ --------------- 93.1/150.0 MB 5.0 MB/s eta 0:00:12\n",
      "   ------------------------- -------------- 94.1/150.0 MB 5.0 MB/s eta 0:00:12\n",
      "   ------------------------- -------------- 95.4/150.0 MB 5.0 MB/s eta 0:00:11\n",
      "   ------------------------- -------------- 96.5/150.0 MB 5.0 MB/s eta 0:00:11\n",
      "   -------------------------- ------------- 97.8/150.0 MB 5.0 MB/s eta 0:00:11\n",
      "   -------------------------- ------------- 98.8/150.0 MB 5.0 MB/s eta 0:00:11\n",
      "   -------------------------- ------------- 100.1/150.0 MB 5.0 MB/s eta 0:00:10\n",
      "   --------------------------- ------------ 101.4/150.0 MB 5.0 MB/s eta 0:00:10\n",
      "   --------------------------- ------------ 102.5/150.0 MB 5.0 MB/s eta 0:00:10\n",
      "   --------------------------- ------------ 103.5/150.0 MB 5.0 MB/s eta 0:00:10\n",
      "   --------------------------- ------------ 104.9/150.0 MB 5.0 MB/s eta 0:00:09\n",
      "   ---------------------------- ----------- 105.9/150.0 MB 5.0 MB/s eta 0:00:09\n",
      "   ---------------------------- ----------- 107.0/150.0 MB 5.0 MB/s eta 0:00:09\n",
      "   ---------------------------- ----------- 108.0/150.0 MB 5.0 MB/s eta 0:00:09\n",
      "   ----------------------------- ---------- 109.1/150.0 MB 5.0 MB/s eta 0:00:09\n",
      "   ----------------------------- ---------- 110.1/150.0 MB 5.0 MB/s eta 0:00:08\n",
      "   ----------------------------- ---------- 110.9/150.0 MB 5.0 MB/s eta 0:00:08\n",
      "   ----------------------------- ---------- 112.2/150.0 MB 5.0 MB/s eta 0:00:08\n",
      "   ------------------------------ --------- 113.0/150.0 MB 5.0 MB/s eta 0:00:08\n",
      "   ------------------------------ --------- 114.3/150.0 MB 5.0 MB/s eta 0:00:08\n",
      "   ------------------------------ --------- 115.3/150.0 MB 5.0 MB/s eta 0:00:07\n",
      "   ------------------------------- -------- 116.7/150.0 MB 5.0 MB/s eta 0:00:07\n",
      "   ------------------------------- -------- 117.7/150.0 MB 5.0 MB/s eta 0:00:07\n",
      "   ------------------------------- -------- 119.0/150.0 MB 5.0 MB/s eta 0:00:07\n",
      "   -------------------------------- ------- 120.1/150.0 MB 5.0 MB/s eta 0:00:06\n",
      "   -------------------------------- ------- 121.1/150.0 MB 5.0 MB/s eta 0:00:06\n",
      "   -------------------------------- ------- 122.4/150.0 MB 5.0 MB/s eta 0:00:06\n",
      "   -------------------------------- ------- 123.5/150.0 MB 5.0 MB/s eta 0:00:06\n",
      "   --------------------------------- ------ 124.8/150.0 MB 5.0 MB/s eta 0:00:05\n",
      "   --------------------------------- ------ 126.1/150.0 MB 5.1 MB/s eta 0:00:05\n",
      "   --------------------------------- ------ 127.1/150.0 MB 5.1 MB/s eta 0:00:05\n",
      "   ---------------------------------- ----- 128.5/150.0 MB 5.1 MB/s eta 0:00:05\n",
      "   ---------------------------------- ----- 129.5/150.0 MB 5.1 MB/s eta 0:00:05\n",
      "   ---------------------------------- ----- 130.8/150.0 MB 5.1 MB/s eta 0:00:04\n",
      "   ----------------------------------- ---- 131.9/150.0 MB 5.1 MB/s eta 0:00:04\n",
      "   ----------------------------------- ---- 132.9/150.0 MB 5.1 MB/s eta 0:00:04\n",
      "   ----------------------------------- ---- 134.0/150.0 MB 5.1 MB/s eta 0:00:04\n",
      "   ------------------------------------ --- 135.0/150.0 MB 5.1 MB/s eta 0:00:03\n",
      "   ------------------------------------ --- 136.3/150.0 MB 5.1 MB/s eta 0:00:03\n",
      "   ------------------------------------ --- 137.4/150.0 MB 5.1 MB/s eta 0:00:03\n",
      "   ------------------------------------ --- 138.7/150.0 MB 5.1 MB/s eta 0:00:03\n",
      "   ------------------------------------- -- 139.7/150.0 MB 5.1 MB/s eta 0:00:03\n",
      "   ------------------------------------- -- 140.8/150.0 MB 5.1 MB/s eta 0:00:02\n",
      "   ------------------------------------- -- 142.1/150.0 MB 5.1 MB/s eta 0:00:02\n",
      "   -------------------------------------- - 143.1/150.0 MB 5.1 MB/s eta 0:00:02\n",
      "   -------------------------------------- - 144.2/150.0 MB 5.1 MB/s eta 0:00:02\n",
      "   -------------------------------------- - 145.5/150.0 MB 5.1 MB/s eta 0:00:01\n",
      "   ---------------------------------------  146.5/150.0 MB 5.1 MB/s eta 0:00:01\n",
      "   ---------------------------------------  147.6/150.0 MB 5.1 MB/s eta 0:00:01\n",
      "   ---------------------------------------  148.6/150.0 MB 5.1 MB/s eta 0:00:01\n",
      "   ---------------------------------------  149.4/150.0 MB 5.1 MB/s eta 0:00:01\n",
      "   ---------------------------------------  149.9/150.0 MB 5.1 MB/s eta 0:00:01\n",
      "   ---------------------------------------  149.9/150.0 MB 5.1 MB/s eta 0:00:01\n",
      "   ---------------------------------------- 150.0/150.0 MB 5.0 MB/s eta 0:00:00\n",
      "Installing collected packages: xgboost\n",
      "Successfully installed xgboost-3.0.2\n"
     ]
    }
   ],
   "source": [
    "# 3. XGBoostRegression\n",
    "!pip install xgboost"
   ]
  },
  {
   "cell_type": "code",
   "execution_count": 116,
   "id": "c6011799-8ded-455a-a6a4-d6503ae3918b",
   "metadata": {},
   "outputs": [],
   "source": [
    "from sklearn.model_selection import GridSearchCV\n",
    "from xgboost import XGBRegressor"
   ]
  },
  {
   "cell_type": "code",
   "execution_count": 117,
   "id": "7002bbcb-9eae-4683-8a64-9b19b56f8eaa",
   "metadata": {},
   "outputs": [],
   "source": [
    "reg = XGBRegressor(objective='reg:squarederror', enable_categorical=True, tree_method='hist')"
   ]
  },
  {
   "cell_type": "code",
   "execution_count": 118,
   "id": "b27c4f62-6c85-4e84-b0fa-25bcf037a4ed",
   "metadata": {},
   "outputs": [],
   "source": [
    "# Grid parameters\n",
    "param_grid = {\n",
    "    'max_depth': [4, 6, 8],\n",
    "    'learning_rate': [0.05, 0.1],\n",
    "    'n_estimators': [50, 100],\n",
    "    'subsample': [0.8, 1.0]\n",
    "}"
   ]
  },
  {
   "cell_type": "code",
   "execution_count": 119,
   "id": "12fab122-303a-4ab2-a76e-7830d8248bf5",
   "metadata": {},
   "outputs": [],
   "source": [
    "model_xgb = GridSearchCV(estimator=reg, param_grid=param_grid, \n",
    "                           cv=3, scoring='neg_mean_squared_error', verbose=1, n_jobs=-1)"
   ]
  },
  {
   "cell_type": "code",
   "execution_count": 120,
   "id": "05c4d678-4064-4861-b88d-8b2c5c277d04",
   "metadata": {},
   "outputs": [
    {
     "data": {
      "text/plain": [
       "array([[-1.79478342,  0.19187274,  0.38720255, ..., -0.59759759,\n",
       "        -1.83358182,  1.4884182 ],\n",
       "       [-1.79478342, -0.04605105,  0.38720255, ..., -0.59759759,\n",
       "        -1.17434485,  1.4884182 ],\n",
       "       [-1.79478342,  0.61324324,  0.38720255, ..., -0.59759759,\n",
       "        -1.09678756,  1.4884182 ],\n",
       "       ...,\n",
       "       [ 1.42482539, -1.04632629, -0.51820785, ...,  1.21620329,\n",
       "         1.50138164, -0.09991126],\n",
       "       [ 1.42482539,  0.4874995 , -0.2878058 , ...,  1.16409579,\n",
       "         1.50138164, -0.09991126],\n",
       "       [ 1.42482539,  0.03529823, -0.2826319 , ...,  0.89009189,\n",
       "         1.50138164, -0.09991126]])"
      ]
     },
     "execution_count": 120,
     "metadata": {},
     "output_type": "execute_result"
    }
   ],
   "source": [
    "x_train_scaled"
   ]
  },
  {
   "cell_type": "code",
   "execution_count": 121,
   "id": "b6f48dc0-d398-470b-9cbd-0ca309ac6049",
   "metadata": {},
   "outputs": [
    {
     "name": "stdout",
     "output_type": "stream",
     "text": [
      "Fitting 3 folds for each of 24 candidates, totalling 72 fits\n"
     ]
    },
    {
     "data": {
      "text/html": [
       "<style>#sk-container-id-2 {\n",
       "  /* Definition of color scheme common for light and dark mode */\n",
       "  --sklearn-color-text: #000;\n",
       "  --sklearn-color-text-muted: #666;\n",
       "  --sklearn-color-line: gray;\n",
       "  /* Definition of color scheme for unfitted estimators */\n",
       "  --sklearn-color-unfitted-level-0: #fff5e6;\n",
       "  --sklearn-color-unfitted-level-1: #f6e4d2;\n",
       "  --sklearn-color-unfitted-level-2: #ffe0b3;\n",
       "  --sklearn-color-unfitted-level-3: chocolate;\n",
       "  /* Definition of color scheme for fitted estimators */\n",
       "  --sklearn-color-fitted-level-0: #f0f8ff;\n",
       "  --sklearn-color-fitted-level-1: #d4ebff;\n",
       "  --sklearn-color-fitted-level-2: #b3dbfd;\n",
       "  --sklearn-color-fitted-level-3: cornflowerblue;\n",
       "\n",
       "  /* Specific color for light theme */\n",
       "  --sklearn-color-text-on-default-background: var(--sg-text-color, var(--theme-code-foreground, var(--jp-content-font-color1, black)));\n",
       "  --sklearn-color-background: var(--sg-background-color, var(--theme-background, var(--jp-layout-color0, white)));\n",
       "  --sklearn-color-border-box: var(--sg-text-color, var(--theme-code-foreground, var(--jp-content-font-color1, black)));\n",
       "  --sklearn-color-icon: #696969;\n",
       "\n",
       "  @media (prefers-color-scheme: dark) {\n",
       "    /* Redefinition of color scheme for dark theme */\n",
       "    --sklearn-color-text-on-default-background: var(--sg-text-color, var(--theme-code-foreground, var(--jp-content-font-color1, white)));\n",
       "    --sklearn-color-background: var(--sg-background-color, var(--theme-background, var(--jp-layout-color0, #111)));\n",
       "    --sklearn-color-border-box: var(--sg-text-color, var(--theme-code-foreground, var(--jp-content-font-color1, white)));\n",
       "    --sklearn-color-icon: #878787;\n",
       "  }\n",
       "}\n",
       "\n",
       "#sk-container-id-2 {\n",
       "  color: var(--sklearn-color-text);\n",
       "}\n",
       "\n",
       "#sk-container-id-2 pre {\n",
       "  padding: 0;\n",
       "}\n",
       "\n",
       "#sk-container-id-2 input.sk-hidden--visually {\n",
       "  border: 0;\n",
       "  clip: rect(1px 1px 1px 1px);\n",
       "  clip: rect(1px, 1px, 1px, 1px);\n",
       "  height: 1px;\n",
       "  margin: -1px;\n",
       "  overflow: hidden;\n",
       "  padding: 0;\n",
       "  position: absolute;\n",
       "  width: 1px;\n",
       "}\n",
       "\n",
       "#sk-container-id-2 div.sk-dashed-wrapped {\n",
       "  border: 1px dashed var(--sklearn-color-line);\n",
       "  margin: 0 0.4em 0.5em 0.4em;\n",
       "  box-sizing: border-box;\n",
       "  padding-bottom: 0.4em;\n",
       "  background-color: var(--sklearn-color-background);\n",
       "}\n",
       "\n",
       "#sk-container-id-2 div.sk-container {\n",
       "  /* jupyter's `normalize.less` sets `[hidden] { display: none; }`\n",
       "     but bootstrap.min.css set `[hidden] { display: none !important; }`\n",
       "     so we also need the `!important` here to be able to override the\n",
       "     default hidden behavior on the sphinx rendered scikit-learn.org.\n",
       "     See: https://github.com/scikit-learn/scikit-learn/issues/21755 */\n",
       "  display: inline-block !important;\n",
       "  position: relative;\n",
       "}\n",
       "\n",
       "#sk-container-id-2 div.sk-text-repr-fallback {\n",
       "  display: none;\n",
       "}\n",
       "\n",
       "div.sk-parallel-item,\n",
       "div.sk-serial,\n",
       "div.sk-item {\n",
       "  /* draw centered vertical line to link estimators */\n",
       "  background-image: linear-gradient(var(--sklearn-color-text-on-default-background), var(--sklearn-color-text-on-default-background));\n",
       "  background-size: 2px 100%;\n",
       "  background-repeat: no-repeat;\n",
       "  background-position: center center;\n",
       "}\n",
       "\n",
       "/* Parallel-specific style estimator block */\n",
       "\n",
       "#sk-container-id-2 div.sk-parallel-item::after {\n",
       "  content: \"\";\n",
       "  width: 100%;\n",
       "  border-bottom: 2px solid var(--sklearn-color-text-on-default-background);\n",
       "  flex-grow: 1;\n",
       "}\n",
       "\n",
       "#sk-container-id-2 div.sk-parallel {\n",
       "  display: flex;\n",
       "  align-items: stretch;\n",
       "  justify-content: center;\n",
       "  background-color: var(--sklearn-color-background);\n",
       "  position: relative;\n",
       "}\n",
       "\n",
       "#sk-container-id-2 div.sk-parallel-item {\n",
       "  display: flex;\n",
       "  flex-direction: column;\n",
       "}\n",
       "\n",
       "#sk-container-id-2 div.sk-parallel-item:first-child::after {\n",
       "  align-self: flex-end;\n",
       "  width: 50%;\n",
       "}\n",
       "\n",
       "#sk-container-id-2 div.sk-parallel-item:last-child::after {\n",
       "  align-self: flex-start;\n",
       "  width: 50%;\n",
       "}\n",
       "\n",
       "#sk-container-id-2 div.sk-parallel-item:only-child::after {\n",
       "  width: 0;\n",
       "}\n",
       "\n",
       "/* Serial-specific style estimator block */\n",
       "\n",
       "#sk-container-id-2 div.sk-serial {\n",
       "  display: flex;\n",
       "  flex-direction: column;\n",
       "  align-items: center;\n",
       "  background-color: var(--sklearn-color-background);\n",
       "  padding-right: 1em;\n",
       "  padding-left: 1em;\n",
       "}\n",
       "\n",
       "\n",
       "/* Toggleable style: style used for estimator/Pipeline/ColumnTransformer box that is\n",
       "clickable and can be expanded/collapsed.\n",
       "- Pipeline and ColumnTransformer use this feature and define the default style\n",
       "- Estimators will overwrite some part of the style using the `sk-estimator` class\n",
       "*/\n",
       "\n",
       "/* Pipeline and ColumnTransformer style (default) */\n",
       "\n",
       "#sk-container-id-2 div.sk-toggleable {\n",
       "  /* Default theme specific background. It is overwritten whether we have a\n",
       "  specific estimator or a Pipeline/ColumnTransformer */\n",
       "  background-color: var(--sklearn-color-background);\n",
       "}\n",
       "\n",
       "/* Toggleable label */\n",
       "#sk-container-id-2 label.sk-toggleable__label {\n",
       "  cursor: pointer;\n",
       "  display: flex;\n",
       "  width: 100%;\n",
       "  margin-bottom: 0;\n",
       "  padding: 0.5em;\n",
       "  box-sizing: border-box;\n",
       "  text-align: center;\n",
       "  align-items: start;\n",
       "  justify-content: space-between;\n",
       "  gap: 0.5em;\n",
       "}\n",
       "\n",
       "#sk-container-id-2 label.sk-toggleable__label .caption {\n",
       "  font-size: 0.6rem;\n",
       "  font-weight: lighter;\n",
       "  color: var(--sklearn-color-text-muted);\n",
       "}\n",
       "\n",
       "#sk-container-id-2 label.sk-toggleable__label-arrow:before {\n",
       "  /* Arrow on the left of the label */\n",
       "  content: \"▸\";\n",
       "  float: left;\n",
       "  margin-right: 0.25em;\n",
       "  color: var(--sklearn-color-icon);\n",
       "}\n",
       "\n",
       "#sk-container-id-2 label.sk-toggleable__label-arrow:hover:before {\n",
       "  color: var(--sklearn-color-text);\n",
       "}\n",
       "\n",
       "/* Toggleable content - dropdown */\n",
       "\n",
       "#sk-container-id-2 div.sk-toggleable__content {\n",
       "  max-height: 0;\n",
       "  max-width: 0;\n",
       "  overflow: hidden;\n",
       "  text-align: left;\n",
       "  /* unfitted */\n",
       "  background-color: var(--sklearn-color-unfitted-level-0);\n",
       "}\n",
       "\n",
       "#sk-container-id-2 div.sk-toggleable__content.fitted {\n",
       "  /* fitted */\n",
       "  background-color: var(--sklearn-color-fitted-level-0);\n",
       "}\n",
       "\n",
       "#sk-container-id-2 div.sk-toggleable__content pre {\n",
       "  margin: 0.2em;\n",
       "  border-radius: 0.25em;\n",
       "  color: var(--sklearn-color-text);\n",
       "  /* unfitted */\n",
       "  background-color: var(--sklearn-color-unfitted-level-0);\n",
       "}\n",
       "\n",
       "#sk-container-id-2 div.sk-toggleable__content.fitted pre {\n",
       "  /* unfitted */\n",
       "  background-color: var(--sklearn-color-fitted-level-0);\n",
       "}\n",
       "\n",
       "#sk-container-id-2 input.sk-toggleable__control:checked~div.sk-toggleable__content {\n",
       "  /* Expand drop-down */\n",
       "  max-height: 200px;\n",
       "  max-width: 100%;\n",
       "  overflow: auto;\n",
       "}\n",
       "\n",
       "#sk-container-id-2 input.sk-toggleable__control:checked~label.sk-toggleable__label-arrow:before {\n",
       "  content: \"▾\";\n",
       "}\n",
       "\n",
       "/* Pipeline/ColumnTransformer-specific style */\n",
       "\n",
       "#sk-container-id-2 div.sk-label input.sk-toggleable__control:checked~label.sk-toggleable__label {\n",
       "  color: var(--sklearn-color-text);\n",
       "  background-color: var(--sklearn-color-unfitted-level-2);\n",
       "}\n",
       "\n",
       "#sk-container-id-2 div.sk-label.fitted input.sk-toggleable__control:checked~label.sk-toggleable__label {\n",
       "  background-color: var(--sklearn-color-fitted-level-2);\n",
       "}\n",
       "\n",
       "/* Estimator-specific style */\n",
       "\n",
       "/* Colorize estimator box */\n",
       "#sk-container-id-2 div.sk-estimator input.sk-toggleable__control:checked~label.sk-toggleable__label {\n",
       "  /* unfitted */\n",
       "  background-color: var(--sklearn-color-unfitted-level-2);\n",
       "}\n",
       "\n",
       "#sk-container-id-2 div.sk-estimator.fitted input.sk-toggleable__control:checked~label.sk-toggleable__label {\n",
       "  /* fitted */\n",
       "  background-color: var(--sklearn-color-fitted-level-2);\n",
       "}\n",
       "\n",
       "#sk-container-id-2 div.sk-label label.sk-toggleable__label,\n",
       "#sk-container-id-2 div.sk-label label {\n",
       "  /* The background is the default theme color */\n",
       "  color: var(--sklearn-color-text-on-default-background);\n",
       "}\n",
       "\n",
       "/* On hover, darken the color of the background */\n",
       "#sk-container-id-2 div.sk-label:hover label.sk-toggleable__label {\n",
       "  color: var(--sklearn-color-text);\n",
       "  background-color: var(--sklearn-color-unfitted-level-2);\n",
       "}\n",
       "\n",
       "/* Label box, darken color on hover, fitted */\n",
       "#sk-container-id-2 div.sk-label.fitted:hover label.sk-toggleable__label.fitted {\n",
       "  color: var(--sklearn-color-text);\n",
       "  background-color: var(--sklearn-color-fitted-level-2);\n",
       "}\n",
       "\n",
       "/* Estimator label */\n",
       "\n",
       "#sk-container-id-2 div.sk-label label {\n",
       "  font-family: monospace;\n",
       "  font-weight: bold;\n",
       "  display: inline-block;\n",
       "  line-height: 1.2em;\n",
       "}\n",
       "\n",
       "#sk-container-id-2 div.sk-label-container {\n",
       "  text-align: center;\n",
       "}\n",
       "\n",
       "/* Estimator-specific */\n",
       "#sk-container-id-2 div.sk-estimator {\n",
       "  font-family: monospace;\n",
       "  border: 1px dotted var(--sklearn-color-border-box);\n",
       "  border-radius: 0.25em;\n",
       "  box-sizing: border-box;\n",
       "  margin-bottom: 0.5em;\n",
       "  /* unfitted */\n",
       "  background-color: var(--sklearn-color-unfitted-level-0);\n",
       "}\n",
       "\n",
       "#sk-container-id-2 div.sk-estimator.fitted {\n",
       "  /* fitted */\n",
       "  background-color: var(--sklearn-color-fitted-level-0);\n",
       "}\n",
       "\n",
       "/* on hover */\n",
       "#sk-container-id-2 div.sk-estimator:hover {\n",
       "  /* unfitted */\n",
       "  background-color: var(--sklearn-color-unfitted-level-2);\n",
       "}\n",
       "\n",
       "#sk-container-id-2 div.sk-estimator.fitted:hover {\n",
       "  /* fitted */\n",
       "  background-color: var(--sklearn-color-fitted-level-2);\n",
       "}\n",
       "\n",
       "/* Specification for estimator info (e.g. \"i\" and \"?\") */\n",
       "\n",
       "/* Common style for \"i\" and \"?\" */\n",
       "\n",
       ".sk-estimator-doc-link,\n",
       "a:link.sk-estimator-doc-link,\n",
       "a:visited.sk-estimator-doc-link {\n",
       "  float: right;\n",
       "  font-size: smaller;\n",
       "  line-height: 1em;\n",
       "  font-family: monospace;\n",
       "  background-color: var(--sklearn-color-background);\n",
       "  border-radius: 1em;\n",
       "  height: 1em;\n",
       "  width: 1em;\n",
       "  text-decoration: none !important;\n",
       "  margin-left: 0.5em;\n",
       "  text-align: center;\n",
       "  /* unfitted */\n",
       "  border: var(--sklearn-color-unfitted-level-1) 1pt solid;\n",
       "  color: var(--sklearn-color-unfitted-level-1);\n",
       "}\n",
       "\n",
       ".sk-estimator-doc-link.fitted,\n",
       "a:link.sk-estimator-doc-link.fitted,\n",
       "a:visited.sk-estimator-doc-link.fitted {\n",
       "  /* fitted */\n",
       "  border: var(--sklearn-color-fitted-level-1) 1pt solid;\n",
       "  color: var(--sklearn-color-fitted-level-1);\n",
       "}\n",
       "\n",
       "/* On hover */\n",
       "div.sk-estimator:hover .sk-estimator-doc-link:hover,\n",
       ".sk-estimator-doc-link:hover,\n",
       "div.sk-label-container:hover .sk-estimator-doc-link:hover,\n",
       ".sk-estimator-doc-link:hover {\n",
       "  /* unfitted */\n",
       "  background-color: var(--sklearn-color-unfitted-level-3);\n",
       "  color: var(--sklearn-color-background);\n",
       "  text-decoration: none;\n",
       "}\n",
       "\n",
       "div.sk-estimator.fitted:hover .sk-estimator-doc-link.fitted:hover,\n",
       ".sk-estimator-doc-link.fitted:hover,\n",
       "div.sk-label-container:hover .sk-estimator-doc-link.fitted:hover,\n",
       ".sk-estimator-doc-link.fitted:hover {\n",
       "  /* fitted */\n",
       "  background-color: var(--sklearn-color-fitted-level-3);\n",
       "  color: var(--sklearn-color-background);\n",
       "  text-decoration: none;\n",
       "}\n",
       "\n",
       "/* Span, style for the box shown on hovering the info icon */\n",
       ".sk-estimator-doc-link span {\n",
       "  display: none;\n",
       "  z-index: 9999;\n",
       "  position: relative;\n",
       "  font-weight: normal;\n",
       "  right: .2ex;\n",
       "  padding: .5ex;\n",
       "  margin: .5ex;\n",
       "  width: min-content;\n",
       "  min-width: 20ex;\n",
       "  max-width: 50ex;\n",
       "  color: var(--sklearn-color-text);\n",
       "  box-shadow: 2pt 2pt 4pt #999;\n",
       "  /* unfitted */\n",
       "  background: var(--sklearn-color-unfitted-level-0);\n",
       "  border: .5pt solid var(--sklearn-color-unfitted-level-3);\n",
       "}\n",
       "\n",
       ".sk-estimator-doc-link.fitted span {\n",
       "  /* fitted */\n",
       "  background: var(--sklearn-color-fitted-level-0);\n",
       "  border: var(--sklearn-color-fitted-level-3);\n",
       "}\n",
       "\n",
       ".sk-estimator-doc-link:hover span {\n",
       "  display: block;\n",
       "}\n",
       "\n",
       "/* \"?\"-specific style due to the `<a>` HTML tag */\n",
       "\n",
       "#sk-container-id-2 a.estimator_doc_link {\n",
       "  float: right;\n",
       "  font-size: 1rem;\n",
       "  line-height: 1em;\n",
       "  font-family: monospace;\n",
       "  background-color: var(--sklearn-color-background);\n",
       "  border-radius: 1rem;\n",
       "  height: 1rem;\n",
       "  width: 1rem;\n",
       "  text-decoration: none;\n",
       "  /* unfitted */\n",
       "  color: var(--sklearn-color-unfitted-level-1);\n",
       "  border: var(--sklearn-color-unfitted-level-1) 1pt solid;\n",
       "}\n",
       "\n",
       "#sk-container-id-2 a.estimator_doc_link.fitted {\n",
       "  /* fitted */\n",
       "  border: var(--sklearn-color-fitted-level-1) 1pt solid;\n",
       "  color: var(--sklearn-color-fitted-level-1);\n",
       "}\n",
       "\n",
       "/* On hover */\n",
       "#sk-container-id-2 a.estimator_doc_link:hover {\n",
       "  /* unfitted */\n",
       "  background-color: var(--sklearn-color-unfitted-level-3);\n",
       "  color: var(--sklearn-color-background);\n",
       "  text-decoration: none;\n",
       "}\n",
       "\n",
       "#sk-container-id-2 a.estimator_doc_link.fitted:hover {\n",
       "  /* fitted */\n",
       "  background-color: var(--sklearn-color-fitted-level-3);\n",
       "}\n",
       "</style><div id=\"sk-container-id-2\" class=\"sk-top-container\"><div class=\"sk-text-repr-fallback\"><pre>GridSearchCV(cv=3,\n",
       "             estimator=XGBRegressor(base_score=None, booster=None,\n",
       "                                    callbacks=None, colsample_bylevel=None,\n",
       "                                    colsample_bynode=None,\n",
       "                                    colsample_bytree=None, device=None,\n",
       "                                    early_stopping_rounds=None,\n",
       "                                    enable_categorical=True, eval_metric=None,\n",
       "                                    feature_types=None, feature_weights=None,\n",
       "                                    gamma=None, grow_policy=None,\n",
       "                                    importance_type=None,\n",
       "                                    interaction_constraints=None,...\n",
       "                                    max_cat_to_onehot=None, max_delta_step=None,\n",
       "                                    max_depth=None, max_leaves=None,\n",
       "                                    min_child_weight=None, missing=nan,\n",
       "                                    monotone_constraints=None,\n",
       "                                    multi_strategy=None, n_estimators=None,\n",
       "                                    n_jobs=None, num_parallel_tree=None, ...),\n",
       "             n_jobs=-1,\n",
       "             param_grid={&#x27;learning_rate&#x27;: [0.05, 0.1], &#x27;max_depth&#x27;: [4, 6, 8],\n",
       "                         &#x27;n_estimators&#x27;: [50, 100], &#x27;subsample&#x27;: [0.8, 1.0]},\n",
       "             scoring=&#x27;neg_mean_squared_error&#x27;, verbose=1)</pre><b>In a Jupyter environment, please rerun this cell to show the HTML representation or trust the notebook. <br />On GitHub, the HTML representation is unable to render, please try loading this page with nbviewer.org.</b></div><div class=\"sk-container\" hidden><div class=\"sk-item sk-dashed-wrapped\"><div class=\"sk-label-container\"><div class=\"sk-label fitted sk-toggleable\"><input class=\"sk-toggleable__control sk-hidden--visually\" id=\"sk-estimator-id-2\" type=\"checkbox\" ><label for=\"sk-estimator-id-2\" class=\"sk-toggleable__label fitted sk-toggleable__label-arrow\"><div><div>GridSearchCV</div></div><div><a class=\"sk-estimator-doc-link fitted\" rel=\"noreferrer\" target=\"_blank\" href=\"https://scikit-learn.org/1.6/modules/generated/sklearn.model_selection.GridSearchCV.html\">?<span>Documentation for GridSearchCV</span></a><span class=\"sk-estimator-doc-link fitted\">i<span>Fitted</span></span></div></label><div class=\"sk-toggleable__content fitted\"><pre>GridSearchCV(cv=3,\n",
       "             estimator=XGBRegressor(base_score=None, booster=None,\n",
       "                                    callbacks=None, colsample_bylevel=None,\n",
       "                                    colsample_bynode=None,\n",
       "                                    colsample_bytree=None, device=None,\n",
       "                                    early_stopping_rounds=None,\n",
       "                                    enable_categorical=True, eval_metric=None,\n",
       "                                    feature_types=None, feature_weights=None,\n",
       "                                    gamma=None, grow_policy=None,\n",
       "                                    importance_type=None,\n",
       "                                    interaction_constraints=None,...\n",
       "                                    max_cat_to_onehot=None, max_delta_step=None,\n",
       "                                    max_depth=None, max_leaves=None,\n",
       "                                    min_child_weight=None, missing=nan,\n",
       "                                    monotone_constraints=None,\n",
       "                                    multi_strategy=None, n_estimators=None,\n",
       "                                    n_jobs=None, num_parallel_tree=None, ...),\n",
       "             n_jobs=-1,\n",
       "             param_grid={&#x27;learning_rate&#x27;: [0.05, 0.1], &#x27;max_depth&#x27;: [4, 6, 8],\n",
       "                         &#x27;n_estimators&#x27;: [50, 100], &#x27;subsample&#x27;: [0.8, 1.0]},\n",
       "             scoring=&#x27;neg_mean_squared_error&#x27;, verbose=1)</pre></div> </div></div><div class=\"sk-parallel\"><div class=\"sk-parallel-item\"><div class=\"sk-item\"><div class=\"sk-label-container\"><div class=\"sk-label fitted sk-toggleable\"><input class=\"sk-toggleable__control sk-hidden--visually\" id=\"sk-estimator-id-3\" type=\"checkbox\" ><label for=\"sk-estimator-id-3\" class=\"sk-toggleable__label fitted sk-toggleable__label-arrow\"><div><div>best_estimator_: XGBRegressor</div></div></label><div class=\"sk-toggleable__content fitted\"><pre>XGBRegressor(base_score=None, booster=None, callbacks=None,\n",
       "             colsample_bylevel=None, colsample_bynode=None,\n",
       "             colsample_bytree=None, device=None, early_stopping_rounds=None,\n",
       "             enable_categorical=True, eval_metric=None, feature_types=None,\n",
       "             feature_weights=None, gamma=None, grow_policy=None,\n",
       "             importance_type=None, interaction_constraints=None,\n",
       "             learning_rate=0.1, max_bin=None, max_cat_threshold=None,\n",
       "             max_cat_to_onehot=None, max_delta_step=None, max_depth=8,\n",
       "             max_leaves=None, min_child_weight=None, missing=nan,\n",
       "             monotone_constraints=None, multi_strategy=None, n_estimators=100,\n",
       "             n_jobs=None, num_parallel_tree=None, ...)</pre></div> </div></div><div class=\"sk-serial\"><div class=\"sk-item\"><div class=\"sk-estimator fitted sk-toggleable\"><input class=\"sk-toggleable__control sk-hidden--visually\" id=\"sk-estimator-id-4\" type=\"checkbox\" ><label for=\"sk-estimator-id-4\" class=\"sk-toggleable__label fitted sk-toggleable__label-arrow\"><div><div>XGBRegressor</div></div><div><a class=\"sk-estimator-doc-link fitted\" rel=\"noreferrer\" target=\"_blank\" href=\"https://xgboost.readthedocs.io/en/release_3.0.0/python/python_api.html#xgboost.XGBRegressor\">?<span>Documentation for XGBRegressor</span></a></div></label><div class=\"sk-toggleable__content fitted\"><pre>XGBRegressor(base_score=None, booster=None, callbacks=None,\n",
       "             colsample_bylevel=None, colsample_bynode=None,\n",
       "             colsample_bytree=None, device=None, early_stopping_rounds=None,\n",
       "             enable_categorical=True, eval_metric=None, feature_types=None,\n",
       "             feature_weights=None, gamma=None, grow_policy=None,\n",
       "             importance_type=None, interaction_constraints=None,\n",
       "             learning_rate=0.1, max_bin=None, max_cat_threshold=None,\n",
       "             max_cat_to_onehot=None, max_delta_step=None, max_depth=8,\n",
       "             max_leaves=None, min_child_weight=None, missing=nan,\n",
       "             monotone_constraints=None, multi_strategy=None, n_estimators=100,\n",
       "             n_jobs=None, num_parallel_tree=None, ...)</pre></div> </div></div></div></div></div></div></div></div></div>"
      ],
      "text/plain": [
       "GridSearchCV(cv=3,\n",
       "             estimator=XGBRegressor(base_score=None, booster=None,\n",
       "                                    callbacks=None, colsample_bylevel=None,\n",
       "                                    colsample_bynode=None,\n",
       "                                    colsample_bytree=None, device=None,\n",
       "                                    early_stopping_rounds=None,\n",
       "                                    enable_categorical=True, eval_metric=None,\n",
       "                                    feature_types=None, feature_weights=None,\n",
       "                                    gamma=None, grow_policy=None,\n",
       "                                    importance_type=None,\n",
       "                                    interaction_constraints=None,...\n",
       "                                    max_cat_to_onehot=None, max_delta_step=None,\n",
       "                                    max_depth=None, max_leaves=None,\n",
       "                                    min_child_weight=None, missing=nan,\n",
       "                                    monotone_constraints=None,\n",
       "                                    multi_strategy=None, n_estimators=None,\n",
       "                                    n_jobs=None, num_parallel_tree=None, ...),\n",
       "             n_jobs=-1,\n",
       "             param_grid={'learning_rate': [0.05, 0.1], 'max_depth': [4, 6, 8],\n",
       "                         'n_estimators': [50, 100], 'subsample': [0.8, 1.0]},\n",
       "             scoring='neg_mean_squared_error', verbose=1)"
      ]
     },
     "execution_count": 121,
     "metadata": {},
     "output_type": "execute_result"
    }
   ],
   "source": [
    "model_xgb.fit(x_train_scaled, y_train)"
   ]
  },
  {
   "cell_type": "code",
   "execution_count": 122,
   "id": "e503a228-ce9c-4059-ba6c-318840a56d61",
   "metadata": {},
   "outputs": [],
   "source": [
    "y_test_xgb_predict = model_xgb.predict(x_test_scaled)\n",
    "y_train_xgb_predict = model_xgb.predict(x_train_scaled)"
   ]
  },
  {
   "cell_type": "code",
   "execution_count": 123,
   "id": "6f45bfbb-4220-4107-b669-def18ca42567",
   "metadata": {},
   "outputs": [
    {
     "data": {
      "text/plain": [
       "(0.8356979245790025, 0.9353331246920542)"
      ]
     },
     "execution_count": 123,
     "metadata": {},
     "output_type": "execute_result"
    }
   ],
   "source": [
    "r2_test_xgb = r2_score(y_test,y_test_xgb_predict)\n",
    "r2_train_xgb = r2_score(y_train,y_train_xgb_predict)\n",
    "r2_test_xgb, r2_train_xgb"
   ]
  },
  {
   "cell_type": "code",
   "execution_count": 25,
   "id": "5c198dd8-f60e-4b6c-a317-56ac62388d8a",
   "metadata": {
    "scrolled": true
   },
   "outputs": [
    {
     "name": "stdout",
     "output_type": "stream",
     "text": [
      "Collecting tensorflow\n",
      "  Using cached tensorflow-2.19.0-cp310-cp310-win_amd64.whl.metadata (4.1 kB)\n",
      "Collecting absl-py>=1.0.0 (from tensorflow)\n",
      "  Downloading absl_py-2.3.0-py3-none-any.whl.metadata (2.4 kB)\n",
      "Collecting astunparse>=1.6.0 (from tensorflow)\n",
      "  Using cached astunparse-1.6.3-py2.py3-none-any.whl.metadata (4.4 kB)\n",
      "Collecting flatbuffers>=24.3.25 (from tensorflow)\n",
      "  Using cached flatbuffers-25.2.10-py2.py3-none-any.whl.metadata (875 bytes)\n",
      "Collecting gast!=0.5.0,!=0.5.1,!=0.5.2,>=0.2.1 (from tensorflow)\n",
      "  Using cached gast-0.6.0-py3-none-any.whl.metadata (1.3 kB)\n",
      "Collecting google-pasta>=0.1.1 (from tensorflow)\n",
      "  Using cached google_pasta-0.2.0-py3-none-any.whl.metadata (814 bytes)\n",
      "Collecting libclang>=13.0.0 (from tensorflow)\n",
      "  Using cached libclang-18.1.1-py2.py3-none-win_amd64.whl.metadata (5.3 kB)\n",
      "Collecting opt-einsum>=2.3.2 (from tensorflow)\n",
      "  Using cached opt_einsum-3.4.0-py3-none-any.whl.metadata (6.3 kB)\n",
      "Requirement already satisfied: packaging in c:\\users\\91742\\desktop\\indian_agriculture\\myenv\\lib\\site-packages (from tensorflow) (24.2)\n",
      "Collecting protobuf!=4.21.0,!=4.21.1,!=4.21.2,!=4.21.3,!=4.21.4,!=4.21.5,<6.0.0dev,>=3.20.3 (from tensorflow)\n",
      "  Downloading protobuf-5.29.5-cp310-abi3-win_amd64.whl.metadata (592 bytes)\n",
      "Requirement already satisfied: requests<3,>=2.21.0 in c:\\users\\91742\\desktop\\indian_agriculture\\myenv\\lib\\site-packages (from tensorflow) (2.32.3)\n",
      "Requirement already satisfied: setuptools in c:\\users\\91742\\desktop\\indian_agriculture\\myenv\\lib\\site-packages (from tensorflow) (72.1.0)\n",
      "Requirement already satisfied: six>=1.12.0 in c:\\users\\91742\\desktop\\indian_agriculture\\myenv\\lib\\site-packages (from tensorflow) (1.17.0)\n",
      "Collecting termcolor>=1.1.0 (from tensorflow)\n",
      "  Downloading termcolor-3.1.0-py3-none-any.whl.metadata (6.4 kB)\n",
      "Requirement already satisfied: typing-extensions>=3.6.6 in c:\\users\\91742\\desktop\\indian_agriculture\\myenv\\lib\\site-packages (from tensorflow) (4.13.2)\n",
      "Collecting wrapt>=1.11.0 (from tensorflow)\n",
      "  Using cached wrapt-1.17.2-cp310-cp310-win_amd64.whl.metadata (6.5 kB)\n",
      "Collecting grpcio<2.0,>=1.24.3 (from tensorflow)\n",
      "  Using cached grpcio-1.71.0-cp310-cp310-win_amd64.whl.metadata (4.0 kB)\n",
      "Collecting tensorboard~=2.19.0 (from tensorflow)\n",
      "  Using cached tensorboard-2.19.0-py3-none-any.whl.metadata (1.8 kB)\n",
      "Collecting keras>=3.5.0 (from tensorflow)\n",
      "  Downloading keras-3.10.0-py3-none-any.whl.metadata (6.0 kB)\n",
      "Collecting numpy<2.2.0,>=1.26.0 (from tensorflow)\n",
      "  Downloading numpy-2.1.3-cp310-cp310-win_amd64.whl.metadata (60 kB)\n",
      "Collecting h5py>=3.11.0 (from tensorflow)\n",
      "  Using cached h5py-3.13.0-cp310-cp310-win_amd64.whl.metadata (2.5 kB)\n",
      "Collecting ml-dtypes<1.0.0,>=0.5.1 (from tensorflow)\n",
      "  Using cached ml_dtypes-0.5.1-cp310-cp310-win_amd64.whl.metadata (22 kB)\n",
      "Collecting tensorflow-io-gcs-filesystem>=0.23.1 (from tensorflow)\n",
      "  Using cached tensorflow_io_gcs_filesystem-0.31.0-cp310-cp310-win_amd64.whl.metadata (14 kB)\n",
      "Requirement already satisfied: wheel<1.0,>=0.23.0 in c:\\users\\91742\\desktop\\indian_agriculture\\myenv\\lib\\site-packages (from astunparse>=1.6.0->tensorflow) (0.45.1)\n",
      "Collecting rich (from keras>=3.5.0->tensorflow)\n",
      "  Using cached rich-14.0.0-py3-none-any.whl.metadata (18 kB)\n",
      "Collecting namex (from keras>=3.5.0->tensorflow)\n",
      "  Downloading namex-0.1.0-py3-none-any.whl.metadata (322 bytes)\n",
      "Collecting optree (from keras>=3.5.0->tensorflow)\n",
      "  Downloading optree-0.16.0-cp310-cp310-win_amd64.whl.metadata (31 kB)\n",
      "Requirement already satisfied: charset-normalizer<4,>=2 in c:\\users\\91742\\desktop\\indian_agriculture\\myenv\\lib\\site-packages (from requests<3,>=2.21.0->tensorflow) (3.4.1)\n",
      "Requirement already satisfied: idna<4,>=2.5 in c:\\users\\91742\\desktop\\indian_agriculture\\myenv\\lib\\site-packages (from requests<3,>=2.21.0->tensorflow) (3.10)\n",
      "Requirement already satisfied: urllib3<3,>=1.21.1 in c:\\users\\91742\\desktop\\indian_agriculture\\myenv\\lib\\site-packages (from requests<3,>=2.21.0->tensorflow) (2.4.0)\n",
      "Requirement already satisfied: certifi>=2017.4.17 in c:\\users\\91742\\desktop\\indian_agriculture\\myenv\\lib\\site-packages (from requests<3,>=2.21.0->tensorflow) (2025.1.31)\n",
      "Collecting markdown>=2.6.8 (from tensorboard~=2.19.0->tensorflow)\n",
      "  Using cached markdown-3.8-py3-none-any.whl.metadata (5.1 kB)\n",
      "Collecting tensorboard-data-server<0.8.0,>=0.7.0 (from tensorboard~=2.19.0->tensorflow)\n",
      "  Using cached tensorboard_data_server-0.7.2-py3-none-any.whl.metadata (1.1 kB)\n",
      "Collecting werkzeug>=1.0.1 (from tensorboard~=2.19.0->tensorflow)\n",
      "  Using cached werkzeug-3.1.3-py3-none-any.whl.metadata (3.7 kB)\n",
      "Requirement already satisfied: MarkupSafe>=2.1.1 in c:\\users\\91742\\desktop\\indian_agriculture\\myenv\\lib\\site-packages (from werkzeug>=1.0.1->tensorboard~=2.19.0->tensorflow) (3.0.2)\n",
      "Collecting markdown-it-py>=2.2.0 (from rich->keras>=3.5.0->tensorflow)\n",
      "  Using cached markdown_it_py-3.0.0-py3-none-any.whl.metadata (6.9 kB)\n",
      "Requirement already satisfied: pygments<3.0.0,>=2.13.0 in c:\\users\\91742\\appdata\\roaming\\python\\python310\\site-packages (from rich->keras>=3.5.0->tensorflow) (2.19.1)\n",
      "Collecting mdurl~=0.1 (from markdown-it-py>=2.2.0->rich->keras>=3.5.0->tensorflow)\n",
      "  Using cached mdurl-0.1.2-py3-none-any.whl.metadata (1.6 kB)\n",
      "Using cached tensorflow-2.19.0-cp310-cp310-win_amd64.whl (375.7 MB)\n",
      "Downloading absl_py-2.3.0-py3-none-any.whl (135 kB)\n",
      "Using cached astunparse-1.6.3-py2.py3-none-any.whl (12 kB)\n",
      "Using cached flatbuffers-25.2.10-py2.py3-none-any.whl (30 kB)\n",
      "Using cached gast-0.6.0-py3-none-any.whl (21 kB)\n",
      "Using cached google_pasta-0.2.0-py3-none-any.whl (57 kB)\n",
      "Using cached grpcio-1.71.0-cp310-cp310-win_amd64.whl (4.3 MB)\n",
      "Using cached h5py-3.13.0-cp310-cp310-win_amd64.whl (3.0 MB)\n",
      "Downloading keras-3.10.0-py3-none-any.whl (1.4 MB)\n",
      "   ---------------------------------------- 0.0/1.4 MB ? eta -:--:--\n",
      "   ------- -------------------------------- 0.3/1.4 MB ? eta -:--:--\n",
      "   ---------------------- ----------------- 0.8/1.4 MB 2.4 MB/s eta 0:00:01\n",
      "   ---------------------------------------- 1.4/1.4 MB 2.6 MB/s eta 0:00:00\n",
      "Using cached libclang-18.1.1-py2.py3-none-win_amd64.whl (26.4 MB)\n",
      "Using cached ml_dtypes-0.5.1-cp310-cp310-win_amd64.whl (209 kB)\n",
      "Downloading numpy-2.1.3-cp310-cp310-win_amd64.whl (12.9 MB)\n",
      "   ---------------------------------------- 0.0/12.9 MB ? eta -:--:--\n",
      "   - -------------------------------------- 0.5/12.9 MB 2.8 MB/s eta 0:00:05\n",
      "   ---- ----------------------------------- 1.3/12.9 MB 3.7 MB/s eta 0:00:04\n",
      "   ------- -------------------------------- 2.4/12.9 MB 4.1 MB/s eta 0:00:03\n",
      "   ---------- ----------------------------- 3.4/12.9 MB 4.2 MB/s eta 0:00:03\n",
      "   -------------- ------------------------- 4.7/12.9 MB 4.5 MB/s eta 0:00:02\n",
      "   ----------------- ---------------------- 5.8/12.9 MB 4.6 MB/s eta 0:00:02\n",
      "   --------------------- ------------------ 6.8/12.9 MB 4.7 MB/s eta 0:00:02\n",
      "   ------------------------- -------------- 8.1/12.9 MB 4.8 MB/s eta 0:00:01\n",
      "   ------------------------------ --------- 9.7/12.9 MB 5.1 MB/s eta 0:00:01\n",
      "   ---------------------------------- ----- 11.0/12.9 MB 5.2 MB/s eta 0:00:01\n",
      "   ---------------------------------------  12.6/12.9 MB 5.3 MB/s eta 0:00:01\n",
      "   ---------------------------------------- 12.9/12.9 MB 5.2 MB/s eta 0:00:00\n",
      "Using cached opt_einsum-3.4.0-py3-none-any.whl (71 kB)\n",
      "Downloading protobuf-5.29.5-cp310-abi3-win_amd64.whl (434 kB)\n",
      "Using cached tensorboard-2.19.0-py3-none-any.whl (5.5 MB)\n",
      "Using cached tensorflow_io_gcs_filesystem-0.31.0-cp310-cp310-win_amd64.whl (1.5 MB)\n",
      "Downloading termcolor-3.1.0-py3-none-any.whl (7.7 kB)\n",
      "Using cached wrapt-1.17.2-cp310-cp310-win_amd64.whl (38 kB)\n",
      "Using cached markdown-3.8-py3-none-any.whl (106 kB)\n",
      "Using cached tensorboard_data_server-0.7.2-py3-none-any.whl (2.4 kB)\n",
      "Using cached werkzeug-3.1.3-py3-none-any.whl (224 kB)\n",
      "Downloading namex-0.1.0-py3-none-any.whl (5.9 kB)\n",
      "Downloading optree-0.16.0-cp310-cp310-win_amd64.whl (304 kB)\n",
      "Using cached rich-14.0.0-py3-none-any.whl (243 kB)\n",
      "Using cached markdown_it_py-3.0.0-py3-none-any.whl (87 kB)\n",
      "Using cached mdurl-0.1.2-py3-none-any.whl (10.0 kB)\n",
      "Installing collected packages: namex, libclang, flatbuffers, wrapt, werkzeug, termcolor, tensorflow-io-gcs-filesystem, tensorboard-data-server, protobuf, optree, opt-einsum, numpy, mdurl, markdown, grpcio, google-pasta, gast, astunparse, absl-py, tensorboard, ml-dtypes, markdown-it-py, h5py, rich, keras, tensorflow\n",
      "  Attempting uninstall: numpy\n",
      "    Found existing installation: numpy 2.2.4\n",
      "    Uninstalling numpy-2.2.4:\n",
      "      Successfully uninstalled numpy-2.2.4\n",
      "Successfully installed absl-py-2.3.0 astunparse-1.6.3 flatbuffers-25.2.10 gast-0.6.0 google-pasta-0.2.0 grpcio-1.71.0 h5py-3.13.0 keras-3.10.0 libclang-18.1.1 markdown-3.8 markdown-it-py-3.0.0 mdurl-0.1.2 ml-dtypes-0.5.1 namex-0.1.0 numpy-2.1.3 opt-einsum-3.4.0 optree-0.16.0 protobuf-5.29.5 rich-14.0.0 tensorboard-2.19.0 tensorboard-data-server-0.7.2 tensorflow-2.19.0 tensorflow-io-gcs-filesystem-0.31.0 termcolor-3.1.0 werkzeug-3.1.3 wrapt-1.17.2\n"
     ]
    }
   ],
   "source": [
    "# 4. Neural network \n",
    "!pip install tensorflow"
   ]
  },
  {
   "cell_type": "code",
   "execution_count": 124,
   "id": "5d636527-52b2-4cf9-9bf2-132f41b97516",
   "metadata": {},
   "outputs": [],
   "source": [
    "from tensorflow.keras.models import Sequential\n",
    "from tensorflow.keras.layers import Dense, BatchNormalization, Dropout,Input,LSTM\n",
    "from tensorflow.keras.optimizers import Adam\n",
    "from tensorflow.keras.callbacks import EarlyStopping, ReduceLROnPlateau, ModelCheckpoint"
   ]
  },
  {
   "cell_type": "code",
   "execution_count": 125,
   "id": "67c52baf-56a8-4519-82a9-48436192a735",
   "metadata": {},
   "outputs": [
    {
     "name": "stderr",
     "output_type": "stream",
     "text": [
      "C:\\Users\\91742\\Desktop\\indian_agriculture\\myenv\\lib\\site-packages\\keras\\src\\layers\\core\\dense.py:93: UserWarning: Do not pass an `input_shape`/`input_dim` argument to a layer. When using Sequential models, prefer using an `Input(shape)` object as the first layer in the model instead.\n",
      "  super().__init__(activity_regularizer=activity_regularizer, **kwargs)\n"
     ]
    }
   ],
   "source": [
    "model_nn = Sequential([\n",
    "    Dense(128, input_dim=10, activation='relu'),\n",
    "    BatchNormalization(),\n",
    "    Dropout(0.3),\n",
    "    Dense(64, activation='relu'),\n",
    "    BatchNormalization(),\n",
    "    Dropout(0.3),\n",
    "    Dense(32, activation='relu'),\n",
    "    Dropout(0.3),\n",
    "    Dense(1)\n",
    "    \n",
    "    ])\n",
    "model_nn.compile(optimizer=Adam(learning_rate=0.01), loss='mse', metrics=['mae','r2_score'])"
   ]
  },
  {
   "cell_type": "code",
   "execution_count": 126,
   "id": "1e832461-18a1-4639-a3d8-17ba08f8ec42",
   "metadata": {},
   "outputs": [],
   "source": [
    "early_stop = EarlyStopping(monitor='val_loss', patience=10, restore_best_weights=True)"
   ]
  },
  {
   "cell_type": "code",
   "execution_count": 127,
   "id": "66fd9bd0-8452-4bce-abd9-3c250955678c",
   "metadata": {
    "scrolled": true
   },
   "outputs": [
    {
     "name": "stdout",
     "output_type": "stream",
     "text": [
      "Epoch 1/100\n",
      "\u001b[1m418/418\u001b[0m \u001b[32m━━━━━━━━━━━━━━━━━━━━\u001b[0m\u001b[37m\u001b[0m \u001b[1m11s\u001b[0m 16ms/step - loss: 1.5245 - mae: 0.7954 - r2_score: -0.1100 - val_loss: 1.0746 - val_mae: 0.6554 - val_r2_score: 0.2656\n",
      "Epoch 2/100\n",
      "\u001b[1m418/418\u001b[0m \u001b[32m━━━━━━━━━━━━━━━━━━━━\u001b[0m\u001b[37m\u001b[0m \u001b[1m10s\u001b[0m 14ms/step - loss: 1.0119 - mae: 0.6326 - r2_score: 0.2786 - val_loss: 0.9086 - val_mae: 0.6256 - val_r2_score: 0.3791\n",
      "Epoch 3/100\n",
      "\u001b[1m418/418\u001b[0m \u001b[32m━━━━━━━━━━━━━━━━━━━━\u001b[0m\u001b[37m\u001b[0m \u001b[1m10s\u001b[0m 14ms/step - loss: 0.9197 - mae: 0.6119 - r2_score: 0.3573 - val_loss: 0.8674 - val_mae: 0.6040 - val_r2_score: 0.4072\n",
      "Epoch 4/100\n",
      "\u001b[1m418/418\u001b[0m \u001b[32m━━━━━━━━━━━━━━━━━━━━\u001b[0m\u001b[37m\u001b[0m \u001b[1m6s\u001b[0m 14ms/step - loss: 0.8288 - mae: 0.5903 - r2_score: 0.4124 - val_loss: 0.7533 - val_mae: 0.5851 - val_r2_score: 0.4852\n",
      "Epoch 5/100\n",
      "\u001b[1m418/418\u001b[0m \u001b[32m━━━━━━━━━━━━━━━━━━━━\u001b[0m\u001b[37m\u001b[0m \u001b[1m6s\u001b[0m 15ms/step - loss: 0.8450 - mae: 0.5922 - r2_score: 0.4070 - val_loss: 0.7501 - val_mae: 0.5923 - val_r2_score: 0.4874\n",
      "Epoch 6/100\n",
      "\u001b[1m 37/418\u001b[0m \u001b[32m━\u001b[0m\u001b[37m━━━━━━━━━━━━━━━━━━━\u001b[0m \u001b[1m4s\u001b[0m 12ms/step - loss: 0.7800 - mae: 0.5898 - r2_score: 0.4411"
     ]
    },
    {
     "ename": "KeyboardInterrupt",
     "evalue": "",
     "output_type": "error",
     "traceback": [
      "\u001b[1;31m---------------------------------------------------------------------------\u001b[0m",
      "\u001b[1;31mKeyboardInterrupt\u001b[0m                         Traceback (most recent call last)",
      "Cell \u001b[1;32mIn[127], line 1\u001b[0m\n\u001b[1;32m----> 1\u001b[0m \u001b[43mmodel_nn\u001b[49m\u001b[38;5;241;43m.\u001b[39;49m\u001b[43mfit\u001b[49m\u001b[43m(\u001b[49m\n\u001b[0;32m      2\u001b[0m \u001b[43m    \u001b[49m\u001b[43mx_train_scaled\u001b[49m\u001b[43m,\u001b[49m\u001b[43m \u001b[49m\u001b[43my_train\u001b[49m\u001b[43m,\u001b[49m\n\u001b[0;32m      3\u001b[0m \u001b[43m    \u001b[49m\u001b[43mvalidation_data\u001b[49m\u001b[38;5;241;43m=\u001b[39;49m\u001b[43m(\u001b[49m\u001b[43mx_test_scaled\u001b[49m\u001b[43m,\u001b[49m\u001b[43m \u001b[49m\u001b[43my_test\u001b[49m\u001b[43m)\u001b[49m\u001b[43m,\u001b[49m\n\u001b[0;32m      4\u001b[0m \u001b[43m    \u001b[49m\u001b[43mepochs\u001b[49m\u001b[38;5;241;43m=\u001b[39;49m\u001b[38;5;241;43m100\u001b[39;49m\u001b[43m,\u001b[49m\n\u001b[0;32m      5\u001b[0m \u001b[43m    \u001b[49m\u001b[43mbatch_size\u001b[49m\u001b[38;5;241;43m=\u001b[39;49m\u001b[38;5;241;43m512\u001b[39;49m\u001b[43m,\u001b[49m\n\u001b[0;32m      6\u001b[0m \u001b[43m    \u001b[49m\u001b[43mcallbacks\u001b[49m\u001b[38;5;241;43m=\u001b[39;49m\u001b[43m[\u001b[49m\u001b[43mearly_stop\u001b[49m\u001b[43m]\u001b[49m\u001b[43m,\u001b[49m\n\u001b[0;32m      7\u001b[0m \u001b[43m    \u001b[49m\u001b[43mverbose\u001b[49m\u001b[38;5;241;43m=\u001b[39;49m\u001b[38;5;241;43m1\u001b[39;49m\n\u001b[0;32m      8\u001b[0m \u001b[43m)\u001b[49m\n",
      "File \u001b[1;32m~\\Desktop\\indian_agriculture\\myenv\\lib\\site-packages\\keras\\src\\utils\\traceback_utils.py:117\u001b[0m, in \u001b[0;36mfilter_traceback.<locals>.error_handler\u001b[1;34m(*args, **kwargs)\u001b[0m\n\u001b[0;32m    115\u001b[0m filtered_tb \u001b[38;5;241m=\u001b[39m \u001b[38;5;28;01mNone\u001b[39;00m\n\u001b[0;32m    116\u001b[0m \u001b[38;5;28;01mtry\u001b[39;00m:\n\u001b[1;32m--> 117\u001b[0m     \u001b[38;5;28;01mreturn\u001b[39;00m fn(\u001b[38;5;241m*\u001b[39margs, \u001b[38;5;241m*\u001b[39m\u001b[38;5;241m*\u001b[39mkwargs)\n\u001b[0;32m    118\u001b[0m \u001b[38;5;28;01mexcept\u001b[39;00m \u001b[38;5;167;01mException\u001b[39;00m \u001b[38;5;28;01mas\u001b[39;00m e:\n\u001b[0;32m    119\u001b[0m     filtered_tb \u001b[38;5;241m=\u001b[39m _process_traceback_frames(e\u001b[38;5;241m.\u001b[39m__traceback__)\n",
      "File \u001b[1;32m~\\Desktop\\indian_agriculture\\myenv\\lib\\site-packages\\keras\\src\\backend\\tensorflow\\trainer.py:377\u001b[0m, in \u001b[0;36mTensorFlowTrainer.fit\u001b[1;34m(self, x, y, batch_size, epochs, verbose, callbacks, validation_split, validation_data, shuffle, class_weight, sample_weight, initial_epoch, steps_per_epoch, validation_steps, validation_batch_size, validation_freq)\u001b[0m\n\u001b[0;32m    375\u001b[0m \u001b[38;5;28;01mfor\u001b[39;00m step, iterator \u001b[38;5;129;01min\u001b[39;00m epoch_iterator:\n\u001b[0;32m    376\u001b[0m     callbacks\u001b[38;5;241m.\u001b[39mon_train_batch_begin(step)\n\u001b[1;32m--> 377\u001b[0m     logs \u001b[38;5;241m=\u001b[39m \u001b[38;5;28;43mself\u001b[39;49m\u001b[38;5;241;43m.\u001b[39;49m\u001b[43mtrain_function\u001b[49m\u001b[43m(\u001b[49m\u001b[43miterator\u001b[49m\u001b[43m)\u001b[49m\n\u001b[0;32m    378\u001b[0m     callbacks\u001b[38;5;241m.\u001b[39mon_train_batch_end(step, logs)\n\u001b[0;32m    379\u001b[0m     \u001b[38;5;28;01mif\u001b[39;00m \u001b[38;5;28mself\u001b[39m\u001b[38;5;241m.\u001b[39mstop_training:\n",
      "File \u001b[1;32m~\\Desktop\\indian_agriculture\\myenv\\lib\\site-packages\\keras\\src\\backend\\tensorflow\\trainer.py:220\u001b[0m, in \u001b[0;36mTensorFlowTrainer._make_function.<locals>.function\u001b[1;34m(iterator)\u001b[0m\n\u001b[0;32m    216\u001b[0m \u001b[38;5;28;01mdef\u001b[39;00m\u001b[38;5;250m \u001b[39m\u001b[38;5;21mfunction\u001b[39m(iterator):\n\u001b[0;32m    217\u001b[0m     \u001b[38;5;28;01mif\u001b[39;00m \u001b[38;5;28misinstance\u001b[39m(\n\u001b[0;32m    218\u001b[0m         iterator, (tf\u001b[38;5;241m.\u001b[39mdata\u001b[38;5;241m.\u001b[39mIterator, tf\u001b[38;5;241m.\u001b[39mdistribute\u001b[38;5;241m.\u001b[39mDistributedIterator)\n\u001b[0;32m    219\u001b[0m     ):\n\u001b[1;32m--> 220\u001b[0m         opt_outputs \u001b[38;5;241m=\u001b[39m \u001b[43mmulti_step_on_iterator\u001b[49m\u001b[43m(\u001b[49m\u001b[43miterator\u001b[49m\u001b[43m)\u001b[49m\n\u001b[0;32m    221\u001b[0m         \u001b[38;5;28;01mif\u001b[39;00m \u001b[38;5;129;01mnot\u001b[39;00m opt_outputs\u001b[38;5;241m.\u001b[39mhas_value():\n\u001b[0;32m    222\u001b[0m             \u001b[38;5;28;01mraise\u001b[39;00m \u001b[38;5;167;01mStopIteration\u001b[39;00m\n",
      "File \u001b[1;32m~\\Desktop\\indian_agriculture\\myenv\\lib\\site-packages\\tensorflow\\python\\util\\traceback_utils.py:150\u001b[0m, in \u001b[0;36mfilter_traceback.<locals>.error_handler\u001b[1;34m(*args, **kwargs)\u001b[0m\n\u001b[0;32m    148\u001b[0m filtered_tb \u001b[38;5;241m=\u001b[39m \u001b[38;5;28;01mNone\u001b[39;00m\n\u001b[0;32m    149\u001b[0m \u001b[38;5;28;01mtry\u001b[39;00m:\n\u001b[1;32m--> 150\u001b[0m   \u001b[38;5;28;01mreturn\u001b[39;00m fn(\u001b[38;5;241m*\u001b[39margs, \u001b[38;5;241m*\u001b[39m\u001b[38;5;241m*\u001b[39mkwargs)\n\u001b[0;32m    151\u001b[0m \u001b[38;5;28;01mexcept\u001b[39;00m \u001b[38;5;167;01mException\u001b[39;00m \u001b[38;5;28;01mas\u001b[39;00m e:\n\u001b[0;32m    152\u001b[0m   filtered_tb \u001b[38;5;241m=\u001b[39m _process_traceback_frames(e\u001b[38;5;241m.\u001b[39m__traceback__)\n",
      "File \u001b[1;32m~\\Desktop\\indian_agriculture\\myenv\\lib\\site-packages\\tensorflow\\python\\eager\\polymorphic_function\\polymorphic_function.py:833\u001b[0m, in \u001b[0;36mFunction.__call__\u001b[1;34m(self, *args, **kwds)\u001b[0m\n\u001b[0;32m    830\u001b[0m compiler \u001b[38;5;241m=\u001b[39m \u001b[38;5;124m\"\u001b[39m\u001b[38;5;124mxla\u001b[39m\u001b[38;5;124m\"\u001b[39m \u001b[38;5;28;01mif\u001b[39;00m \u001b[38;5;28mself\u001b[39m\u001b[38;5;241m.\u001b[39m_jit_compile \u001b[38;5;28;01melse\u001b[39;00m \u001b[38;5;124m\"\u001b[39m\u001b[38;5;124mnonXla\u001b[39m\u001b[38;5;124m\"\u001b[39m\n\u001b[0;32m    832\u001b[0m \u001b[38;5;28;01mwith\u001b[39;00m OptionalXlaContext(\u001b[38;5;28mself\u001b[39m\u001b[38;5;241m.\u001b[39m_jit_compile):\n\u001b[1;32m--> 833\u001b[0m   result \u001b[38;5;241m=\u001b[39m \u001b[38;5;28mself\u001b[39m\u001b[38;5;241m.\u001b[39m_call(\u001b[38;5;241m*\u001b[39margs, \u001b[38;5;241m*\u001b[39m\u001b[38;5;241m*\u001b[39mkwds)\n\u001b[0;32m    835\u001b[0m new_tracing_count \u001b[38;5;241m=\u001b[39m \u001b[38;5;28mself\u001b[39m\u001b[38;5;241m.\u001b[39mexperimental_get_tracing_count()\n\u001b[0;32m    836\u001b[0m without_tracing \u001b[38;5;241m=\u001b[39m (tracing_count \u001b[38;5;241m==\u001b[39m new_tracing_count)\n",
      "File \u001b[1;32m~\\Desktop\\indian_agriculture\\myenv\\lib\\site-packages\\tensorflow\\python\\eager\\polymorphic_function\\polymorphic_function.py:878\u001b[0m, in \u001b[0;36mFunction._call\u001b[1;34m(self, *args, **kwds)\u001b[0m\n\u001b[0;32m    875\u001b[0m \u001b[38;5;28mself\u001b[39m\u001b[38;5;241m.\u001b[39m_lock\u001b[38;5;241m.\u001b[39mrelease()\n\u001b[0;32m    876\u001b[0m \u001b[38;5;66;03m# In this case we have not created variables on the first call. So we can\u001b[39;00m\n\u001b[0;32m    877\u001b[0m \u001b[38;5;66;03m# run the first trace but we should fail if variables are created.\u001b[39;00m\n\u001b[1;32m--> 878\u001b[0m results \u001b[38;5;241m=\u001b[39m \u001b[43mtracing_compilation\u001b[49m\u001b[38;5;241;43m.\u001b[39;49m\u001b[43mcall_function\u001b[49m\u001b[43m(\u001b[49m\n\u001b[0;32m    879\u001b[0m \u001b[43m    \u001b[49m\u001b[43margs\u001b[49m\u001b[43m,\u001b[49m\u001b[43m \u001b[49m\u001b[43mkwds\u001b[49m\u001b[43m,\u001b[49m\u001b[43m \u001b[49m\u001b[38;5;28;43mself\u001b[39;49m\u001b[38;5;241;43m.\u001b[39;49m\u001b[43m_variable_creation_config\u001b[49m\n\u001b[0;32m    880\u001b[0m \u001b[43m\u001b[49m\u001b[43m)\u001b[49m\n\u001b[0;32m    881\u001b[0m \u001b[38;5;28;01mif\u001b[39;00m \u001b[38;5;28mself\u001b[39m\u001b[38;5;241m.\u001b[39m_created_variables:\n\u001b[0;32m    882\u001b[0m   \u001b[38;5;28;01mraise\u001b[39;00m \u001b[38;5;167;01mValueError\u001b[39;00m(\u001b[38;5;124m\"\u001b[39m\u001b[38;5;124mCreating variables on a non-first call to a function\u001b[39m\u001b[38;5;124m\"\u001b[39m\n\u001b[0;32m    883\u001b[0m                    \u001b[38;5;124m\"\u001b[39m\u001b[38;5;124m decorated with tf.function.\u001b[39m\u001b[38;5;124m\"\u001b[39m)\n",
      "File \u001b[1;32m~\\Desktop\\indian_agriculture\\myenv\\lib\\site-packages\\tensorflow\\python\\eager\\polymorphic_function\\tracing_compilation.py:139\u001b[0m, in \u001b[0;36mcall_function\u001b[1;34m(args, kwargs, tracing_options)\u001b[0m\n\u001b[0;32m    137\u001b[0m bound_args \u001b[38;5;241m=\u001b[39m function\u001b[38;5;241m.\u001b[39mfunction_type\u001b[38;5;241m.\u001b[39mbind(\u001b[38;5;241m*\u001b[39margs, \u001b[38;5;241m*\u001b[39m\u001b[38;5;241m*\u001b[39mkwargs)\n\u001b[0;32m    138\u001b[0m flat_inputs \u001b[38;5;241m=\u001b[39m function\u001b[38;5;241m.\u001b[39mfunction_type\u001b[38;5;241m.\u001b[39munpack_inputs(bound_args)\n\u001b[1;32m--> 139\u001b[0m \u001b[38;5;28;01mreturn\u001b[39;00m \u001b[43mfunction\u001b[49m\u001b[38;5;241;43m.\u001b[39;49m\u001b[43m_call_flat\u001b[49m\u001b[43m(\u001b[49m\u001b[43m  \u001b[49m\u001b[38;5;66;43;03m# pylint: disable=protected-access\u001b[39;49;00m\n\u001b[0;32m    140\u001b[0m \u001b[43m    \u001b[49m\u001b[43mflat_inputs\u001b[49m\u001b[43m,\u001b[49m\u001b[43m \u001b[49m\u001b[43mcaptured_inputs\u001b[49m\u001b[38;5;241;43m=\u001b[39;49m\u001b[43mfunction\u001b[49m\u001b[38;5;241;43m.\u001b[39;49m\u001b[43mcaptured_inputs\u001b[49m\n\u001b[0;32m    141\u001b[0m \u001b[43m\u001b[49m\u001b[43m)\u001b[49m\n",
      "File \u001b[1;32m~\\Desktop\\indian_agriculture\\myenv\\lib\\site-packages\\tensorflow\\python\\eager\\polymorphic_function\\concrete_function.py:1322\u001b[0m, in \u001b[0;36mConcreteFunction._call_flat\u001b[1;34m(self, tensor_inputs, captured_inputs)\u001b[0m\n\u001b[0;32m   1318\u001b[0m possible_gradient_type \u001b[38;5;241m=\u001b[39m gradients_util\u001b[38;5;241m.\u001b[39mPossibleTapeGradientTypes(args)\n\u001b[0;32m   1319\u001b[0m \u001b[38;5;28;01mif\u001b[39;00m (possible_gradient_type \u001b[38;5;241m==\u001b[39m gradients_util\u001b[38;5;241m.\u001b[39mPOSSIBLE_GRADIENT_TYPES_NONE\n\u001b[0;32m   1320\u001b[0m     \u001b[38;5;129;01mand\u001b[39;00m executing_eagerly):\n\u001b[0;32m   1321\u001b[0m   \u001b[38;5;66;03m# No tape is watching; skip to running the function.\u001b[39;00m\n\u001b[1;32m-> 1322\u001b[0m   \u001b[38;5;28;01mreturn\u001b[39;00m \u001b[38;5;28;43mself\u001b[39;49m\u001b[38;5;241;43m.\u001b[39;49m\u001b[43m_inference_function\u001b[49m\u001b[38;5;241;43m.\u001b[39;49m\u001b[43mcall_preflattened\u001b[49m\u001b[43m(\u001b[49m\u001b[43margs\u001b[49m\u001b[43m)\u001b[49m\n\u001b[0;32m   1323\u001b[0m forward_backward \u001b[38;5;241m=\u001b[39m \u001b[38;5;28mself\u001b[39m\u001b[38;5;241m.\u001b[39m_select_forward_and_backward_functions(\n\u001b[0;32m   1324\u001b[0m     args,\n\u001b[0;32m   1325\u001b[0m     possible_gradient_type,\n\u001b[0;32m   1326\u001b[0m     executing_eagerly)\n\u001b[0;32m   1327\u001b[0m forward_function, args_with_tangents \u001b[38;5;241m=\u001b[39m forward_backward\u001b[38;5;241m.\u001b[39mforward()\n",
      "File \u001b[1;32m~\\Desktop\\indian_agriculture\\myenv\\lib\\site-packages\\tensorflow\\python\\eager\\polymorphic_function\\atomic_function.py:216\u001b[0m, in \u001b[0;36mAtomicFunction.call_preflattened\u001b[1;34m(self, args)\u001b[0m\n\u001b[0;32m    214\u001b[0m \u001b[38;5;28;01mdef\u001b[39;00m\u001b[38;5;250m \u001b[39m\u001b[38;5;21mcall_preflattened\u001b[39m(\u001b[38;5;28mself\u001b[39m, args: Sequence[core\u001b[38;5;241m.\u001b[39mTensor]) \u001b[38;5;241m-\u001b[39m\u001b[38;5;241m>\u001b[39m Any:\n\u001b[0;32m    215\u001b[0m \u001b[38;5;250m  \u001b[39m\u001b[38;5;124;03m\"\"\"Calls with flattened tensor inputs and returns the structured output.\"\"\"\u001b[39;00m\n\u001b[1;32m--> 216\u001b[0m   flat_outputs \u001b[38;5;241m=\u001b[39m \u001b[38;5;28;43mself\u001b[39;49m\u001b[38;5;241;43m.\u001b[39;49m\u001b[43mcall_flat\u001b[49m\u001b[43m(\u001b[49m\u001b[38;5;241;43m*\u001b[39;49m\u001b[43margs\u001b[49m\u001b[43m)\u001b[49m\n\u001b[0;32m    217\u001b[0m   \u001b[38;5;28;01mreturn\u001b[39;00m \u001b[38;5;28mself\u001b[39m\u001b[38;5;241m.\u001b[39mfunction_type\u001b[38;5;241m.\u001b[39mpack_output(flat_outputs)\n",
      "File \u001b[1;32m~\\Desktop\\indian_agriculture\\myenv\\lib\\site-packages\\tensorflow\\python\\eager\\polymorphic_function\\atomic_function.py:251\u001b[0m, in \u001b[0;36mAtomicFunction.call_flat\u001b[1;34m(self, *args)\u001b[0m\n\u001b[0;32m    249\u001b[0m \u001b[38;5;28;01mwith\u001b[39;00m record\u001b[38;5;241m.\u001b[39mstop_recording():\n\u001b[0;32m    250\u001b[0m   \u001b[38;5;28;01mif\u001b[39;00m \u001b[38;5;28mself\u001b[39m\u001b[38;5;241m.\u001b[39m_bound_context\u001b[38;5;241m.\u001b[39mexecuting_eagerly():\n\u001b[1;32m--> 251\u001b[0m     outputs \u001b[38;5;241m=\u001b[39m \u001b[38;5;28;43mself\u001b[39;49m\u001b[38;5;241;43m.\u001b[39;49m\u001b[43m_bound_context\u001b[49m\u001b[38;5;241;43m.\u001b[39;49m\u001b[43mcall_function\u001b[49m\u001b[43m(\u001b[49m\n\u001b[0;32m    252\u001b[0m \u001b[43m        \u001b[49m\u001b[38;5;28;43mself\u001b[39;49m\u001b[38;5;241;43m.\u001b[39;49m\u001b[43mname\u001b[49m\u001b[43m,\u001b[49m\n\u001b[0;32m    253\u001b[0m \u001b[43m        \u001b[49m\u001b[38;5;28;43mlist\u001b[39;49m\u001b[43m(\u001b[49m\u001b[43margs\u001b[49m\u001b[43m)\u001b[49m\u001b[43m,\u001b[49m\n\u001b[0;32m    254\u001b[0m \u001b[43m        \u001b[49m\u001b[38;5;28;43mlen\u001b[39;49m\u001b[43m(\u001b[49m\u001b[38;5;28;43mself\u001b[39;49m\u001b[38;5;241;43m.\u001b[39;49m\u001b[43mfunction_type\u001b[49m\u001b[38;5;241;43m.\u001b[39;49m\u001b[43mflat_outputs\u001b[49m\u001b[43m)\u001b[49m\u001b[43m,\u001b[49m\n\u001b[0;32m    255\u001b[0m \u001b[43m    \u001b[49m\u001b[43m)\u001b[49m\n\u001b[0;32m    256\u001b[0m   \u001b[38;5;28;01melse\u001b[39;00m:\n\u001b[0;32m    257\u001b[0m     outputs \u001b[38;5;241m=\u001b[39m make_call_op_in_graph(\n\u001b[0;32m    258\u001b[0m         \u001b[38;5;28mself\u001b[39m,\n\u001b[0;32m    259\u001b[0m         \u001b[38;5;28mlist\u001b[39m(args),\n\u001b[0;32m    260\u001b[0m         \u001b[38;5;28mself\u001b[39m\u001b[38;5;241m.\u001b[39m_bound_context\u001b[38;5;241m.\u001b[39mfunction_call_options\u001b[38;5;241m.\u001b[39mas_attrs(),\n\u001b[0;32m    261\u001b[0m     )\n",
      "File \u001b[1;32m~\\Desktop\\indian_agriculture\\myenv\\lib\\site-packages\\tensorflow\\python\\eager\\context.py:1688\u001b[0m, in \u001b[0;36mContext.call_function\u001b[1;34m(self, name, tensor_inputs, num_outputs)\u001b[0m\n\u001b[0;32m   1686\u001b[0m cancellation_context \u001b[38;5;241m=\u001b[39m cancellation\u001b[38;5;241m.\u001b[39mcontext()\n\u001b[0;32m   1687\u001b[0m \u001b[38;5;28;01mif\u001b[39;00m cancellation_context \u001b[38;5;129;01mis\u001b[39;00m \u001b[38;5;28;01mNone\u001b[39;00m:\n\u001b[1;32m-> 1688\u001b[0m   outputs \u001b[38;5;241m=\u001b[39m \u001b[43mexecute\u001b[49m\u001b[38;5;241;43m.\u001b[39;49m\u001b[43mexecute\u001b[49m\u001b[43m(\u001b[49m\n\u001b[0;32m   1689\u001b[0m \u001b[43m      \u001b[49m\u001b[43mname\u001b[49m\u001b[38;5;241;43m.\u001b[39;49m\u001b[43mdecode\u001b[49m\u001b[43m(\u001b[49m\u001b[38;5;124;43m\"\u001b[39;49m\u001b[38;5;124;43mutf-8\u001b[39;49m\u001b[38;5;124;43m\"\u001b[39;49m\u001b[43m)\u001b[49m\u001b[43m,\u001b[49m\n\u001b[0;32m   1690\u001b[0m \u001b[43m      \u001b[49m\u001b[43mnum_outputs\u001b[49m\u001b[38;5;241;43m=\u001b[39;49m\u001b[43mnum_outputs\u001b[49m\u001b[43m,\u001b[49m\n\u001b[0;32m   1691\u001b[0m \u001b[43m      \u001b[49m\u001b[43minputs\u001b[49m\u001b[38;5;241;43m=\u001b[39;49m\u001b[43mtensor_inputs\u001b[49m\u001b[43m,\u001b[49m\n\u001b[0;32m   1692\u001b[0m \u001b[43m      \u001b[49m\u001b[43mattrs\u001b[49m\u001b[38;5;241;43m=\u001b[39;49m\u001b[43mattrs\u001b[49m\u001b[43m,\u001b[49m\n\u001b[0;32m   1693\u001b[0m \u001b[43m      \u001b[49m\u001b[43mctx\u001b[49m\u001b[38;5;241;43m=\u001b[39;49m\u001b[38;5;28;43mself\u001b[39;49m\u001b[43m,\u001b[49m\n\u001b[0;32m   1694\u001b[0m \u001b[43m  \u001b[49m\u001b[43m)\u001b[49m\n\u001b[0;32m   1695\u001b[0m \u001b[38;5;28;01melse\u001b[39;00m:\n\u001b[0;32m   1696\u001b[0m   outputs \u001b[38;5;241m=\u001b[39m execute\u001b[38;5;241m.\u001b[39mexecute_with_cancellation(\n\u001b[0;32m   1697\u001b[0m       name\u001b[38;5;241m.\u001b[39mdecode(\u001b[38;5;124m\"\u001b[39m\u001b[38;5;124mutf-8\u001b[39m\u001b[38;5;124m\"\u001b[39m),\n\u001b[0;32m   1698\u001b[0m       num_outputs\u001b[38;5;241m=\u001b[39mnum_outputs,\n\u001b[1;32m   (...)\u001b[0m\n\u001b[0;32m   1702\u001b[0m       cancellation_manager\u001b[38;5;241m=\u001b[39mcancellation_context,\n\u001b[0;32m   1703\u001b[0m   )\n",
      "File \u001b[1;32m~\\Desktop\\indian_agriculture\\myenv\\lib\\site-packages\\tensorflow\\python\\eager\\execute.py:53\u001b[0m, in \u001b[0;36mquick_execute\u001b[1;34m(op_name, num_outputs, inputs, attrs, ctx, name)\u001b[0m\n\u001b[0;32m     51\u001b[0m \u001b[38;5;28;01mtry\u001b[39;00m:\n\u001b[0;32m     52\u001b[0m   ctx\u001b[38;5;241m.\u001b[39mensure_initialized()\n\u001b[1;32m---> 53\u001b[0m   tensors \u001b[38;5;241m=\u001b[39m \u001b[43mpywrap_tfe\u001b[49m\u001b[38;5;241;43m.\u001b[39;49m\u001b[43mTFE_Py_Execute\u001b[49m\u001b[43m(\u001b[49m\u001b[43mctx\u001b[49m\u001b[38;5;241;43m.\u001b[39;49m\u001b[43m_handle\u001b[49m\u001b[43m,\u001b[49m\u001b[43m \u001b[49m\u001b[43mdevice_name\u001b[49m\u001b[43m,\u001b[49m\u001b[43m \u001b[49m\u001b[43mop_name\u001b[49m\u001b[43m,\u001b[49m\n\u001b[0;32m     54\u001b[0m \u001b[43m                                      \u001b[49m\u001b[43minputs\u001b[49m\u001b[43m,\u001b[49m\u001b[43m \u001b[49m\u001b[43mattrs\u001b[49m\u001b[43m,\u001b[49m\u001b[43m \u001b[49m\u001b[43mnum_outputs\u001b[49m\u001b[43m)\u001b[49m\n\u001b[0;32m     55\u001b[0m \u001b[38;5;28;01mexcept\u001b[39;00m core\u001b[38;5;241m.\u001b[39m_NotOkStatusException \u001b[38;5;28;01mas\u001b[39;00m e:\n\u001b[0;32m     56\u001b[0m   \u001b[38;5;28;01mif\u001b[39;00m name \u001b[38;5;129;01mis\u001b[39;00m \u001b[38;5;129;01mnot\u001b[39;00m \u001b[38;5;28;01mNone\u001b[39;00m:\n",
      "\u001b[1;31mKeyboardInterrupt\u001b[0m: "
     ]
    }
   ],
   "source": [
    "model_nn.fit(\n",
    "    x_train_scaled, y_train,\n",
    "    validation_data=(x_test_scaled, y_test),\n",
    "    epochs=100,\n",
    "    batch_size=512,\n",
    "    callbacks=[early_stop],\n",
    "    verbose=1\n",
    ")"
   ]
  },
  {
   "cell_type": "code",
   "execution_count": 61,
   "id": "098f9aed-2ab0-420e-9b88-e0feecae33b7",
   "metadata": {},
   "outputs": [
    {
     "name": "stdout",
     "output_type": "stream",
     "text": [
      "\u001b[1m1125/1125\u001b[0m \u001b[32m━━━━━━━━━━━━━━━━━━━━\u001b[0m\u001b[37m\u001b[0m \u001b[1m3s\u001b[0m 2ms/step\n",
      "\u001b[1m6673/6673\u001b[0m \u001b[32m━━━━━━━━━━━━━━━━━━━━\u001b[0m\u001b[37m\u001b[0m \u001b[1m17s\u001b[0m 2ms/step\n"
     ]
    }
   ],
   "source": [
    "y_test_nn_predict = model_nn.predict(x_test_scaled)\n",
    "y_train_nn_predict = model_nn.predict(x_train_scaled)"
   ]
  },
  {
   "cell_type": "code",
   "execution_count": 62,
   "id": "728a5657-a236-4264-91bc-833f9e1d6470",
   "metadata": {},
   "outputs": [
    {
     "data": {
      "text/plain": [
       "(0.6722139238830488, 0.7414490216560512)"
      ]
     },
     "execution_count": 62,
     "metadata": {},
     "output_type": "execute_result"
    }
   ],
   "source": [
    "r2_test_nn = r2_score(y_test,y_test_nn_predict)\n",
    "r2_train_nn = r2_score(y_train,y_train_nn_predict)\n",
    "r2_test_nn, r2_train_nn"
   ]
  },
  {
   "cell_type": "code",
   "execution_count": 63,
   "id": "a6714c66-f405-4310-a246-9ed0af203763",
   "metadata": {},
   "outputs": [],
   "source": [
    "X_val, X_test, Y_val, Y_test = train_test_split(x_test_for_scaling, y_test, test_size=0.5, random_state=42)\n",
    "X_val = scaler.transform(X_val)\n",
    "X_test = scaler.transform(X_test)"
   ]
  },
  {
   "cell_type": "code",
   "execution_count": 68,
   "id": "c405e86f-d6d6-4df2-bbdd-5e9d22a24a86",
   "metadata": {},
   "outputs": [],
   "source": [
    "x_train_scaled = x_train_scaled.reshape((x_train_scaled.shape[0], 1, x_train_scaled.shape[1]))\n",
    "X_val = X_val.reshape((X_val.shape[0], 1, X_val.shape[1]))\n",
    "X_test = X_test.reshape((X_test.shape[0], 1, X_test.shape[1]))"
   ]
  },
  {
   "cell_type": "code",
   "execution_count": 72,
   "id": "f2c7c3e0-9a49-491e-8e40-623bf7e31dd2",
   "metadata": {
    "scrolled": true
   },
   "outputs": [
    {
     "name": "stdout",
     "output_type": "stream",
     "text": [
      "Epoch 1/100\n",
      "\u001b[1m208/209\u001b[0m \u001b[32m━━━━━━━━━━━━━━━━━━━\u001b[0m\u001b[37m━\u001b[0m \u001b[1m0s\u001b[0m 36ms/step - loss: 2.5181 - mae: 1.1164\n",
      "Epoch 1: val_loss improved from inf to 1.35680, saving model to best_model.h5\n"
     ]
    },
    {
     "name": "stderr",
     "output_type": "stream",
     "text": [
      "WARNING:absl:You are saving your model as an HDF5 file via `model.save()` or `keras.saving.save_model(model)`. This file format is considered legacy. We recommend using instead the native Keras format, e.g. `model.save('my_model.keras')` or `keras.saving.save_model(model, 'my_model.keras')`. \n"
     ]
    },
    {
     "name": "stdout",
     "output_type": "stream",
     "text": [
      "\u001b[1m209/209\u001b[0m \u001b[32m━━━━━━━━━━━━━━━━━━━━\u001b[0m\u001b[37m\u001b[0m \u001b[1m17s\u001b[0m 47ms/step - loss: 2.5119 - mae: 1.1145 - val_loss: 1.3568 - val_mae: 0.6943 - learning_rate: 0.0010\n",
      "Epoch 2/100\n",
      "\u001b[1m209/209\u001b[0m \u001b[32m━━━━━━━━━━━━━━━━━━━━\u001b[0m\u001b[37m\u001b[0m \u001b[1m0s\u001b[0m 27ms/step - loss: 1.2507 - mae: 0.7303\n",
      "Epoch 2: val_loss improved from 1.35680 to 1.22170, saving model to best_model.h5\n"
     ]
    },
    {
     "name": "stderr",
     "output_type": "stream",
     "text": [
      "WARNING:absl:You are saving your model as an HDF5 file via `model.save()` or `keras.saving.save_model(model)`. This file format is considered legacy. We recommend using instead the native Keras format, e.g. `model.save('my_model.keras')` or `keras.saving.save_model(model, 'my_model.keras')`. \n"
     ]
    },
    {
     "name": "stdout",
     "output_type": "stream",
     "text": [
      "\u001b[1m209/209\u001b[0m \u001b[32m━━━━━━━━━━━━━━━━━━━━\u001b[0m\u001b[37m\u001b[0m \u001b[1m7s\u001b[0m 30ms/step - loss: 1.2505 - mae: 0.7303 - val_loss: 1.2217 - val_mae: 0.6541 - learning_rate: 0.0010\n",
      "Epoch 3/100\n",
      "\u001b[1m208/209\u001b[0m \u001b[32m━━━━━━━━━━━━━━━━━━━\u001b[0m\u001b[37m━\u001b[0m \u001b[1m0s\u001b[0m 39ms/step - loss: 1.1383 - mae: 0.6891\n",
      "Epoch 3: val_loss improved from 1.22170 to 1.08005, saving model to best_model.h5\n"
     ]
    },
    {
     "name": "stderr",
     "output_type": "stream",
     "text": [
      "WARNING:absl:You are saving your model as an HDF5 file via `model.save()` or `keras.saving.save_model(model)`. This file format is considered legacy. We recommend using instead the native Keras format, e.g. `model.save('my_model.keras')` or `keras.saving.save_model(model, 'my_model.keras')`. \n"
     ]
    },
    {
     "name": "stdout",
     "output_type": "stream",
     "text": [
      "\u001b[1m209/209\u001b[0m \u001b[32m━━━━━━━━━━━━━━━━━━━━\u001b[0m\u001b[37m\u001b[0m \u001b[1m9s\u001b[0m 42ms/step - loss: 1.1383 - mae: 0.6890 - val_loss: 1.0801 - val_mae: 0.6323 - learning_rate: 0.0010\n",
      "Epoch 4/100\n",
      "\u001b[1m209/209\u001b[0m \u001b[32m━━━━━━━━━━━━━━━━━━━━\u001b[0m\u001b[37m\u001b[0m \u001b[1m0s\u001b[0m 27ms/step - loss: 1.0578 - mae: 0.6621\n",
      "Epoch 4: val_loss improved from 1.08005 to 1.04095, saving model to best_model.h5\n"
     ]
    },
    {
     "name": "stderr",
     "output_type": "stream",
     "text": [
      "WARNING:absl:You are saving your model as an HDF5 file via `model.save()` or `keras.saving.save_model(model)`. This file format is considered legacy. We recommend using instead the native Keras format, e.g. `model.save('my_model.keras')` or `keras.saving.save_model(model, 'my_model.keras')`. \n"
     ]
    },
    {
     "name": "stdout",
     "output_type": "stream",
     "text": [
      "\u001b[1m209/209\u001b[0m \u001b[32m━━━━━━━━━━━━━━━━━━━━\u001b[0m\u001b[37m\u001b[0m \u001b[1m8s\u001b[0m 29ms/step - loss: 1.0578 - mae: 0.6621 - val_loss: 1.0410 - val_mae: 0.6301 - learning_rate: 0.0010\n",
      "Epoch 5/100\n",
      "\u001b[1m208/209\u001b[0m \u001b[32m━━━━━━━━━━━━━━━━━━━\u001b[0m\u001b[37m━\u001b[0m \u001b[1m0s\u001b[0m 32ms/step - loss: 1.0501 - mae: 0.6513\n",
      "Epoch 5: val_loss improved from 1.04095 to 1.01330, saving model to best_model.h5\n"
     ]
    },
    {
     "name": "stderr",
     "output_type": "stream",
     "text": [
      "WARNING:absl:You are saving your model as an HDF5 file via `model.save()` or `keras.saving.save_model(model)`. This file format is considered legacy. We recommend using instead the native Keras format, e.g. `model.save('my_model.keras')` or `keras.saving.save_model(model, 'my_model.keras')`. \n"
     ]
    },
    {
     "name": "stdout",
     "output_type": "stream",
     "text": [
      "\u001b[1m209/209\u001b[0m \u001b[32m━━━━━━━━━━━━━━━━━━━━\u001b[0m\u001b[37m\u001b[0m \u001b[1m7s\u001b[0m 35ms/step - loss: 1.0500 - mae: 0.6513 - val_loss: 1.0133 - val_mae: 0.6253 - learning_rate: 0.0010\n",
      "Epoch 6/100\n",
      "\u001b[1m208/209\u001b[0m \u001b[32m━━━━━━━━━━━━━━━━━━━\u001b[0m\u001b[37m━\u001b[0m \u001b[1m0s\u001b[0m 24ms/step - loss: 1.0237 - mae: 0.6406\n",
      "Epoch 6: val_loss improved from 1.01330 to 0.98132, saving model to best_model.h5\n"
     ]
    },
    {
     "name": "stderr",
     "output_type": "stream",
     "text": [
      "WARNING:absl:You are saving your model as an HDF5 file via `model.save()` or `keras.saving.save_model(model)`. This file format is considered legacy. We recommend using instead the native Keras format, e.g. `model.save('my_model.keras')` or `keras.saving.save_model(model, 'my_model.keras')`. \n"
     ]
    },
    {
     "name": "stdout",
     "output_type": "stream",
     "text": [
      "\u001b[1m209/209\u001b[0m \u001b[32m━━━━━━━━━━━━━━━━━━━━\u001b[0m\u001b[37m\u001b[0m \u001b[1m9s\u001b[0m 27ms/step - loss: 1.0236 - mae: 0.6406 - val_loss: 0.9813 - val_mae: 0.6191 - learning_rate: 0.0010\n",
      "Epoch 7/100\n",
      "\u001b[1m208/209\u001b[0m \u001b[32m━━━━━━━━━━━━━━━━━━━\u001b[0m\u001b[37m━\u001b[0m \u001b[1m0s\u001b[0m 38ms/step - loss: 0.9982 - mae: 0.6350\n",
      "Epoch 7: val_loss improved from 0.98132 to 0.94556, saving model to best_model.h5\n"
     ]
    },
    {
     "name": "stderr",
     "output_type": "stream",
     "text": [
      "WARNING:absl:You are saving your model as an HDF5 file via `model.save()` or `keras.saving.save_model(model)`. This file format is considered legacy. We recommend using instead the native Keras format, e.g. `model.save('my_model.keras')` or `keras.saving.save_model(model, 'my_model.keras')`. \n"
     ]
    },
    {
     "name": "stdout",
     "output_type": "stream",
     "text": [
      "\u001b[1m209/209\u001b[0m \u001b[32m━━━━━━━━━━━━━━━━━━━━\u001b[0m\u001b[37m\u001b[0m \u001b[1m9s\u001b[0m 41ms/step - loss: 0.9980 - mae: 0.6349 - val_loss: 0.9456 - val_mae: 0.6081 - learning_rate: 0.0010\n",
      "Epoch 8/100\n",
      "\u001b[1m209/209\u001b[0m \u001b[32m━━━━━━━━━━━━━━━━━━━━\u001b[0m\u001b[37m\u001b[0m \u001b[1m0s\u001b[0m 36ms/step - loss: 0.9324 - mae: 0.6184\n",
      "Epoch 8: val_loss improved from 0.94556 to 0.88372, saving model to best_model.h5\n"
     ]
    },
    {
     "name": "stderr",
     "output_type": "stream",
     "text": [
      "WARNING:absl:You are saving your model as an HDF5 file via `model.save()` or `keras.saving.save_model(model)`. This file format is considered legacy. We recommend using instead the native Keras format, e.g. `model.save('my_model.keras')` or `keras.saving.save_model(model, 'my_model.keras')`. \n"
     ]
    },
    {
     "name": "stdout",
     "output_type": "stream",
     "text": [
      "\u001b[1m209/209\u001b[0m \u001b[32m━━━━━━━━━━━━━━━━━━━━\u001b[0m\u001b[37m\u001b[0m \u001b[1m8s\u001b[0m 39ms/step - loss: 0.9324 - mae: 0.6184 - val_loss: 0.8837 - val_mae: 0.6072 - learning_rate: 0.0010\n",
      "Epoch 9/100\n",
      "\u001b[1m208/209\u001b[0m \u001b[32m━━━━━━━━━━━━━━━━━━━\u001b[0m\u001b[37m━\u001b[0m \u001b[1m0s\u001b[0m 34ms/step - loss: 0.8797 - mae: 0.6051\n",
      "Epoch 9: val_loss improved from 0.88372 to 0.87301, saving model to best_model.h5\n"
     ]
    },
    {
     "name": "stderr",
     "output_type": "stream",
     "text": [
      "WARNING:absl:You are saving your model as an HDF5 file via `model.save()` or `keras.saving.save_model(model)`. This file format is considered legacy. We recommend using instead the native Keras format, e.g. `model.save('my_model.keras')` or `keras.saving.save_model(model, 'my_model.keras')`. \n"
     ]
    },
    {
     "name": "stdout",
     "output_type": "stream",
     "text": [
      "\u001b[1m209/209\u001b[0m \u001b[32m━━━━━━━━━━━━━━━━━━━━\u001b[0m\u001b[37m\u001b[0m \u001b[1m8s\u001b[0m 36ms/step - loss: 0.8796 - mae: 0.6051 - val_loss: 0.8730 - val_mae: 0.5965 - learning_rate: 0.0010\n",
      "Epoch 10/100\n",
      "\u001b[1m208/209\u001b[0m \u001b[32m━━━━━━━━━━━━━━━━━━━\u001b[0m\u001b[37m━\u001b[0m \u001b[1m0s\u001b[0m 24ms/step - loss: 0.8485 - mae: 0.5957\n",
      "Epoch 10: val_loss improved from 0.87301 to 0.74700, saving model to best_model.h5\n"
     ]
    },
    {
     "name": "stderr",
     "output_type": "stream",
     "text": [
      "WARNING:absl:You are saving your model as an HDF5 file via `model.save()` or `keras.saving.save_model(model)`. This file format is considered legacy. We recommend using instead the native Keras format, e.g. `model.save('my_model.keras')` or `keras.saving.save_model(model, 'my_model.keras')`. \n"
     ]
    },
    {
     "name": "stdout",
     "output_type": "stream",
     "text": [
      "\u001b[1m209/209\u001b[0m \u001b[32m━━━━━━━━━━━━━━━━━━━━\u001b[0m\u001b[37m\u001b[0m \u001b[1m8s\u001b[0m 27ms/step - loss: 0.8484 - mae: 0.5957 - val_loss: 0.7470 - val_mae: 0.5749 - learning_rate: 0.0010\n",
      "Epoch 11/100\n",
      "\u001b[1m208/209\u001b[0m \u001b[32m━━━━━━━━━━━━━━━━━━━\u001b[0m\u001b[37m━\u001b[0m \u001b[1m0s\u001b[0m 37ms/step - loss: 0.8087 - mae: 0.5869\n",
      "Epoch 11: val_loss improved from 0.74700 to 0.73596, saving model to best_model.h5\n"
     ]
    },
    {
     "name": "stderr",
     "output_type": "stream",
     "text": [
      "WARNING:absl:You are saving your model as an HDF5 file via `model.save()` or `keras.saving.save_model(model)`. This file format is considered legacy. We recommend using instead the native Keras format, e.g. `model.save('my_model.keras')` or `keras.saving.save_model(model, 'my_model.keras')`. \n"
     ]
    },
    {
     "name": "stdout",
     "output_type": "stream",
     "text": [
      "\u001b[1m209/209\u001b[0m \u001b[32m━━━━━━━━━━━━━━━━━━━━\u001b[0m\u001b[37m\u001b[0m \u001b[1m8s\u001b[0m 40ms/step - loss: 0.8087 - mae: 0.5869 - val_loss: 0.7360 - val_mae: 0.5729 - learning_rate: 0.0010\n",
      "Epoch 12/100\n",
      "\u001b[1m209/209\u001b[0m \u001b[32m━━━━━━━━━━━━━━━━━━━━\u001b[0m\u001b[37m\u001b[0m \u001b[1m0s\u001b[0m 25ms/step - loss: 0.7838 - mae: 0.5778\n",
      "Epoch 12: val_loss improved from 0.73596 to 0.71269, saving model to best_model.h5\n"
     ]
    },
    {
     "name": "stderr",
     "output_type": "stream",
     "text": [
      "WARNING:absl:You are saving your model as an HDF5 file via `model.save()` or `keras.saving.save_model(model)`. This file format is considered legacy. We recommend using instead the native Keras format, e.g. `model.save('my_model.keras')` or `keras.saving.save_model(model, 'my_model.keras')`. \n"
     ]
    },
    {
     "name": "stdout",
     "output_type": "stream",
     "text": [
      "\u001b[1m209/209\u001b[0m \u001b[32m━━━━━━━━━━━━━━━━━━━━\u001b[0m\u001b[37m\u001b[0m \u001b[1m8s\u001b[0m 27ms/step - loss: 0.7838 - mae: 0.5778 - val_loss: 0.7127 - val_mae: 0.5660 - learning_rate: 0.0010\n",
      "Epoch 13/100\n",
      "\u001b[1m208/209\u001b[0m \u001b[32m━━━━━━━━━━━━━━━━━━━\u001b[0m\u001b[37m━\u001b[0m \u001b[1m0s\u001b[0m 23ms/step - loss: 0.7655 - mae: 0.5742\n",
      "Epoch 13: val_loss did not improve from 0.71269\n",
      "\u001b[1m209/209\u001b[0m \u001b[32m━━━━━━━━━━━━━━━━━━━━\u001b[0m\u001b[37m\u001b[0m \u001b[1m10s\u001b[0m 25ms/step - loss: 0.7656 - mae: 0.5742 - val_loss: 0.7180 - val_mae: 0.5653 - learning_rate: 0.0010\n",
      "Epoch 14/100\n",
      "\u001b[1m209/209\u001b[0m \u001b[32m━━━━━━━━━━━━━━━━━━━━\u001b[0m\u001b[37m\u001b[0m \u001b[1m0s\u001b[0m 25ms/step - loss: 0.7616 - mae: 0.5706\n",
      "Epoch 14: val_loss improved from 0.71269 to 0.69241, saving model to best_model.h5\n"
     ]
    },
    {
     "name": "stderr",
     "output_type": "stream",
     "text": [
      "WARNING:absl:You are saving your model as an HDF5 file via `model.save()` or `keras.saving.save_model(model)`. This file format is considered legacy. We recommend using instead the native Keras format, e.g. `model.save('my_model.keras')` or `keras.saving.save_model(model, 'my_model.keras')`. \n"
     ]
    },
    {
     "name": "stdout",
     "output_type": "stream",
     "text": [
      "\u001b[1m209/209\u001b[0m \u001b[32m━━━━━━━━━━━━━━━━━━━━\u001b[0m\u001b[37m\u001b[0m \u001b[1m11s\u001b[0m 28ms/step - loss: 0.7616 - mae: 0.5706 - val_loss: 0.6924 - val_mae: 0.5584 - learning_rate: 0.0010\n",
      "Epoch 15/100\n",
      "\u001b[1m209/209\u001b[0m \u001b[32m━━━━━━━━━━━━━━━━━━━━\u001b[0m\u001b[37m\u001b[0m \u001b[1m0s\u001b[0m 34ms/step - loss: 0.7319 - mae: 0.5615\n",
      "Epoch 15: val_loss improved from 0.69241 to 0.68034, saving model to best_model.h5\n"
     ]
    },
    {
     "name": "stderr",
     "output_type": "stream",
     "text": [
      "WARNING:absl:You are saving your model as an HDF5 file via `model.save()` or `keras.saving.save_model(model)`. This file format is considered legacy. We recommend using instead the native Keras format, e.g. `model.save('my_model.keras')` or `keras.saving.save_model(model, 'my_model.keras')`. \n"
     ]
    },
    {
     "name": "stdout",
     "output_type": "stream",
     "text": [
      "\u001b[1m209/209\u001b[0m \u001b[32m━━━━━━━━━━━━━━━━━━━━\u001b[0m\u001b[37m\u001b[0m \u001b[1m8s\u001b[0m 37ms/step - loss: 0.7319 - mae: 0.5615 - val_loss: 0.6803 - val_mae: 0.5510 - learning_rate: 0.0010\n",
      "Epoch 16/100\n",
      "\u001b[1m208/209\u001b[0m \u001b[32m━━━━━━━━━━━━━━━━━━━\u001b[0m\u001b[37m━\u001b[0m \u001b[1m0s\u001b[0m 25ms/step - loss: 0.7344 - mae: 0.5604\n",
      "Epoch 16: val_loss improved from 0.68034 to 0.67208, saving model to best_model.h5\n"
     ]
    },
    {
     "name": "stderr",
     "output_type": "stream",
     "text": [
      "WARNING:absl:You are saving your model as an HDF5 file via `model.save()` or `keras.saving.save_model(model)`. This file format is considered legacy. We recommend using instead the native Keras format, e.g. `model.save('my_model.keras')` or `keras.saving.save_model(model, 'my_model.keras')`. \n"
     ]
    },
    {
     "name": "stdout",
     "output_type": "stream",
     "text": [
      "\u001b[1m209/209\u001b[0m \u001b[32m━━━━━━━━━━━━━━━━━━━━\u001b[0m\u001b[37m\u001b[0m \u001b[1m8s\u001b[0m 28ms/step - loss: 0.7342 - mae: 0.5603 - val_loss: 0.6721 - val_mae: 0.5454 - learning_rate: 0.0010\n",
      "Epoch 17/100\n",
      "\u001b[1m209/209\u001b[0m \u001b[32m━━━━━━━━━━━━━━━━━━━━\u001b[0m\u001b[37m\u001b[0m \u001b[1m0s\u001b[0m 25ms/step - loss: 0.7079 - mae: 0.5517\n",
      "Epoch 17: val_loss improved from 0.67208 to 0.67079, saving model to best_model.h5\n"
     ]
    },
    {
     "name": "stderr",
     "output_type": "stream",
     "text": [
      "WARNING:absl:You are saving your model as an HDF5 file via `model.save()` or `keras.saving.save_model(model)`. This file format is considered legacy. We recommend using instead the native Keras format, e.g. `model.save('my_model.keras')` or `keras.saving.save_model(model, 'my_model.keras')`. \n"
     ]
    },
    {
     "name": "stdout",
     "output_type": "stream",
     "text": [
      "\u001b[1m209/209\u001b[0m \u001b[32m━━━━━━━━━━━━━━━━━━━━\u001b[0m\u001b[37m\u001b[0m \u001b[1m10s\u001b[0m 28ms/step - loss: 0.7079 - mae: 0.5517 - val_loss: 0.6708 - val_mae: 0.5409 - learning_rate: 0.0010\n",
      "Epoch 18/100\n",
      "\u001b[1m208/209\u001b[0m \u001b[32m━━━━━━━━━━━━━━━━━━━\u001b[0m\u001b[37m━\u001b[0m \u001b[1m0s\u001b[0m 30ms/step - loss: 0.7016 - mae: 0.5473\n",
      "Epoch 18: val_loss improved from 0.67079 to 0.64739, saving model to best_model.h5\n"
     ]
    },
    {
     "name": "stderr",
     "output_type": "stream",
     "text": [
      "WARNING:absl:You are saving your model as an HDF5 file via `model.save()` or `keras.saving.save_model(model)`. This file format is considered legacy. We recommend using instead the native Keras format, e.g. `model.save('my_model.keras')` or `keras.saving.save_model(model, 'my_model.keras')`. \n"
     ]
    },
    {
     "name": "stdout",
     "output_type": "stream",
     "text": [
      "\u001b[1m209/209\u001b[0m \u001b[32m━━━━━━━━━━━━━━━━━━━━\u001b[0m\u001b[37m\u001b[0m \u001b[1m7s\u001b[0m 33ms/step - loss: 0.7015 - mae: 0.5472 - val_loss: 0.6474 - val_mae: 0.5398 - learning_rate: 0.0010\n",
      "Epoch 19/100\n",
      "\u001b[1m209/209\u001b[0m \u001b[32m━━━━━━━━━━━━━━━━━━━━\u001b[0m\u001b[37m\u001b[0m \u001b[1m0s\u001b[0m 24ms/step - loss: 0.6904 - mae: 0.5441\n",
      "Epoch 19: val_loss improved from 0.64739 to 0.64012, saving model to best_model.h5\n"
     ]
    },
    {
     "name": "stderr",
     "output_type": "stream",
     "text": [
      "WARNING:absl:You are saving your model as an HDF5 file via `model.save()` or `keras.saving.save_model(model)`. This file format is considered legacy. We recommend using instead the native Keras format, e.g. `model.save('my_model.keras')` or `keras.saving.save_model(model, 'my_model.keras')`. \n"
     ]
    },
    {
     "name": "stdout",
     "output_type": "stream",
     "text": [
      "\u001b[1m209/209\u001b[0m \u001b[32m━━━━━━━━━━━━━━━━━━━━\u001b[0m\u001b[37m\u001b[0m \u001b[1m9s\u001b[0m 27ms/step - loss: 0.6904 - mae: 0.5441 - val_loss: 0.6401 - val_mae: 0.5349 - learning_rate: 0.0010\n",
      "Epoch 20/100\n",
      "\u001b[1m208/209\u001b[0m \u001b[32m━━━━━━━━━━━━━━━━━━━\u001b[0m\u001b[37m━\u001b[0m \u001b[1m0s\u001b[0m 33ms/step - loss: 0.6818 - mae: 0.5405\n",
      "Epoch 20: val_loss improved from 0.64012 to 0.63771, saving model to best_model.h5\n"
     ]
    },
    {
     "name": "stderr",
     "output_type": "stream",
     "text": [
      "WARNING:absl:You are saving your model as an HDF5 file via `model.save()` or `keras.saving.save_model(model)`. This file format is considered legacy. We recommend using instead the native Keras format, e.g. `model.save('my_model.keras')` or `keras.saving.save_model(model, 'my_model.keras')`. \n"
     ]
    },
    {
     "name": "stdout",
     "output_type": "stream",
     "text": [
      "\u001b[1m209/209\u001b[0m \u001b[32m━━━━━━━━━━━━━━━━━━━━\u001b[0m\u001b[37m\u001b[0m \u001b[1m7s\u001b[0m 35ms/step - loss: 0.6818 - mae: 0.5405 - val_loss: 0.6377 - val_mae: 0.5305 - learning_rate: 0.0010\n",
      "Epoch 21/100\n",
      "\u001b[1m209/209\u001b[0m \u001b[32m━━━━━━━━━━━━━━━━━━━━\u001b[0m\u001b[37m\u001b[0m \u001b[1m0s\u001b[0m 32ms/step - loss: 0.6577 - mae: 0.5331\n",
      "Epoch 21: val_loss improved from 0.63771 to 0.63381, saving model to best_model.h5\n"
     ]
    },
    {
     "name": "stderr",
     "output_type": "stream",
     "text": [
      "WARNING:absl:You are saving your model as an HDF5 file via `model.save()` or `keras.saving.save_model(model)`. This file format is considered legacy. We recommend using instead the native Keras format, e.g. `model.save('my_model.keras')` or `keras.saving.save_model(model, 'my_model.keras')`. \n"
     ]
    },
    {
     "name": "stdout",
     "output_type": "stream",
     "text": [
      "\u001b[1m209/209\u001b[0m \u001b[32m━━━━━━━━━━━━━━━━━━━━\u001b[0m\u001b[37m\u001b[0m \u001b[1m7s\u001b[0m 35ms/step - loss: 0.6577 - mae: 0.5331 - val_loss: 0.6338 - val_mae: 0.5257 - learning_rate: 0.0010\n",
      "Epoch 22/100\n",
      "\u001b[1m208/209\u001b[0m \u001b[32m━━━━━━━━━━━━━━━━━━━\u001b[0m\u001b[37m━\u001b[0m \u001b[1m0s\u001b[0m 26ms/step - loss: 0.6571 - mae: 0.5315\n",
      "Epoch 22: val_loss improved from 0.63381 to 0.61659, saving model to best_model.h5\n"
     ]
    },
    {
     "name": "stderr",
     "output_type": "stream",
     "text": [
      "WARNING:absl:You are saving your model as an HDF5 file via `model.save()` or `keras.saving.save_model(model)`. This file format is considered legacy. We recommend using instead the native Keras format, e.g. `model.save('my_model.keras')` or `keras.saving.save_model(model, 'my_model.keras')`. \n"
     ]
    },
    {
     "name": "stdout",
     "output_type": "stream",
     "text": [
      "\u001b[1m209/209\u001b[0m \u001b[32m━━━━━━━━━━━━━━━━━━━━\u001b[0m\u001b[37m\u001b[0m \u001b[1m9s\u001b[0m 28ms/step - loss: 0.6571 - mae: 0.5315 - val_loss: 0.6166 - val_mae: 0.5166 - learning_rate: 0.0010\n",
      "Epoch 23/100\n",
      "\u001b[1m209/209\u001b[0m \u001b[32m━━━━━━━━━━━━━━━━━━━━\u001b[0m\u001b[37m\u001b[0m \u001b[1m0s\u001b[0m 23ms/step - loss: 0.6484 - mae: 0.5278\n",
      "Epoch 23: val_loss did not improve from 0.61659\n",
      "\u001b[1m209/209\u001b[0m \u001b[32m━━━━━━━━━━━━━━━━━━━━\u001b[0m\u001b[37m\u001b[0m \u001b[1m10s\u001b[0m 25ms/step - loss: 0.6484 - mae: 0.5278 - val_loss: 0.6203 - val_mae: 0.5180 - learning_rate: 0.0010\n",
      "Epoch 24/100\n",
      "\u001b[1m209/209\u001b[0m \u001b[32m━━━━━━━━━━━━━━━━━━━━\u001b[0m\u001b[37m\u001b[0m \u001b[1m0s\u001b[0m 37ms/step - loss: 0.6308 - mae: 0.5231\n",
      "Epoch 24: val_loss improved from 0.61659 to 0.61231, saving model to best_model.h5\n"
     ]
    },
    {
     "name": "stderr",
     "output_type": "stream",
     "text": [
      "WARNING:absl:You are saving your model as an HDF5 file via `model.save()` or `keras.saving.save_model(model)`. This file format is considered legacy. We recommend using instead the native Keras format, e.g. `model.save('my_model.keras')` or `keras.saving.save_model(model, 'my_model.keras')`. \n"
     ]
    },
    {
     "name": "stdout",
     "output_type": "stream",
     "text": [
      "\u001b[1m209/209\u001b[0m \u001b[32m━━━━━━━━━━━━━━━━━━━━\u001b[0m\u001b[37m\u001b[0m \u001b[1m8s\u001b[0m 39ms/step - loss: 0.6308 - mae: 0.5231 - val_loss: 0.6123 - val_mae: 0.5145 - learning_rate: 0.0010\n",
      "Epoch 25/100\n",
      "\u001b[1m209/209\u001b[0m \u001b[32m━━━━━━━━━━━━━━━━━━━━\u001b[0m\u001b[37m\u001b[0m \u001b[1m0s\u001b[0m 24ms/step - loss: 0.6219 - mae: 0.5195\n",
      "Epoch 25: val_loss improved from 0.61231 to 0.60944, saving model to best_model.h5\n"
     ]
    },
    {
     "name": "stderr",
     "output_type": "stream",
     "text": [
      "WARNING:absl:You are saving your model as an HDF5 file via `model.save()` or `keras.saving.save_model(model)`. This file format is considered legacy. We recommend using instead the native Keras format, e.g. `model.save('my_model.keras')` or `keras.saving.save_model(model, 'my_model.keras')`. \n"
     ]
    },
    {
     "name": "stdout",
     "output_type": "stream",
     "text": [
      "\u001b[1m209/209\u001b[0m \u001b[32m━━━━━━━━━━━━━━━━━━━━\u001b[0m\u001b[37m\u001b[0m \u001b[1m8s\u001b[0m 27ms/step - loss: 0.6219 - mae: 0.5195 - val_loss: 0.6094 - val_mae: 0.5092 - learning_rate: 0.0010\n",
      "Epoch 26/100\n",
      "\u001b[1m209/209\u001b[0m \u001b[32m━━━━━━━━━━━━━━━━━━━━\u001b[0m\u001b[37m\u001b[0m \u001b[1m0s\u001b[0m 37ms/step - loss: 0.6245 - mae: 0.5152\n",
      "Epoch 26: val_loss improved from 0.60944 to 0.60082, saving model to best_model.h5\n"
     ]
    },
    {
     "name": "stderr",
     "output_type": "stream",
     "text": [
      "WARNING:absl:You are saving your model as an HDF5 file via `model.save()` or `keras.saving.save_model(model)`. This file format is considered legacy. We recommend using instead the native Keras format, e.g. `model.save('my_model.keras')` or `keras.saving.save_model(model, 'my_model.keras')`. \n"
     ]
    },
    {
     "name": "stdout",
     "output_type": "stream",
     "text": [
      "\u001b[1m209/209\u001b[0m \u001b[32m━━━━━━━━━━━━━━━━━━━━\u001b[0m\u001b[37m\u001b[0m \u001b[1m8s\u001b[0m 40ms/step - loss: 0.6244 - mae: 0.5152 - val_loss: 0.6008 - val_mae: 0.5011 - learning_rate: 0.0010\n",
      "Epoch 27/100\n",
      "\u001b[1m209/209\u001b[0m \u001b[32m━━━━━━━━━━━━━━━━━━━━\u001b[0m\u001b[37m\u001b[0m \u001b[1m0s\u001b[0m 37ms/step - loss: 0.6098 - mae: 0.5105\n",
      "Epoch 27: val_loss improved from 0.60082 to 0.59963, saving model to best_model.h5\n"
     ]
    },
    {
     "name": "stderr",
     "output_type": "stream",
     "text": [
      "WARNING:absl:You are saving your model as an HDF5 file via `model.save()` or `keras.saving.save_model(model)`. This file format is considered legacy. We recommend using instead the native Keras format, e.g. `model.save('my_model.keras')` or `keras.saving.save_model(model, 'my_model.keras')`. \n"
     ]
    },
    {
     "name": "stdout",
     "output_type": "stream",
     "text": [
      "\u001b[1m209/209\u001b[0m \u001b[32m━━━━━━━━━━━━━━━━━━━━\u001b[0m\u001b[37m\u001b[0m \u001b[1m9s\u001b[0m 41ms/step - loss: 0.6098 - mae: 0.5105 - val_loss: 0.5996 - val_mae: 0.4993 - learning_rate: 0.0010\n",
      "Epoch 28/100\n",
      "\u001b[1m209/209\u001b[0m \u001b[32m━━━━━━━━━━━━━━━━━━━━\u001b[0m\u001b[37m\u001b[0m \u001b[1m0s\u001b[0m 27ms/step - loss: 0.6055 - mae: 0.5095\n",
      "Epoch 28: val_loss did not improve from 0.59963\n",
      "\u001b[1m209/209\u001b[0m \u001b[32m━━━━━━━━━━━━━━━━━━━━\u001b[0m\u001b[37m\u001b[0m \u001b[1m6s\u001b[0m 29ms/step - loss: 0.6055 - mae: 0.5095 - val_loss: 0.6018 - val_mae: 0.4948 - learning_rate: 0.0010\n",
      "Epoch 29/100\n",
      "\u001b[1m208/209\u001b[0m \u001b[32m━━━━━━━━━━━━━━━━━━━\u001b[0m\u001b[37m━\u001b[0m \u001b[1m0s\u001b[0m 25ms/step - loss: 0.5870 - mae: 0.5027\n",
      "Epoch 29: val_loss improved from 0.59963 to 0.59753, saving model to best_model.h5\n"
     ]
    },
    {
     "name": "stderr",
     "output_type": "stream",
     "text": [
      "WARNING:absl:You are saving your model as an HDF5 file via `model.save()` or `keras.saving.save_model(model)`. This file format is considered legacy. We recommend using instead the native Keras format, e.g. `model.save('my_model.keras')` or `keras.saving.save_model(model, 'my_model.keras')`. \n"
     ]
    },
    {
     "name": "stdout",
     "output_type": "stream",
     "text": [
      "\u001b[1m209/209\u001b[0m \u001b[32m━━━━━━━━━━━━━━━━━━━━\u001b[0m\u001b[37m\u001b[0m \u001b[1m10s\u001b[0m 28ms/step - loss: 0.5871 - mae: 0.5028 - val_loss: 0.5975 - val_mae: 0.4977 - learning_rate: 0.0010\n",
      "Epoch 30/100\n",
      "\u001b[1m208/209\u001b[0m \u001b[32m━━━━━━━━━━━━━━━━━━━\u001b[0m\u001b[37m━\u001b[0m \u001b[1m0s\u001b[0m 26ms/step - loss: 0.5849 - mae: 0.5024\n",
      "Epoch 30: val_loss did not improve from 0.59753\n",
      "\u001b[1m209/209\u001b[0m \u001b[32m━━━━━━━━━━━━━━━━━━━━\u001b[0m\u001b[37m\u001b[0m \u001b[1m10s\u001b[0m 28ms/step - loss: 0.5850 - mae: 0.5024 - val_loss: 0.6066 - val_mae: 0.4956 - learning_rate: 0.0010\n",
      "Epoch 31/100\n",
      "\u001b[1m208/209\u001b[0m \u001b[32m━━━━━━━━━━━━━━━━━━━\u001b[0m\u001b[37m━\u001b[0m \u001b[1m0s\u001b[0m 37ms/step - loss: 0.5837 - mae: 0.5002\n",
      "Epoch 31: val_loss did not improve from 0.59753\n",
      "\u001b[1m209/209\u001b[0m \u001b[32m━━━━━━━━━━━━━━━━━━━━\u001b[0m\u001b[37m\u001b[0m \u001b[1m8s\u001b[0m 39ms/step - loss: 0.5838 - mae: 0.5002 - val_loss: 0.6077 - val_mae: 0.4907 - learning_rate: 0.0010\n",
      "Epoch 32/100\n",
      "\u001b[1m208/209\u001b[0m \u001b[32m━━━━━━━━━━━━━━━━━━━\u001b[0m\u001b[37m━\u001b[0m \u001b[1m0s\u001b[0m 38ms/step - loss: 0.5831 - mae: 0.4948\n",
      "Epoch 32: val_loss improved from 0.59753 to 0.57054, saving model to best_model.h5\n"
     ]
    },
    {
     "name": "stderr",
     "output_type": "stream",
     "text": [
      "WARNING:absl:You are saving your model as an HDF5 file via `model.save()` or `keras.saving.save_model(model)`. This file format is considered legacy. We recommend using instead the native Keras format, e.g. `model.save('my_model.keras')` or `keras.saving.save_model(model, 'my_model.keras')`. \n"
     ]
    },
    {
     "name": "stdout",
     "output_type": "stream",
     "text": [
      "\u001b[1m209/209\u001b[0m \u001b[32m━━━━━━━━━━━━━━━━━━━━\u001b[0m\u001b[37m\u001b[0m \u001b[1m9s\u001b[0m 41ms/step - loss: 0.5831 - mae: 0.4948 - val_loss: 0.5705 - val_mae: 0.4892 - learning_rate: 0.0010\n",
      "Epoch 33/100\n",
      "\u001b[1m208/209\u001b[0m \u001b[32m━━━━━━━━━━━━━━━━━━━\u001b[0m\u001b[37m━\u001b[0m \u001b[1m0s\u001b[0m 37ms/step - loss: 0.5736 - mae: 0.4971\n",
      "Epoch 33: val_loss did not improve from 0.57054\n",
      "\u001b[1m209/209\u001b[0m \u001b[32m━━━━━━━━━━━━━━━━━━━━\u001b[0m\u001b[37m\u001b[0m \u001b[1m8s\u001b[0m 40ms/step - loss: 0.5736 - mae: 0.4971 - val_loss: 0.6196 - val_mae: 0.4891 - learning_rate: 0.0010\n",
      "Epoch 34/100\n",
      "\u001b[1m209/209\u001b[0m \u001b[32m━━━━━━━━━━━━━━━━━━━━\u001b[0m\u001b[37m\u001b[0m \u001b[1m0s\u001b[0m 38ms/step - loss: 0.5760 - mae: 0.4930\n",
      "Epoch 34: val_loss did not improve from 0.57054\n",
      "\u001b[1m209/209\u001b[0m \u001b[32m━━━━━━━━━━━━━━━━━━━━\u001b[0m\u001b[37m\u001b[0m \u001b[1m8s\u001b[0m 40ms/step - loss: 0.5759 - mae: 0.4930 - val_loss: 0.5742 - val_mae: 0.4828 - learning_rate: 0.0010\n",
      "Epoch 35/100\n",
      "\u001b[1m209/209\u001b[0m \u001b[32m━━━━━━━━━━━━━━━━━━━━\u001b[0m\u001b[37m\u001b[0m \u001b[1m0s\u001b[0m 24ms/step - loss: 0.5543 - mae: 0.4870\n",
      "Epoch 35: val_loss did not improve from 0.57054\n",
      "\u001b[1m209/209\u001b[0m \u001b[32m━━━━━━━━━━━━━━━━━━━━\u001b[0m\u001b[37m\u001b[0m \u001b[1m7s\u001b[0m 26ms/step - loss: 0.5543 - mae: 0.4870 - val_loss: 0.5952 - val_mae: 0.4805 - learning_rate: 0.0010\n",
      "Epoch 36/100\n",
      "\u001b[1m209/209\u001b[0m \u001b[32m━━━━━━━━━━━━━━━━━━━━\u001b[0m\u001b[37m\u001b[0m \u001b[1m0s\u001b[0m 33ms/step - loss: 0.5488 - mae: 0.4822\n",
      "Epoch 36: val_loss improved from 0.57054 to 0.56065, saving model to best_model.h5\n"
     ]
    },
    {
     "name": "stderr",
     "output_type": "stream",
     "text": [
      "WARNING:absl:You are saving your model as an HDF5 file via `model.save()` or `keras.saving.save_model(model)`. This file format is considered legacy. We recommend using instead the native Keras format, e.g. `model.save('my_model.keras')` or `keras.saving.save_model(model, 'my_model.keras')`. \n"
     ]
    },
    {
     "name": "stdout",
     "output_type": "stream",
     "text": [
      "\u001b[1m209/209\u001b[0m \u001b[32m━━━━━━━━━━━━━━━━━━━━\u001b[0m\u001b[37m\u001b[0m \u001b[1m12s\u001b[0m 36ms/step - loss: 0.5488 - mae: 0.4823 - val_loss: 0.5606 - val_mae: 0.4753 - learning_rate: 0.0010\n",
      "Epoch 37/100\n",
      "\u001b[1m208/209\u001b[0m \u001b[32m━━━━━━━━━━━━━━━━━━━\u001b[0m\u001b[37m━\u001b[0m \u001b[1m0s\u001b[0m 36ms/step - loss: 0.5458 - mae: 0.4822\n",
      "Epoch 37: val_loss improved from 0.56065 to 0.54583, saving model to best_model.h5\n"
     ]
    },
    {
     "name": "stderr",
     "output_type": "stream",
     "text": [
      "WARNING:absl:You are saving your model as an HDF5 file via `model.save()` or `keras.saving.save_model(model)`. This file format is considered legacy. We recommend using instead the native Keras format, e.g. `model.save('my_model.keras')` or `keras.saving.save_model(model, 'my_model.keras')`. \n"
     ]
    },
    {
     "name": "stdout",
     "output_type": "stream",
     "text": [
      "\u001b[1m209/209\u001b[0m \u001b[32m━━━━━━━━━━━━━━━━━━━━\u001b[0m\u001b[37m\u001b[0m \u001b[1m8s\u001b[0m 39ms/step - loss: 0.5458 - mae: 0.4822 - val_loss: 0.5458 - val_mae: 0.4707 - learning_rate: 0.0010\n",
      "Epoch 38/100\n",
      "\u001b[1m208/209\u001b[0m \u001b[32m━━━━━━━━━━━━━━━━━━━\u001b[0m\u001b[37m━\u001b[0m \u001b[1m0s\u001b[0m 25ms/step - loss: 0.5327 - mae: 0.4786\n",
      "Epoch 38: val_loss did not improve from 0.54583\n",
      "\u001b[1m209/209\u001b[0m \u001b[32m━━━━━━━━━━━━━━━━━━━━\u001b[0m\u001b[37m\u001b[0m \u001b[1m8s\u001b[0m 27ms/step - loss: 0.5328 - mae: 0.4786 - val_loss: 0.5597 - val_mae: 0.4689 - learning_rate: 0.0010\n",
      "Epoch 39/100\n",
      "\u001b[1m209/209\u001b[0m \u001b[32m━━━━━━━━━━━━━━━━━━━━\u001b[0m\u001b[37m\u001b[0m \u001b[1m0s\u001b[0m 24ms/step - loss: 0.5302 - mae: 0.4749\n",
      "Epoch 39: val_loss did not improve from 0.54583\n",
      "\u001b[1m209/209\u001b[0m \u001b[32m━━━━━━━━━━━━━━━━━━━━\u001b[0m\u001b[37m\u001b[0m \u001b[1m10s\u001b[0m 26ms/step - loss: 0.5303 - mae: 0.4749 - val_loss: 0.5564 - val_mae: 0.4650 - learning_rate: 0.0010\n",
      "Epoch 40/100\n",
      "\u001b[1m209/209\u001b[0m \u001b[32m━━━━━━━━━━━━━━━━━━━━\u001b[0m\u001b[37m\u001b[0m \u001b[1m0s\u001b[0m 37ms/step - loss: 0.5446 - mae: 0.4768\n",
      "Epoch 40: val_loss did not improve from 0.54583\n",
      "\u001b[1m209/209\u001b[0m \u001b[32m━━━━━━━━━━━━━━━━━━━━\u001b[0m\u001b[37m\u001b[0m \u001b[1m8s\u001b[0m 39ms/step - loss: 0.5446 - mae: 0.4769 - val_loss: 0.5607 - val_mae: 0.4648 - learning_rate: 0.0010\n",
      "Epoch 41/100\n",
      "\u001b[1m208/209\u001b[0m \u001b[32m━━━━━━━━━━━━━━━━━━━\u001b[0m\u001b[37m━\u001b[0m \u001b[1m0s\u001b[0m 35ms/step - loss: 0.5255 - mae: 0.4734\n",
      "Epoch 41: val_loss improved from 0.54583 to 0.54191, saving model to best_model.h5\n"
     ]
    },
    {
     "name": "stderr",
     "output_type": "stream",
     "text": [
      "WARNING:absl:You are saving your model as an HDF5 file via `model.save()` or `keras.saving.save_model(model)`. This file format is considered legacy. We recommend using instead the native Keras format, e.g. `model.save('my_model.keras')` or `keras.saving.save_model(model, 'my_model.keras')`. \n"
     ]
    },
    {
     "name": "stdout",
     "output_type": "stream",
     "text": [
      "\u001b[1m209/209\u001b[0m \u001b[32m━━━━━━━━━━━━━━━━━━━━\u001b[0m\u001b[37m\u001b[0m \u001b[1m8s\u001b[0m 38ms/step - loss: 0.5255 - mae: 0.4734 - val_loss: 0.5419 - val_mae: 0.4695 - learning_rate: 0.0010\n",
      "Epoch 42/100\n",
      "\u001b[1m209/209\u001b[0m \u001b[32m━━━━━━━━━━━━━━━━━━━━\u001b[0m\u001b[37m\u001b[0m \u001b[1m0s\u001b[0m 28ms/step - loss: 0.5270 - mae: 0.4725\n",
      "Epoch 42: val_loss did not improve from 0.54191\n",
      "\u001b[1m209/209\u001b[0m \u001b[32m━━━━━━━━━━━━━━━━━━━━\u001b[0m\u001b[37m\u001b[0m \u001b[1m9s\u001b[0m 30ms/step - loss: 0.5270 - mae: 0.4725 - val_loss: 0.5442 - val_mae: 0.4583 - learning_rate: 0.0010\n",
      "Epoch 43/100\n",
      "\u001b[1m209/209\u001b[0m \u001b[32m━━━━━━━━━━━━━━━━━━━━\u001b[0m\u001b[37m\u001b[0m \u001b[1m0s\u001b[0m 32ms/step - loss: 0.5109 - mae: 0.4673\n",
      "Epoch 43: val_loss did not improve from 0.54191\n",
      "\u001b[1m209/209\u001b[0m \u001b[32m━━━━━━━━━━━━━━━━━━━━\u001b[0m\u001b[37m\u001b[0m \u001b[1m7s\u001b[0m 35ms/step - loss: 0.5109 - mae: 0.4673 - val_loss: 0.5432 - val_mae: 0.4564 - learning_rate: 0.0010\n",
      "Epoch 44/100\n",
      "\u001b[1m209/209\u001b[0m \u001b[32m━━━━━━━━━━━━━━━━━━━━\u001b[0m\u001b[37m\u001b[0m \u001b[1m0s\u001b[0m 38ms/step - loss: 0.5122 - mae: 0.4676\n",
      "Epoch 44: val_loss did not improve from 0.54191\n",
      "\u001b[1m209/209\u001b[0m \u001b[32m━━━━━━━━━━━━━━━━━━━━\u001b[0m\u001b[37m\u001b[0m \u001b[1m9s\u001b[0m 40ms/step - loss: 0.5123 - mae: 0.4676 - val_loss: 0.5551 - val_mae: 0.4556 - learning_rate: 0.0010\n",
      "Epoch 45/100\n",
      "\u001b[1m208/209\u001b[0m \u001b[32m━━━━━━━━━━━━━━━━━━━\u001b[0m\u001b[37m━\u001b[0m \u001b[1m0s\u001b[0m 37ms/step - loss: 0.5052 - mae: 0.4656\n",
      "Epoch 45: val_loss did not improve from 0.54191\n",
      "\u001b[1m209/209\u001b[0m \u001b[32m━━━━━━━━━━━━━━━━━━━━\u001b[0m\u001b[37m\u001b[0m \u001b[1m8s\u001b[0m 39ms/step - loss: 0.5052 - mae: 0.4656 - val_loss: 0.5435 - val_mae: 0.4529 - learning_rate: 0.0010\n",
      "Epoch 46/100\n",
      "\u001b[1m209/209\u001b[0m \u001b[32m━━━━━━━━━━━━━━━━━━━━\u001b[0m\u001b[37m\u001b[0m \u001b[1m0s\u001b[0m 35ms/step - loss: 0.5165 - mae: 0.4667\n",
      "Epoch 46: val_loss improved from 0.54191 to 0.53223, saving model to best_model.h5\n"
     ]
    },
    {
     "name": "stderr",
     "output_type": "stream",
     "text": [
      "WARNING:absl:You are saving your model as an HDF5 file via `model.save()` or `keras.saving.save_model(model)`. This file format is considered legacy. We recommend using instead the native Keras format, e.g. `model.save('my_model.keras')` or `keras.saving.save_model(model, 'my_model.keras')`. \n"
     ]
    },
    {
     "name": "stdout",
     "output_type": "stream",
     "text": [
      "\u001b[1m209/209\u001b[0m \u001b[32m━━━━━━━━━━━━━━━━━━━━\u001b[0m\u001b[37m\u001b[0m \u001b[1m8s\u001b[0m 38ms/step - loss: 0.5165 - mae: 0.4667 - val_loss: 0.5322 - val_mae: 0.4543 - learning_rate: 0.0010\n",
      "Epoch 47/100\n",
      "\u001b[1m208/209\u001b[0m \u001b[32m━━━━━━━━━━━━━━━━━━━\u001b[0m\u001b[37m━\u001b[0m \u001b[1m0s\u001b[0m 24ms/step - loss: 0.5093 - mae: 0.4638\n",
      "Epoch 47: val_loss did not improve from 0.53223\n",
      "\u001b[1m209/209\u001b[0m \u001b[32m━━━━━━━━━━━━━━━━━━━━\u001b[0m\u001b[37m\u001b[0m \u001b[1m8s\u001b[0m 26ms/step - loss: 0.5093 - mae: 0.4638 - val_loss: 0.5687 - val_mae: 0.4566 - learning_rate: 0.0010\n",
      "Epoch 48/100\n",
      "\u001b[1m208/209\u001b[0m \u001b[32m━━━━━━━━━━━━━━━━━━━\u001b[0m\u001b[37m━\u001b[0m \u001b[1m0s\u001b[0m 24ms/step - loss: 0.5043 - mae: 0.4617\n",
      "Epoch 48: val_loss improved from 0.53223 to 0.52860, saving model to best_model.h5\n"
     ]
    },
    {
     "name": "stderr",
     "output_type": "stream",
     "text": [
      "WARNING:absl:You are saving your model as an HDF5 file via `model.save()` or `keras.saving.save_model(model)`. This file format is considered legacy. We recommend using instead the native Keras format, e.g. `model.save('my_model.keras')` or `keras.saving.save_model(model, 'my_model.keras')`. \n"
     ]
    },
    {
     "name": "stdout",
     "output_type": "stream",
     "text": [
      "\u001b[1m209/209\u001b[0m \u001b[32m━━━━━━━━━━━━━━━━━━━━\u001b[0m\u001b[37m\u001b[0m \u001b[1m10s\u001b[0m 27ms/step - loss: 0.5043 - mae: 0.4617 - val_loss: 0.5286 - val_mae: 0.4480 - learning_rate: 0.0010\n",
      "Epoch 49/100\n",
      "\u001b[1m209/209\u001b[0m \u001b[32m━━━━━━━━━━━━━━━━━━━━\u001b[0m\u001b[37m\u001b[0m \u001b[1m0s\u001b[0m 25ms/step - loss: 0.4925 - mae: 0.4605\n",
      "Epoch 49: val_loss did not improve from 0.52860\n",
      "\u001b[1m209/209\u001b[0m \u001b[32m━━━━━━━━━━━━━━━━━━━━\u001b[0m\u001b[37m\u001b[0m \u001b[1m10s\u001b[0m 27ms/step - loss: 0.4925 - mae: 0.4605 - val_loss: 0.5360 - val_mae: 0.4533 - learning_rate: 0.0010\n",
      "Epoch 50/100\n",
      "\u001b[1m209/209\u001b[0m \u001b[32m━━━━━━━━━━━━━━━━━━━━\u001b[0m\u001b[37m\u001b[0m \u001b[1m0s\u001b[0m 24ms/step - loss: 0.4897 - mae: 0.4587\n",
      "Epoch 50: val_loss improved from 0.52860 to 0.51775, saving model to best_model.h5\n"
     ]
    },
    {
     "name": "stderr",
     "output_type": "stream",
     "text": [
      "WARNING:absl:You are saving your model as an HDF5 file via `model.save()` or `keras.saving.save_model(model)`. This file format is considered legacy. We recommend using instead the native Keras format, e.g. `model.save('my_model.keras')` or `keras.saving.save_model(model, 'my_model.keras')`. \n"
     ]
    },
    {
     "name": "stdout",
     "output_type": "stream",
     "text": [
      "\u001b[1m209/209\u001b[0m \u001b[32m━━━━━━━━━━━━━━━━━━━━\u001b[0m\u001b[37m\u001b[0m \u001b[1m10s\u001b[0m 27ms/step - loss: 0.4897 - mae: 0.4587 - val_loss: 0.5178 - val_mae: 0.4422 - learning_rate: 0.0010\n",
      "Epoch 51/100\n",
      "\u001b[1m209/209\u001b[0m \u001b[32m━━━━━━━━━━━━━━━━━━━━\u001b[0m\u001b[37m\u001b[0m \u001b[1m0s\u001b[0m 36ms/step - loss: 0.4853 - mae: 0.4550\n",
      "Epoch 51: val_loss did not improve from 0.51775\n",
      "\u001b[1m209/209\u001b[0m \u001b[32m━━━━━━━━━━━━━━━━━━━━\u001b[0m\u001b[37m\u001b[0m \u001b[1m8s\u001b[0m 38ms/step - loss: 0.4854 - mae: 0.4550 - val_loss: 0.5246 - val_mae: 0.4462 - learning_rate: 0.0010\n",
      "Epoch 52/100\n",
      "\u001b[1m209/209\u001b[0m \u001b[32m━━━━━━━━━━━━━━━━━━━━\u001b[0m\u001b[37m\u001b[0m \u001b[1m0s\u001b[0m 38ms/step - loss: 0.4965 - mae: 0.4579\n",
      "Epoch 52: val_loss did not improve from 0.51775\n",
      "\u001b[1m209/209\u001b[0m \u001b[32m━━━━━━━━━━━━━━━━━━━━\u001b[0m\u001b[37m\u001b[0m \u001b[1m8s\u001b[0m 40ms/step - loss: 0.4965 - mae: 0.4579 - val_loss: 0.5197 - val_mae: 0.4446 - learning_rate: 0.0010\n",
      "Epoch 53/100\n",
      "\u001b[1m208/209\u001b[0m \u001b[32m━━━━━━━━━━━━━━━━━━━\u001b[0m\u001b[37m━\u001b[0m \u001b[1m0s\u001b[0m 38ms/step - loss: 0.4964 - mae: 0.4571\n",
      "Epoch 53: val_loss improved from 0.51775 to 0.51639, saving model to best_model.h5\n"
     ]
    },
    {
     "name": "stderr",
     "output_type": "stream",
     "text": [
      "WARNING:absl:You are saving your model as an HDF5 file via `model.save()` or `keras.saving.save_model(model)`. This file format is considered legacy. We recommend using instead the native Keras format, e.g. `model.save('my_model.keras')` or `keras.saving.save_model(model, 'my_model.keras')`. \n"
     ]
    },
    {
     "name": "stdout",
     "output_type": "stream",
     "text": [
      "\u001b[1m209/209\u001b[0m \u001b[32m━━━━━━━━━━━━━━━━━━━━\u001b[0m\u001b[37m\u001b[0m \u001b[1m9s\u001b[0m 41ms/step - loss: 0.4963 - mae: 0.4571 - val_loss: 0.5164 - val_mae: 0.4433 - learning_rate: 0.0010\n",
      "Epoch 54/100\n",
      "\u001b[1m208/209\u001b[0m \u001b[32m━━━━━━━━━━━━━━━━━━━\u001b[0m\u001b[37m━\u001b[0m \u001b[1m0s\u001b[0m 25ms/step - loss: 0.4873 - mae: 0.4554\n",
      "Epoch 54: val_loss improved from 0.51639 to 0.50350, saving model to best_model.h5\n"
     ]
    },
    {
     "name": "stderr",
     "output_type": "stream",
     "text": [
      "WARNING:absl:You are saving your model as an HDF5 file via `model.save()` or `keras.saving.save_model(model)`. This file format is considered legacy. We recommend using instead the native Keras format, e.g. `model.save('my_model.keras')` or `keras.saving.save_model(model, 'my_model.keras')`. \n"
     ]
    },
    {
     "name": "stdout",
     "output_type": "stream",
     "text": [
      "\u001b[1m209/209\u001b[0m \u001b[32m━━━━━━━━━━━━━━━━━━━━\u001b[0m\u001b[37m\u001b[0m \u001b[1m8s\u001b[0m 28ms/step - loss: 0.4873 - mae: 0.4554 - val_loss: 0.5035 - val_mae: 0.4395 - learning_rate: 0.0010\n",
      "Epoch 55/100\n",
      "\u001b[1m208/209\u001b[0m \u001b[32m━━━━━━━━━━━━━━━━━━━\u001b[0m\u001b[37m━\u001b[0m \u001b[1m0s\u001b[0m 24ms/step - loss: 0.4882 - mae: 0.4535\n",
      "Epoch 55: val_loss improved from 0.50350 to 0.50227, saving model to best_model.h5\n"
     ]
    },
    {
     "name": "stderr",
     "output_type": "stream",
     "text": [
      "WARNING:absl:You are saving your model as an HDF5 file via `model.save()` or `keras.saving.save_model(model)`. This file format is considered legacy. We recommend using instead the native Keras format, e.g. `model.save('my_model.keras')` or `keras.saving.save_model(model, 'my_model.keras')`. \n"
     ]
    },
    {
     "name": "stdout",
     "output_type": "stream",
     "text": [
      "\u001b[1m209/209\u001b[0m \u001b[32m━━━━━━━━━━━━━━━━━━━━\u001b[0m\u001b[37m\u001b[0m \u001b[1m10s\u001b[0m 27ms/step - loss: 0.4881 - mae: 0.4535 - val_loss: 0.5023 - val_mae: 0.4413 - learning_rate: 0.0010\n",
      "Epoch 56/100\n",
      "\u001b[1m209/209\u001b[0m \u001b[32m━━━━━━━━━━━━━━━━━━━━\u001b[0m\u001b[37m\u001b[0m \u001b[1m0s\u001b[0m 24ms/step - loss: 0.4823 - mae: 0.4523\n",
      "Epoch 56: val_loss did not improve from 0.50227\n",
      "\u001b[1m209/209\u001b[0m \u001b[32m━━━━━━━━━━━━━━━━━━━━\u001b[0m\u001b[37m\u001b[0m \u001b[1m10s\u001b[0m 26ms/step - loss: 0.4823 - mae: 0.4523 - val_loss: 0.5182 - val_mae: 0.4419 - learning_rate: 0.0010\n",
      "Epoch 57/100\n",
      "\u001b[1m209/209\u001b[0m \u001b[32m━━━━━━━━━━━━━━━━━━━━\u001b[0m\u001b[37m\u001b[0m \u001b[1m0s\u001b[0m 24ms/step - loss: 0.4814 - mae: 0.4505\n",
      "Epoch 57: val_loss improved from 0.50227 to 0.49819, saving model to best_model.h5\n"
     ]
    },
    {
     "name": "stderr",
     "output_type": "stream",
     "text": [
      "WARNING:absl:You are saving your model as an HDF5 file via `model.save()` or `keras.saving.save_model(model)`. This file format is considered legacy. We recommend using instead the native Keras format, e.g. `model.save('my_model.keras')` or `keras.saving.save_model(model, 'my_model.keras')`. \n"
     ]
    },
    {
     "name": "stdout",
     "output_type": "stream",
     "text": [
      "\u001b[1m209/209\u001b[0m \u001b[32m━━━━━━━━━━━━━━━━━━━━\u001b[0m\u001b[37m\u001b[0m \u001b[1m10s\u001b[0m 26ms/step - loss: 0.4814 - mae: 0.4505 - val_loss: 0.4982 - val_mae: 0.4426 - learning_rate: 0.0010\n",
      "Epoch 58/100\n",
      "\u001b[1m209/209\u001b[0m \u001b[32m━━━━━━━━━━━━━━━━━━━━\u001b[0m\u001b[37m\u001b[0m \u001b[1m0s\u001b[0m 34ms/step - loss: 0.4795 - mae: 0.4495\n",
      "Epoch 58: val_loss did not improve from 0.49819\n",
      "\u001b[1m209/209\u001b[0m \u001b[32m━━━━━━━━━━━━━━━━━━━━\u001b[0m\u001b[37m\u001b[0m \u001b[1m12s\u001b[0m 36ms/step - loss: 0.4795 - mae: 0.4495 - val_loss: 0.5319 - val_mae: 0.4412 - learning_rate: 0.0010\n",
      "Epoch 59/100\n",
      "\u001b[1m209/209\u001b[0m \u001b[32m━━━━━━━━━━━━━━━━━━━━\u001b[0m\u001b[37m\u001b[0m \u001b[1m0s\u001b[0m 38ms/step - loss: 0.4781 - mae: 0.4504\n",
      "Epoch 59: val_loss improved from 0.49819 to 0.48931, saving model to best_model.h5\n"
     ]
    },
    {
     "name": "stderr",
     "output_type": "stream",
     "text": [
      "WARNING:absl:You are saving your model as an HDF5 file via `model.save()` or `keras.saving.save_model(model)`. This file format is considered legacy. We recommend using instead the native Keras format, e.g. `model.save('my_model.keras')` or `keras.saving.save_model(model, 'my_model.keras')`. \n"
     ]
    },
    {
     "name": "stdout",
     "output_type": "stream",
     "text": [
      "\u001b[1m209/209\u001b[0m \u001b[32m━━━━━━━━━━━━━━━━━━━━\u001b[0m\u001b[37m\u001b[0m \u001b[1m11s\u001b[0m 41ms/step - loss: 0.4781 - mae: 0.4504 - val_loss: 0.4893 - val_mae: 0.4345 - learning_rate: 0.0010\n",
      "Epoch 60/100\n",
      "\u001b[1m208/209\u001b[0m \u001b[32m━━━━━━━━━━━━━━━━━━━\u001b[0m\u001b[37m━\u001b[0m \u001b[1m0s\u001b[0m 37ms/step - loss: 0.4715 - mae: 0.4483\n",
      "Epoch 60: val_loss did not improve from 0.48931\n",
      "\u001b[1m209/209\u001b[0m \u001b[32m━━━━━━━━━━━━━━━━━━━━\u001b[0m\u001b[37m\u001b[0m \u001b[1m8s\u001b[0m 39ms/step - loss: 0.4714 - mae: 0.4483 - val_loss: 0.5096 - val_mae: 0.4420 - learning_rate: 0.0010\n",
      "Epoch 61/100\n",
      "\u001b[1m208/209\u001b[0m \u001b[32m━━━━━━━━━━━━━━━━━━━\u001b[0m\u001b[37m━\u001b[0m \u001b[1m0s\u001b[0m 24ms/step - loss: 0.4731 - mae: 0.4473\n",
      "Epoch 61: val_loss did not improve from 0.48931\n",
      "\u001b[1m209/209\u001b[0m \u001b[32m━━━━━━━━━━━━━━━━━━━━\u001b[0m\u001b[37m\u001b[0m \u001b[1m8s\u001b[0m 26ms/step - loss: 0.4731 - mae: 0.4473 - val_loss: 0.4925 - val_mae: 0.4400 - learning_rate: 0.0010\n",
      "Epoch 62/100\n",
      "\u001b[1m209/209\u001b[0m \u001b[32m━━━━━━━━━━━━━━━━━━━━\u001b[0m\u001b[37m\u001b[0m \u001b[1m0s\u001b[0m 23ms/step - loss: 0.4622 - mae: 0.4449\n",
      "Epoch 62: val_loss did not improve from 0.48931\n",
      "\u001b[1m209/209\u001b[0m \u001b[32m━━━━━━━━━━━━━━━━━━━━\u001b[0m\u001b[37m\u001b[0m \u001b[1m10s\u001b[0m 25ms/step - loss: 0.4622 - mae: 0.4450 - val_loss: 0.5161 - val_mae: 0.4360 - learning_rate: 0.0010\n",
      "Epoch 63/100\n",
      "\u001b[1m208/209\u001b[0m \u001b[32m━━━━━━━━━━━━━━━━━━━\u001b[0m\u001b[37m━\u001b[0m \u001b[1m0s\u001b[0m 25ms/step - loss: 0.4639 - mae: 0.4438\n",
      "Epoch 63: val_loss did not improve from 0.48931\n",
      "\u001b[1m209/209\u001b[0m \u001b[32m━━━━━━━━━━━━━━━━━━━━\u001b[0m\u001b[37m\u001b[0m \u001b[1m11s\u001b[0m 27ms/step - loss: 0.4639 - mae: 0.4438 - val_loss: 0.4974 - val_mae: 0.4353 - learning_rate: 0.0010\n",
      "Epoch 64/100\n",
      "\u001b[1m208/209\u001b[0m \u001b[32m━━━━━━━━━━━━━━━━━━━\u001b[0m\u001b[37m━\u001b[0m \u001b[1m0s\u001b[0m 24ms/step - loss: 0.4612 - mae: 0.4436\n",
      "Epoch 64: val_loss improved from 0.48931 to 0.48565, saving model to best_model.h5\n"
     ]
    },
    {
     "name": "stderr",
     "output_type": "stream",
     "text": [
      "WARNING:absl:You are saving your model as an HDF5 file via `model.save()` or `keras.saving.save_model(model)`. This file format is considered legacy. We recommend using instead the native Keras format, e.g. `model.save('my_model.keras')` or `keras.saving.save_model(model, 'my_model.keras')`. \n"
     ]
    },
    {
     "name": "stdout",
     "output_type": "stream",
     "text": [
      "\u001b[1m209/209\u001b[0m \u001b[32m━━━━━━━━━━━━━━━━━━━━\u001b[0m\u001b[37m\u001b[0m \u001b[1m10s\u001b[0m 27ms/step - loss: 0.4612 - mae: 0.4436 - val_loss: 0.4856 - val_mae: 0.4331 - learning_rate: 0.0010\n",
      "Epoch 65/100\n",
      "\u001b[1m208/209\u001b[0m \u001b[32m━━━━━━━━━━━━━━━━━━━\u001b[0m\u001b[37m━\u001b[0m \u001b[1m0s\u001b[0m 37ms/step - loss: 0.4702 - mae: 0.4456\n",
      "Epoch 65: val_loss did not improve from 0.48565\n",
      "\u001b[1m209/209\u001b[0m \u001b[32m━━━━━━━━━━━━━━━━━━━━\u001b[0m\u001b[37m\u001b[0m \u001b[1m8s\u001b[0m 39ms/step - loss: 0.4701 - mae: 0.4456 - val_loss: 0.4880 - val_mae: 0.4299 - learning_rate: 0.0010\n",
      "Epoch 66/100\n",
      "\u001b[1m208/209\u001b[0m \u001b[32m━━━━━━━━━━━━━━━━━━━\u001b[0m\u001b[37m━\u001b[0m \u001b[1m0s\u001b[0m 25ms/step - loss: 0.4517 - mae: 0.4411\n",
      "Epoch 66: val_loss improved from 0.48565 to 0.48093, saving model to best_model.h5\n"
     ]
    },
    {
     "name": "stderr",
     "output_type": "stream",
     "text": [
      "WARNING:absl:You are saving your model as an HDF5 file via `model.save()` or `keras.saving.save_model(model)`. This file format is considered legacy. We recommend using instead the native Keras format, e.g. `model.save('my_model.keras')` or `keras.saving.save_model(model, 'my_model.keras')`. \n"
     ]
    },
    {
     "name": "stdout",
     "output_type": "stream",
     "text": [
      "\u001b[1m209/209\u001b[0m \u001b[32m━━━━━━━━━━━━━━━━━━━━\u001b[0m\u001b[37m\u001b[0m \u001b[1m8s\u001b[0m 27ms/step - loss: 0.4517 - mae: 0.4411 - val_loss: 0.4809 - val_mae: 0.4389 - learning_rate: 0.0010\n",
      "Epoch 67/100\n",
      "\u001b[1m208/209\u001b[0m \u001b[32m━━━━━━━━━━━━━━━━━━━\u001b[0m\u001b[37m━\u001b[0m \u001b[1m0s\u001b[0m 23ms/step - loss: 0.4532 - mae: 0.4399\n",
      "Epoch 67: val_loss did not improve from 0.48093\n",
      "\u001b[1m209/209\u001b[0m \u001b[32m━━━━━━━━━━━━━━━━━━━━\u001b[0m\u001b[37m\u001b[0m \u001b[1m10s\u001b[0m 25ms/step - loss: 0.4532 - mae: 0.4399 - val_loss: 0.4826 - val_mae: 0.4229 - learning_rate: 0.0010\n",
      "Epoch 68/100\n",
      "\u001b[1m208/209\u001b[0m \u001b[32m━━━━━━━━━━━━━━━━━━━\u001b[0m\u001b[37m━\u001b[0m \u001b[1m0s\u001b[0m 32ms/step - loss: 0.4488 - mae: 0.4372\n",
      "Epoch 68: val_loss did not improve from 0.48093\n",
      "\u001b[1m209/209\u001b[0m \u001b[32m━━━━━━━━━━━━━━━━━━━━\u001b[0m\u001b[37m\u001b[0m \u001b[1m12s\u001b[0m 34ms/step - loss: 0.4489 - mae: 0.4372 - val_loss: 0.4888 - val_mae: 0.4265 - learning_rate: 0.0010\n",
      "Epoch 69/100\n",
      "\u001b[1m208/209\u001b[0m \u001b[32m━━━━━━━━━━━━━━━━━━━\u001b[0m\u001b[37m━\u001b[0m \u001b[1m0s\u001b[0m 36ms/step - loss: 0.4528 - mae: 0.4370\n",
      "Epoch 69: val_loss improved from 0.48093 to 0.47087, saving model to best_model.h5\n"
     ]
    },
    {
     "name": "stderr",
     "output_type": "stream",
     "text": [
      "WARNING:absl:You are saving your model as an HDF5 file via `model.save()` or `keras.saving.save_model(model)`. This file format is considered legacy. We recommend using instead the native Keras format, e.g. `model.save('my_model.keras')` or `keras.saving.save_model(model, 'my_model.keras')`. \n"
     ]
    },
    {
     "name": "stdout",
     "output_type": "stream",
     "text": [
      "\u001b[1m209/209\u001b[0m \u001b[32m━━━━━━━━━━━━━━━━━━━━\u001b[0m\u001b[37m\u001b[0m \u001b[1m8s\u001b[0m 39ms/step - loss: 0.4528 - mae: 0.4370 - val_loss: 0.4709 - val_mae: 0.4188 - learning_rate: 0.0010\n",
      "Epoch 70/100\n",
      "\u001b[1m208/209\u001b[0m \u001b[32m━━━━━━━━━━━━━━━━━━━\u001b[0m\u001b[37m━\u001b[0m \u001b[1m0s\u001b[0m 37ms/step - loss: 0.4441 - mae: 0.4343\n",
      "Epoch 70: val_loss did not improve from 0.47087\n",
      "\u001b[1m209/209\u001b[0m \u001b[32m━━━━━━━━━━━━━━━━━━━━\u001b[0m\u001b[37m\u001b[0m \u001b[1m8s\u001b[0m 39ms/step - loss: 0.4441 - mae: 0.4343 - val_loss: 0.4906 - val_mae: 0.4293 - learning_rate: 0.0010\n",
      "Epoch 71/100\n",
      "\u001b[1m208/209\u001b[0m \u001b[32m━━━━━━━━━━━━━━━━━━━\u001b[0m\u001b[37m━\u001b[0m \u001b[1m0s\u001b[0m 38ms/step - loss: 0.4442 - mae: 0.4343\n",
      "Epoch 71: val_loss did not improve from 0.47087\n",
      "\u001b[1m209/209\u001b[0m \u001b[32m━━━━━━━━━━━━━━━━━━━━\u001b[0m\u001b[37m\u001b[0m \u001b[1m8s\u001b[0m 40ms/step - loss: 0.4442 - mae: 0.4343 - val_loss: 0.4715 - val_mae: 0.4204 - learning_rate: 0.0010\n",
      "Epoch 72/100\n",
      "\u001b[1m208/209\u001b[0m \u001b[32m━━━━━━━━━━━━━━━━━━━\u001b[0m\u001b[37m━\u001b[0m \u001b[1m0s\u001b[0m 25ms/step - loss: 0.4361 - mae: 0.4306\n",
      "Epoch 72: val_loss did not improve from 0.47087\n",
      "\u001b[1m209/209\u001b[0m \u001b[32m━━━━━━━━━━━━━━━━━━━━\u001b[0m\u001b[37m\u001b[0m \u001b[1m8s\u001b[0m 28ms/step - loss: 0.4362 - mae: 0.4306 - val_loss: 0.4728 - val_mae: 0.4218 - learning_rate: 0.0010\n",
      "Epoch 73/100\n",
      "\u001b[1m208/209\u001b[0m \u001b[32m━━━━━━━━━━━━━━━━━━━\u001b[0m\u001b[37m━\u001b[0m \u001b[1m0s\u001b[0m 31ms/step - loss: 0.4572 - mae: 0.4358\n",
      "Epoch 73: val_loss improved from 0.47087 to 0.47041, saving model to best_model.h5\n"
     ]
    },
    {
     "name": "stderr",
     "output_type": "stream",
     "text": [
      "WARNING:absl:You are saving your model as an HDF5 file via `model.save()` or `keras.saving.save_model(model)`. This file format is considered legacy. We recommend using instead the native Keras format, e.g. `model.save('my_model.keras')` or `keras.saving.save_model(model, 'my_model.keras')`. \n"
     ]
    },
    {
     "name": "stdout",
     "output_type": "stream",
     "text": [
      "\u001b[1m209/209\u001b[0m \u001b[32m━━━━━━━━━━━━━━━━━━━━\u001b[0m\u001b[37m\u001b[0m \u001b[1m7s\u001b[0m 34ms/step - loss: 0.4571 - mae: 0.4358 - val_loss: 0.4704 - val_mae: 0.4150 - learning_rate: 0.0010\n",
      "Epoch 74/100\n",
      "\u001b[1m209/209\u001b[0m \u001b[32m━━━━━━━━━━━━━━━━━━━━\u001b[0m\u001b[37m\u001b[0m \u001b[1m0s\u001b[0m 25ms/step - loss: 0.4407 - mae: 0.4296\n",
      "Epoch 74: val_loss did not improve from 0.47041\n",
      "\u001b[1m209/209\u001b[0m \u001b[32m━━━━━━━━━━━━━━━━━━━━\u001b[0m\u001b[37m\u001b[0m \u001b[1m9s\u001b[0m 27ms/step - loss: 0.4407 - mae: 0.4296 - val_loss: 0.4802 - val_mae: 0.4211 - learning_rate: 0.0010\n",
      "Epoch 75/100\n",
      "\u001b[1m208/209\u001b[0m \u001b[32m━━━━━━━━━━━━━━━━━━━\u001b[0m\u001b[37m━\u001b[0m \u001b[1m0s\u001b[0m 23ms/step - loss: 0.4452 - mae: 0.4303\n",
      "Epoch 75: val_loss improved from 0.47041 to 0.46597, saving model to best_model.h5\n"
     ]
    },
    {
     "name": "stderr",
     "output_type": "stream",
     "text": [
      "WARNING:absl:You are saving your model as an HDF5 file via `model.save()` or `keras.saving.save_model(model)`. This file format is considered legacy. We recommend using instead the native Keras format, e.g. `model.save('my_model.keras')` or `keras.saving.save_model(model, 'my_model.keras')`. \n"
     ]
    },
    {
     "name": "stdout",
     "output_type": "stream",
     "text": [
      "\u001b[1m209/209\u001b[0m \u001b[32m━━━━━━━━━━━━━━━━━━━━\u001b[0m\u001b[37m\u001b[0m \u001b[1m10s\u001b[0m 25ms/step - loss: 0.4451 - mae: 0.4303 - val_loss: 0.4660 - val_mae: 0.4144 - learning_rate: 0.0010\n",
      "Epoch 76/100\n",
      "\u001b[1m209/209\u001b[0m \u001b[32m━━━━━━━━━━━━━━━━━━━━\u001b[0m\u001b[37m\u001b[0m \u001b[1m0s\u001b[0m 23ms/step - loss: 0.4462 - mae: 0.4299\n",
      "Epoch 76: val_loss did not improve from 0.46597\n",
      "\u001b[1m209/209\u001b[0m \u001b[32m━━━━━━━━━━━━━━━━━━━━\u001b[0m\u001b[37m\u001b[0m \u001b[1m10s\u001b[0m 26ms/step - loss: 0.4461 - mae: 0.4299 - val_loss: 0.4684 - val_mae: 0.4110 - learning_rate: 0.0010\n",
      "Epoch 77/100\n",
      "\u001b[1m208/209\u001b[0m \u001b[32m━━━━━━━━━━━━━━━━━━━\u001b[0m\u001b[37m━\u001b[0m \u001b[1m0s\u001b[0m 23ms/step - loss: 0.4322 - mae: 0.4273\n",
      "Epoch 77: val_loss did not improve from 0.46597\n",
      "\u001b[1m209/209\u001b[0m \u001b[32m━━━━━━━━━━━━━━━━━━━━\u001b[0m\u001b[37m\u001b[0m \u001b[1m10s\u001b[0m 26ms/step - loss: 0.4323 - mae: 0.4273 - val_loss: 0.4674 - val_mae: 0.4126 - learning_rate: 0.0010\n",
      "Epoch 78/100\n",
      "\u001b[1m208/209\u001b[0m \u001b[32m━━━━━━━━━━━━━━━━━━━\u001b[0m\u001b[37m━\u001b[0m \u001b[1m0s\u001b[0m 24ms/step - loss: 0.4324 - mae: 0.4283\n",
      "Epoch 78: val_loss did not improve from 0.46597\n",
      "\u001b[1m209/209\u001b[0m \u001b[32m━━━━━━━━━━━━━━━━━━━━\u001b[0m\u001b[37m\u001b[0m \u001b[1m10s\u001b[0m 27ms/step - loss: 0.4324 - mae: 0.4283 - val_loss: 0.4759 - val_mae: 0.4211 - learning_rate: 0.0010\n",
      "Epoch 79/100\n",
      "\u001b[1m208/209\u001b[0m \u001b[32m━━━━━━━━━━━━━━━━━━━\u001b[0m\u001b[37m━\u001b[0m \u001b[1m0s\u001b[0m 37ms/step - loss: 0.4406 - mae: 0.4274\n",
      "Epoch 79: val_loss improved from 0.46597 to 0.45716, saving model to best_model.h5\n"
     ]
    },
    {
     "name": "stderr",
     "output_type": "stream",
     "text": [
      "WARNING:absl:You are saving your model as an HDF5 file via `model.save()` or `keras.saving.save_model(model)`. This file format is considered legacy. We recommend using instead the native Keras format, e.g. `model.save('my_model.keras')` or `keras.saving.save_model(model, 'my_model.keras')`. \n"
     ]
    },
    {
     "name": "stdout",
     "output_type": "stream",
     "text": [
      "\u001b[1m209/209\u001b[0m \u001b[32m━━━━━━━━━━━━━━━━━━━━\u001b[0m\u001b[37m\u001b[0m \u001b[1m8s\u001b[0m 40ms/step - loss: 0.4405 - mae: 0.4273 - val_loss: 0.4572 - val_mae: 0.4152 - learning_rate: 0.0010\n",
      "Epoch 80/100\n",
      "\u001b[1m209/209\u001b[0m \u001b[32m━━━━━━━━━━━━━━━━━━━━\u001b[0m\u001b[37m\u001b[0m \u001b[1m0s\u001b[0m 25ms/step - loss: 0.4529 - mae: 0.4290\n",
      "Epoch 80: val_loss did not improve from 0.45716\n",
      "\u001b[1m209/209\u001b[0m \u001b[32m━━━━━━━━━━━━━━━━━━━━\u001b[0m\u001b[37m\u001b[0m \u001b[1m8s\u001b[0m 27ms/step - loss: 0.4528 - mae: 0.4290 - val_loss: 0.4669 - val_mae: 0.4114 - learning_rate: 0.0010\n",
      "Epoch 81/100\n",
      "\u001b[1m208/209\u001b[0m \u001b[32m━━━━━━━━━━━━━━━━━━━\u001b[0m\u001b[37m━\u001b[0m \u001b[1m0s\u001b[0m 34ms/step - loss: 0.4276 - mae: 0.4241\n",
      "Epoch 81: val_loss did not improve from 0.45716\n",
      "\u001b[1m209/209\u001b[0m \u001b[32m━━━━━━━━━━━━━━━━━━━━\u001b[0m\u001b[37m\u001b[0m \u001b[1m8s\u001b[0m 36ms/step - loss: 0.4276 - mae: 0.4241 - val_loss: 0.4611 - val_mae: 0.4095 - learning_rate: 0.0010\n",
      "Epoch 82/100\n",
      "\u001b[1m208/209\u001b[0m \u001b[32m━━━━━━━━━━━━━━━━━━━\u001b[0m\u001b[37m━\u001b[0m \u001b[1m0s\u001b[0m 37ms/step - loss: 0.4280 - mae: 0.4221\n",
      "Epoch 82: val_loss did not improve from 0.45716\n",
      "\u001b[1m209/209\u001b[0m \u001b[32m━━━━━━━━━━━━━━━━━━━━\u001b[0m\u001b[37m\u001b[0m \u001b[1m8s\u001b[0m 39ms/step - loss: 0.4279 - mae: 0.4221 - val_loss: 0.4623 - val_mae: 0.4083 - learning_rate: 0.0010\n",
      "Epoch 83/100\n",
      "\u001b[1m209/209\u001b[0m \u001b[32m━━━━━━━━━━━━━━━━━━━━\u001b[0m\u001b[37m\u001b[0m \u001b[1m0s\u001b[0m 24ms/step - loss: 0.4209 - mae: 0.4216\n",
      "Epoch 83: val_loss improved from 0.45716 to 0.45355, saving model to best_model.h5\n"
     ]
    },
    {
     "name": "stderr",
     "output_type": "stream",
     "text": [
      "WARNING:absl:You are saving your model as an HDF5 file via `model.save()` or `keras.saving.save_model(model)`. This file format is considered legacy. We recommend using instead the native Keras format, e.g. `model.save('my_model.keras')` or `keras.saving.save_model(model, 'my_model.keras')`. \n"
     ]
    },
    {
     "name": "stdout",
     "output_type": "stream",
     "text": [
      "\u001b[1m209/209\u001b[0m \u001b[32m━━━━━━━━━━━━━━━━━━━━\u001b[0m\u001b[37m\u001b[0m \u001b[1m8s\u001b[0m 27ms/step - loss: 0.4209 - mae: 0.4216 - val_loss: 0.4536 - val_mae: 0.4092 - learning_rate: 0.0010\n",
      "Epoch 84/100\n",
      "\u001b[1m209/209\u001b[0m \u001b[32m━━━━━━━━━━━━━━━━━━━━\u001b[0m\u001b[37m\u001b[0m \u001b[1m0s\u001b[0m 34ms/step - loss: 0.4305 - mae: 0.4231\n",
      "Epoch 84: val_loss did not improve from 0.45355\n",
      "\u001b[1m209/209\u001b[0m \u001b[32m━━━━━━━━━━━━━━━━━━━━\u001b[0m\u001b[37m\u001b[0m \u001b[1m8s\u001b[0m 36ms/step - loss: 0.4305 - mae: 0.4231 - val_loss: 0.4576 - val_mae: 0.4087 - learning_rate: 0.0010\n",
      "Epoch 85/100\n",
      "\u001b[1m209/209\u001b[0m \u001b[32m━━━━━━━━━━━━━━━━━━━━\u001b[0m\u001b[37m\u001b[0m \u001b[1m0s\u001b[0m 23ms/step - loss: 0.4163 - mae: 0.4181\n",
      "Epoch 85: val_loss improved from 0.45355 to 0.44585, saving model to best_model.h5\n"
     ]
    },
    {
     "name": "stderr",
     "output_type": "stream",
     "text": [
      "WARNING:absl:You are saving your model as an HDF5 file via `model.save()` or `keras.saving.save_model(model)`. This file format is considered legacy. We recommend using instead the native Keras format, e.g. `model.save('my_model.keras')` or `keras.saving.save_model(model, 'my_model.keras')`. \n"
     ]
    },
    {
     "name": "stdout",
     "output_type": "stream",
     "text": [
      "\u001b[1m209/209\u001b[0m \u001b[32m━━━━━━━━━━━━━━━━━━━━\u001b[0m\u001b[37m\u001b[0m \u001b[1m8s\u001b[0m 26ms/step - loss: 0.4163 - mae: 0.4181 - val_loss: 0.4458 - val_mae: 0.4071 - learning_rate: 0.0010\n",
      "Epoch 86/100\n",
      "\u001b[1m209/209\u001b[0m \u001b[32m━━━━━━━━━━━━━━━━━━━━\u001b[0m\u001b[37m\u001b[0m \u001b[1m0s\u001b[0m 33ms/step - loss: 0.4341 - mae: 0.4231\n",
      "Epoch 86: val_loss did not improve from 0.44585\n",
      "\u001b[1m209/209\u001b[0m \u001b[32m━━━━━━━━━━━━━━━━━━━━\u001b[0m\u001b[37m\u001b[0m \u001b[1m7s\u001b[0m 35ms/step - loss: 0.4340 - mae: 0.4231 - val_loss: 0.4470 - val_mae: 0.4072 - learning_rate: 0.0010\n",
      "Epoch 87/100\n",
      "\u001b[1m209/209\u001b[0m \u001b[32m━━━━━━━━━━━━━━━━━━━━\u001b[0m\u001b[37m\u001b[0m \u001b[1m0s\u001b[0m 34ms/step - loss: 0.4299 - mae: 0.4219\n",
      "Epoch 87: val_loss did not improve from 0.44585\n",
      "\u001b[1m209/209\u001b[0m \u001b[32m━━━━━━━━━━━━━━━━━━━━\u001b[0m\u001b[37m\u001b[0m \u001b[1m8s\u001b[0m 36ms/step - loss: 0.4299 - mae: 0.4219 - val_loss: 0.4517 - val_mae: 0.4081 - learning_rate: 0.0010\n",
      "Epoch 88/100\n",
      "\u001b[1m208/209\u001b[0m \u001b[32m━━━━━━━━━━━━━━━━━━━\u001b[0m\u001b[37m━\u001b[0m \u001b[1m0s\u001b[0m 30ms/step - loss: 0.4217 - mae: 0.4208\n",
      "Epoch 88: val_loss improved from 0.44585 to 0.44306, saving model to best_model.h5\n"
     ]
    },
    {
     "name": "stderr",
     "output_type": "stream",
     "text": [
      "WARNING:absl:You are saving your model as an HDF5 file via `model.save()` or `keras.saving.save_model(model)`. This file format is considered legacy. We recommend using instead the native Keras format, e.g. `model.save('my_model.keras')` or `keras.saving.save_model(model, 'my_model.keras')`. \n"
     ]
    },
    {
     "name": "stdout",
     "output_type": "stream",
     "text": [
      "\u001b[1m209/209\u001b[0m \u001b[32m━━━━━━━━━━━━━━━━━━━━\u001b[0m\u001b[37m\u001b[0m \u001b[1m10s\u001b[0m 33ms/step - loss: 0.4217 - mae: 0.4208 - val_loss: 0.4431 - val_mae: 0.4025 - learning_rate: 0.0010\n",
      "Epoch 89/100\n",
      "\u001b[1m209/209\u001b[0m \u001b[32m━━━━━━━━━━━━━━━━━━━━\u001b[0m\u001b[37m\u001b[0m \u001b[1m0s\u001b[0m 23ms/step - loss: 0.4174 - mae: 0.4186\n",
      "Epoch 89: val_loss improved from 0.44306 to 0.44171, saving model to best_model.h5\n"
     ]
    },
    {
     "name": "stderr",
     "output_type": "stream",
     "text": [
      "WARNING:absl:You are saving your model as an HDF5 file via `model.save()` or `keras.saving.save_model(model)`. This file format is considered legacy. We recommend using instead the native Keras format, e.g. `model.save('my_model.keras')` or `keras.saving.save_model(model, 'my_model.keras')`. \n"
     ]
    },
    {
     "name": "stdout",
     "output_type": "stream",
     "text": [
      "\u001b[1m209/209\u001b[0m \u001b[32m━━━━━━━━━━━━━━━━━━━━\u001b[0m\u001b[37m\u001b[0m \u001b[1m9s\u001b[0m 26ms/step - loss: 0.4174 - mae: 0.4186 - val_loss: 0.4417 - val_mae: 0.4036 - learning_rate: 0.0010\n",
      "Epoch 90/100\n",
      "\u001b[1m209/209\u001b[0m \u001b[32m━━━━━━━━━━━━━━━━━━━━\u001b[0m\u001b[37m\u001b[0m \u001b[1m0s\u001b[0m 36ms/step - loss: 0.4113 - mae: 0.4172\n",
      "Epoch 90: val_loss did not improve from 0.44171\n",
      "\u001b[1m209/209\u001b[0m \u001b[32m━━━━━━━━━━━━━━━━━━━━\u001b[0m\u001b[37m\u001b[0m \u001b[1m8s\u001b[0m 38ms/step - loss: 0.4113 - mae: 0.4172 - val_loss: 0.4496 - val_mae: 0.4001 - learning_rate: 0.0010\n",
      "Epoch 91/100\n",
      "\u001b[1m208/209\u001b[0m \u001b[32m━━━━━━━━━━━━━━━━━━━\u001b[0m\u001b[37m━\u001b[0m \u001b[1m0s\u001b[0m 25ms/step - loss: 0.4243 - mae: 0.4187\n",
      "Epoch 91: val_loss improved from 0.44171 to 0.43681, saving model to best_model.h5\n"
     ]
    },
    {
     "name": "stderr",
     "output_type": "stream",
     "text": [
      "WARNING:absl:You are saving your model as an HDF5 file via `model.save()` or `keras.saving.save_model(model)`. This file format is considered legacy. We recommend using instead the native Keras format, e.g. `model.save('my_model.keras')` or `keras.saving.save_model(model, 'my_model.keras')`. \n"
     ]
    },
    {
     "name": "stdout",
     "output_type": "stream",
     "text": [
      "\u001b[1m209/209\u001b[0m \u001b[32m━━━━━━━━━━━━━━━━━━━━\u001b[0m\u001b[37m\u001b[0m \u001b[1m8s\u001b[0m 27ms/step - loss: 0.4242 - mae: 0.4187 - val_loss: 0.4368 - val_mae: 0.3992 - learning_rate: 0.0010\n",
      "Epoch 92/100\n",
      "\u001b[1m208/209\u001b[0m \u001b[32m━━━━━━━━━━━━━━━━━━━\u001b[0m\u001b[37m━\u001b[0m \u001b[1m0s\u001b[0m 24ms/step - loss: 0.4211 - mae: 0.4153\n",
      "Epoch 92: val_loss did not improve from 0.43681\n",
      "\u001b[1m209/209\u001b[0m \u001b[32m━━━━━━━━━━━━━━━━━━━━\u001b[0m\u001b[37m\u001b[0m \u001b[1m10s\u001b[0m 27ms/step - loss: 0.4211 - mae: 0.4153 - val_loss: 0.4642 - val_mae: 0.4072 - learning_rate: 0.0010\n",
      "Epoch 93/100\n",
      "\u001b[1m209/209\u001b[0m \u001b[32m━━━━━━━━━━━━━━━━━━━━\u001b[0m\u001b[37m\u001b[0m \u001b[1m0s\u001b[0m 33ms/step - loss: 0.4256 - mae: 0.4186\n",
      "Epoch 93: val_loss improved from 0.43681 to 0.43537, saving model to best_model.h5\n"
     ]
    },
    {
     "name": "stderr",
     "output_type": "stream",
     "text": [
      "WARNING:absl:You are saving your model as an HDF5 file via `model.save()` or `keras.saving.save_model(model)`. This file format is considered legacy. We recommend using instead the native Keras format, e.g. `model.save('my_model.keras')` or `keras.saving.save_model(model, 'my_model.keras')`. \n"
     ]
    },
    {
     "name": "stdout",
     "output_type": "stream",
     "text": [
      "\u001b[1m209/209\u001b[0m \u001b[32m━━━━━━━━━━━━━━━━━━━━\u001b[0m\u001b[37m\u001b[0m \u001b[1m8s\u001b[0m 36ms/step - loss: 0.4255 - mae: 0.4186 - val_loss: 0.4354 - val_mae: 0.3997 - learning_rate: 0.0010\n",
      "Epoch 94/100\n",
      "\u001b[1m208/209\u001b[0m \u001b[32m━━━━━━━━━━━━━━━━━━━\u001b[0m\u001b[37m━\u001b[0m \u001b[1m0s\u001b[0m 38ms/step - loss: 0.4162 - mae: 0.4158\n",
      "Epoch 94: val_loss did not improve from 0.43537\n",
      "\u001b[1m209/209\u001b[0m \u001b[32m━━━━━━━━━━━━━━━━━━━━\u001b[0m\u001b[37m\u001b[0m \u001b[1m8s\u001b[0m 40ms/step - loss: 0.4162 - mae: 0.4158 - val_loss: 0.4662 - val_mae: 0.4076 - learning_rate: 0.0010\n",
      "Epoch 95/100\n",
      "\u001b[1m209/209\u001b[0m \u001b[32m━━━━━━━━━━━━━━━━━━━━\u001b[0m\u001b[37m\u001b[0m \u001b[1m0s\u001b[0m 24ms/step - loss: 0.4145 - mae: 0.4163\n",
      "Epoch 95: val_loss did not improve from 0.43537\n",
      "\u001b[1m209/209\u001b[0m \u001b[32m━━━━━━━━━━━━━━━━━━━━\u001b[0m\u001b[37m\u001b[0m \u001b[1m7s\u001b[0m 26ms/step - loss: 0.4145 - mae: 0.4163 - val_loss: 0.4622 - val_mae: 0.4057 - learning_rate: 0.0010\n",
      "Epoch 96/100\n",
      "\u001b[1m209/209\u001b[0m \u001b[32m━━━━━━━━━━━━━━━━━━━━\u001b[0m\u001b[37m\u001b[0m \u001b[1m0s\u001b[0m 32ms/step - loss: 0.4142 - mae: 0.4142\n",
      "Epoch 96: val_loss did not improve from 0.43537\n",
      "\u001b[1m209/209\u001b[0m \u001b[32m━━━━━━━━━━━━━━━━━━━━\u001b[0m\u001b[37m\u001b[0m \u001b[1m7s\u001b[0m 34ms/step - loss: 0.4142 - mae: 0.4142 - val_loss: 0.4412 - val_mae: 0.3959 - learning_rate: 0.0010\n",
      "Epoch 97/100\n",
      "\u001b[1m207/209\u001b[0m \u001b[32m━━━━━━━━━━━━━━━━━━━\u001b[0m\u001b[37m━\u001b[0m \u001b[1m0s\u001b[0m 32ms/step - loss: 0.4123 - mae: 0.4133\n",
      "Epoch 97: val_loss did not improve from 0.43537\n",
      "\u001b[1m209/209\u001b[0m \u001b[32m━━━━━━━━━━━━━━━━━━━━\u001b[0m\u001b[37m\u001b[0m \u001b[1m10s\u001b[0m 33ms/step - loss: 0.4123 - mae: 0.4133 - val_loss: 0.4449 - val_mae: 0.3964 - learning_rate: 0.0010\n",
      "Epoch 98/100\n",
      "\u001b[1m208/209\u001b[0m \u001b[32m━━━━━━━━━━━━━━━━━━━\u001b[0m\u001b[37m━\u001b[0m \u001b[1m0s\u001b[0m 32ms/step - loss: 0.4151 - mae: 0.4140\n",
      "Epoch 98: val_loss improved from 0.43537 to 0.43174, saving model to best_model.h5\n"
     ]
    },
    {
     "name": "stderr",
     "output_type": "stream",
     "text": [
      "WARNING:absl:You are saving your model as an HDF5 file via `model.save()` or `keras.saving.save_model(model)`. This file format is considered legacy. We recommend using instead the native Keras format, e.g. `model.save('my_model.keras')` or `keras.saving.save_model(model, 'my_model.keras')`. \n"
     ]
    },
    {
     "name": "stdout",
     "output_type": "stream",
     "text": [
      "\u001b[1m209/209\u001b[0m \u001b[32m━━━━━━━━━━━━━━━━━━━━\u001b[0m\u001b[37m\u001b[0m \u001b[1m11s\u001b[0m 34ms/step - loss: 0.4150 - mae: 0.4140 - val_loss: 0.4317 - val_mae: 0.3988 - learning_rate: 0.0010\n",
      "Epoch 99/100\n",
      "\u001b[1m208/209\u001b[0m \u001b[32m━━━━━━━━━━━━━━━━━━━\u001b[0m\u001b[37m━\u001b[0m \u001b[1m0s\u001b[0m 32ms/step - loss: 0.4149 - mae: 0.4128\n",
      "Epoch 99: val_loss improved from 0.43174 to 0.42717, saving model to best_model.h5\n"
     ]
    },
    {
     "name": "stderr",
     "output_type": "stream",
     "text": [
      "WARNING:absl:You are saving your model as an HDF5 file via `model.save()` or `keras.saving.save_model(model)`. This file format is considered legacy. We recommend using instead the native Keras format, e.g. `model.save('my_model.keras')` or `keras.saving.save_model(model, 'my_model.keras')`. \n"
     ]
    },
    {
     "name": "stdout",
     "output_type": "stream",
     "text": [
      "\u001b[1m209/209\u001b[0m \u001b[32m━━━━━━━━━━━━━━━━━━━━\u001b[0m\u001b[37m\u001b[0m \u001b[1m10s\u001b[0m 34ms/step - loss: 0.4149 - mae: 0.4128 - val_loss: 0.4272 - val_mae: 0.3958 - learning_rate: 0.0010\n",
      "Epoch 100/100\n",
      "\u001b[1m209/209\u001b[0m \u001b[32m━━━━━━━━━━━━━━━━━━━━\u001b[0m\u001b[37m\u001b[0m \u001b[1m0s\u001b[0m 32ms/step - loss: 0.4160 - mae: 0.4125\n",
      "Epoch 100: val_loss did not improve from 0.42717\n",
      "\u001b[1m209/209\u001b[0m \u001b[32m━━━━━━━━━━━━━━━━━━━━\u001b[0m\u001b[37m\u001b[0m \u001b[1m7s\u001b[0m 35ms/step - loss: 0.4160 - mae: 0.4125 - val_loss: 0.4284 - val_mae: 0.3933 - learning_rate: 0.0010\n",
      "\u001b[1m563/563\u001b[0m \u001b[32m━━━━━━━━━━━━━━━━━━━━\u001b[0m\u001b[37m\u001b[0m \u001b[1m2s\u001b[0m 3ms/step\n",
      "MAE: 0.3934669632417792\n"
     ]
    },
    {
     "ename": "TypeError",
     "evalue": "got an unexpected keyword argument 'squared'",
     "output_type": "error",
     "traceback": [
      "\u001b[1;31m---------------------------------------------------------------------------\u001b[0m",
      "\u001b[1;31mTypeError\u001b[0m                                 Traceback (most recent call last)",
      "Cell \u001b[1;32mIn[72], line 50\u001b[0m\n\u001b[0;32m     47\u001b[0m y_pred \u001b[38;5;241m=\u001b[39m model_lstm\u001b[38;5;241m.\u001b[39mpredict(X_test)\u001b[38;5;241m.\u001b[39mflatten()\n\u001b[0;32m     49\u001b[0m \u001b[38;5;28mprint\u001b[39m(\u001b[38;5;124m\"\u001b[39m\u001b[38;5;124mMAE:\u001b[39m\u001b[38;5;124m\"\u001b[39m, mean_absolute_error(Y_test, y_pred))\n\u001b[1;32m---> 50\u001b[0m \u001b[38;5;28mprint\u001b[39m(\u001b[38;5;124m\"\u001b[39m\u001b[38;5;124mRMSE:\u001b[39m\u001b[38;5;124m\"\u001b[39m, \u001b[43mmean_squared_error\u001b[49m\u001b[43m(\u001b[49m\u001b[43mY_test\u001b[49m\u001b[43m,\u001b[49m\u001b[43m \u001b[49m\u001b[43my_pred\u001b[49m\u001b[43m,\u001b[49m\u001b[43m \u001b[49m\u001b[43msquared\u001b[49m\u001b[38;5;241;43m=\u001b[39;49m\u001b[38;5;28;43;01mFalse\u001b[39;49;00m\u001b[43m)\u001b[49m)\n\u001b[0;32m     51\u001b[0m \u001b[38;5;28mprint\u001b[39m(\u001b[38;5;124m\"\u001b[39m\u001b[38;5;124mR² Score:\u001b[39m\u001b[38;5;124m\"\u001b[39m, r2_score(Y_test, y_pred))\n",
      "File \u001b[1;32m~\\Desktop\\indian_agriculture\\myenv\\lib\\site-packages\\sklearn\\utils\\_param_validation.py:194\u001b[0m, in \u001b[0;36mvalidate_params.<locals>.decorator.<locals>.wrapper\u001b[1;34m(*args, **kwargs)\u001b[0m\n\u001b[0;32m    191\u001b[0m func_sig \u001b[38;5;241m=\u001b[39m signature(func)\n\u001b[0;32m    193\u001b[0m \u001b[38;5;66;03m# Map *args/**kwargs to the function signature\u001b[39;00m\n\u001b[1;32m--> 194\u001b[0m params \u001b[38;5;241m=\u001b[39m func_sig\u001b[38;5;241m.\u001b[39mbind(\u001b[38;5;241m*\u001b[39margs, \u001b[38;5;241m*\u001b[39m\u001b[38;5;241m*\u001b[39mkwargs)\n\u001b[0;32m    195\u001b[0m params\u001b[38;5;241m.\u001b[39mapply_defaults()\n\u001b[0;32m    197\u001b[0m \u001b[38;5;66;03m# ignore self/cls and positional/keyword markers\u001b[39;00m\n",
      "File \u001b[1;32m~\\Desktop\\indian_agriculture\\myenv\\lib\\inspect.py:3186\u001b[0m, in \u001b[0;36mSignature.bind\u001b[1;34m(self, *args, **kwargs)\u001b[0m\n\u001b[0;32m   3181\u001b[0m \u001b[38;5;28;01mdef\u001b[39;00m\u001b[38;5;250m \u001b[39m\u001b[38;5;21mbind\u001b[39m(\u001b[38;5;28mself\u001b[39m, \u001b[38;5;241m/\u001b[39m, \u001b[38;5;241m*\u001b[39margs, \u001b[38;5;241m*\u001b[39m\u001b[38;5;241m*\u001b[39mkwargs):\n\u001b[0;32m   3182\u001b[0m \u001b[38;5;250m    \u001b[39m\u001b[38;5;124;03m\"\"\"Get a BoundArguments object, that maps the passed `args`\u001b[39;00m\n\u001b[0;32m   3183\u001b[0m \u001b[38;5;124;03m    and `kwargs` to the function's signature.  Raises `TypeError`\u001b[39;00m\n\u001b[0;32m   3184\u001b[0m \u001b[38;5;124;03m    if the passed arguments can not be bound.\u001b[39;00m\n\u001b[0;32m   3185\u001b[0m \u001b[38;5;124;03m    \"\"\"\u001b[39;00m\n\u001b[1;32m-> 3186\u001b[0m     \u001b[38;5;28;01mreturn\u001b[39;00m \u001b[38;5;28;43mself\u001b[39;49m\u001b[38;5;241;43m.\u001b[39;49m\u001b[43m_bind\u001b[49m\u001b[43m(\u001b[49m\u001b[43margs\u001b[49m\u001b[43m,\u001b[49m\u001b[43m \u001b[49m\u001b[43mkwargs\u001b[49m\u001b[43m)\u001b[49m\n",
      "File \u001b[1;32m~\\Desktop\\indian_agriculture\\myenv\\lib\\inspect.py:3175\u001b[0m, in \u001b[0;36mSignature._bind\u001b[1;34m(self, args, kwargs, partial)\u001b[0m\n\u001b[0;32m   3173\u001b[0m         arguments[kwargs_param\u001b[38;5;241m.\u001b[39mname] \u001b[38;5;241m=\u001b[39m kwargs\n\u001b[0;32m   3174\u001b[0m     \u001b[38;5;28;01melse\u001b[39;00m:\n\u001b[1;32m-> 3175\u001b[0m         \u001b[38;5;28;01mraise\u001b[39;00m \u001b[38;5;167;01mTypeError\u001b[39;00m(\n\u001b[0;32m   3176\u001b[0m             \u001b[38;5;124m'\u001b[39m\u001b[38;5;124mgot an unexpected keyword argument \u001b[39m\u001b[38;5;132;01m{arg!r}\u001b[39;00m\u001b[38;5;124m'\u001b[39m\u001b[38;5;241m.\u001b[39mformat(\n\u001b[0;32m   3177\u001b[0m                 arg\u001b[38;5;241m=\u001b[39m\u001b[38;5;28mnext\u001b[39m(\u001b[38;5;28miter\u001b[39m(kwargs))))\n\u001b[0;32m   3179\u001b[0m \u001b[38;5;28;01mreturn\u001b[39;00m \u001b[38;5;28mself\u001b[39m\u001b[38;5;241m.\u001b[39m_bound_arguments_cls(\u001b[38;5;28mself\u001b[39m, arguments)\n",
      "\u001b[1;31mTypeError\u001b[0m: got an unexpected keyword argument 'squared'"
     ]
    }
   ],
   "source": [
    "import tensorflow as tf\n",
    "from tensorflow.keras.models import Model\n",
    "from sklearn.metrics import mean_absolute_error, mean_squared_error, r2_score\n",
    "def build_lstm_model(input_shape):\n",
    "    inputs = Input(shape=input_shape)\n",
    "    x = LSTM(128, return_sequences=False)(inputs)\n",
    "    x = BatchNormalization()(x)\n",
    "    x = Dropout(0.3)(x)\n",
    "\n",
    "    x = Dense(64, activation='relu')(x)\n",
    "    x = BatchNormalization()(x)\n",
    "    x = Dropout(0.2)(x)\n",
    "\n",
    "    x = Dense(32, activation='relu')(x)\n",
    "    x = BatchNormalization()(x)\n",
    "    x = Dropout(0.1)(x)\n",
    "\n",
    "    outputs = Dense(1)(x)\n",
    "\n",
    "    model = Model(inputs, outputs)\n",
    "    model.compile(optimizer=tf.keras.optimizers.Adam(learning_rate=0.001),\n",
    "                  loss='mse', metrics=['mae'])\n",
    "    return model\n",
    "input_shape = (x_train_scaled.shape[1], x_train_scaled.shape[2])\n",
    "\n",
    "model_lstm = build_lstm_model(input_shape)\n",
    "\n",
    "# 5. Callbacks\n",
    "callbacks = [\n",
    "    EarlyStopping(monitor='val_loss', patience=10, restore_best_weights=True),\n",
    "    ReduceLROnPlateau(monitor='val_loss', factor=0.5, patience=5, verbose=1),\n",
    "    ModelCheckpoint('best_model.h5', monitor='val_loss', save_best_only=True, verbose=1)\n",
    "]\n",
    "\n",
    "\n",
    "# 6. Train the Model\n",
    "history = model_lstm.fit(\n",
    "    x_train_scaled, y_train,\n",
    "    validation_data=(X_val, Y_val),\n",
    "    epochs=100,\n",
    "    batch_size=1024,\n",
    "    callbacks=callbacks,\n",
    "    verbose=1\n",
    ")\n",
    "\n",
    "# 7. Evaluate the Model\n",
    "y_pred = model_lstm.predict(X_test).flatten()\n",
    "\n",
    "print(\"MAE:\", mean_absolute_error(Y_test, y_pred))\n",
    "print(\"RMSE:\", mean_squared_error(Y_test, y_pred, squared=False))\n",
    "print(\"R² Score:\", r2_score(Y_test, y_pred))"
   ]
  },
  {
   "cell_type": "code",
   "execution_count": 73,
   "id": "cf9e5bc9-69b3-4c7d-b6bd-ce8b0e06d385",
   "metadata": {},
   "outputs": [
    {
     "name": "stdout",
     "output_type": "stream",
     "text": [
      "MAE: 0.3934669632417792\n",
      "RMSE: 0.41342537348758407\n",
      "R² Score: 0.7212103886719503\n"
     ]
    }
   ],
   "source": [
    "print(\"MAE:\", mean_absolute_error(Y_test, y_pred))\n",
    "print(\"RMSE:\", mean_squared_error(Y_test, y_pred))\n",
    "print(\"R² Score:\", r2_score(Y_test, y_pred))"
   ]
  },
  {
   "cell_type": "code",
   "execution_count": 66,
   "id": "89fdfe51-7d1f-4f97-8775-28b99011ea5f",
   "metadata": {},
   "outputs": [
    {
     "data": {
      "text/plain": [
       "(0.8483749253343601, 0.9905486457436928)"
      ]
     },
     "execution_count": 66,
     "metadata": {},
     "output_type": "execute_result"
    }
   ],
   "source": [
    "from sklearn.ensemble import RandomForestRegressor\n",
    "model_RFR = RandomForestRegressor()\n",
    "model_RFR.fit(x_train_for_scaling,y_train)\n",
    "y_test_RFR_predict = model_RFR.predict(x_test_for_scaling)\n",
    "y_train_RFR_predict = model_RFR.predict(x_train_for_scaling)\n",
    "r2_score(y_test,y_test_RFR_predict) , r2_score(y_train, y_train_RFR_predict)\n"
   ]
  },
  {
   "cell_type": "code",
   "execution_count": 67,
   "id": "ce14b267-1be8-4473-ae1b-22a5278c6cb3",
   "metadata": {},
   "outputs": [
    {
     "data": {
      "text/plain": [
       "(0.8483749253343601, 0.9905486457436928)"
      ]
     },
     "execution_count": 67,
     "metadata": {},
     "output_type": "execute_result"
    }
   ],
   "source": [
    "r2_score(y_test,y_test_RFR_predict) , r2_score(y_train, y_train_RFR_predict)"
   ]
  },
  {
   "cell_type": "markdown",
   "id": "55edfbec-0b07-4d6d-85c7-2247ca210e37",
   "metadata": {},
   "source": [
    "Hyperparmeter tunning with catboost"
   ]
  },
  {
   "cell_type": "code",
   "execution_count": 34,
   "id": "b264821c-1b88-4609-b3a1-4c070ade92cb",
   "metadata": {},
   "outputs": [],
   "source": [
    "! pip install catboost optuna --quiet"
   ]
  },
  {
   "cell_type": "code",
   "execution_count": 128,
   "id": "fde3a423-7bf5-44b8-9003-9162d03b88e0",
   "metadata": {},
   "outputs": [],
   "source": [
    "import optuna"
   ]
  },
  {
   "cell_type": "code",
   "execution_count": null,
   "id": "e175965a-a450-4a0a-a0b2-21ef63f94a9d",
   "metadata": {},
   "outputs": [],
   "source": []
  },
  {
   "cell_type": "code",
   "execution_count": 130,
   "id": "a17e8c55-666f-4a3d-bcd8-20002088ef43",
   "metadata": {},
   "outputs": [],
   "source": [
    "def objective(trial):\n",
    "    # Define hyperparameters to search\n",
    "    bootstrap_type = trial.suggest_categorical(\"bootstrap_type\", [\"Bayesian\", \"Bernoulli\"])\n",
    "    params = {\n",
    "        'iterations': trial.suggest_int('iterations', 500, 2000),\n",
    "        'depth': trial.suggest_int('depth', 4, 8),\n",
    "        'learning_rate': trial.suggest_float('learning_rate', 0.01, 0.1, log=True),\n",
    "        'l2_leaf_reg': trial.suggest_float('l2_leaf_reg', 3, 30, log=True),\n",
    "        \n",
    "        'random_strength': trial.suggest_float('random_strength', 1e-9, 10, log=True),\n",
    "        'border_count': trial.suggest_int('border_count', 64, 254),\n",
    "        'bootstrap_type': bootstrap_type,\n",
    "        \n",
    "\n",
    "        \n",
    "        # Fixed GPU params\n",
    "        'task_type': 'GPU',\n",
    "        'devices': '0',\n",
    "        'eval_metric': 'R2',\n",
    "        'loss_function': 'RMSE',\n",
    "        'early_stopping_rounds': 50,\n",
    "        'verbose': 0\n",
    "    }\n",
    "    if bootstrap_type == \"Bayesian\":\n",
    "        params[\"bagging_temperature\"] = trial.suggest_float(\"bagging_temperature\", 0, 1)\n",
    "    else:  # Bernoulli\n",
    "        params[\"subsample\"] = trial.suggest_float(\"subsample\", 0.5, 0.9)\n",
    "\n",
    "\n",
    "    model = CatBoostRegressor(**params)\n",
    "\n",
    "    train_pool = Pool(x_train, y_train, cat_features=['season', 'crop'])\n",
    "    test_pool = Pool(x_test, y_test, cat_features=['season', 'crop'])\n",
    "\n",
    "    model.fit(train_pool, eval_set=test_pool)\n",
    "    preds = model.predict(x_test)\n",
    "    r2 = r2_score(y_test, preds)\n",
    "    \n",
    "    return r2  # maximize R² score"
   ]
  },
  {
   "cell_type": "code",
   "execution_count": 131,
   "id": "bd72ab6c-01f0-4b8f-9550-826ef63d5a40",
   "metadata": {
    "scrolled": true
   },
   "outputs": [
    {
     "name": "stderr",
     "output_type": "stream",
     "text": [
      "[I 2025-05-31 22:43:39,316] A new study created in memory with name: no-name-1028abf8-fdad-4c06-bf5e-4ba6fdeb38cd\n",
      "Default metric period is 5 because R2 is/are not implemented for GPU\n",
      "Metric R2 is not implemented on GPU. Will use CPU for metric computation, this could significantly affect learning time\n",
      "[I 2025-05-31 22:44:34,609] Trial 0 finished with value: 0.8050860903288083 and parameters: {'bootstrap_type': 'Bernoulli', 'iterations': 1193, 'depth': 4, 'learning_rate': 0.021172503334295583, 'l2_leaf_reg': 18.618991728273702, 'random_strength': 1.2264502488487885e-09, 'border_count': 209, 'subsample': 0.5104275697481206}. Best is trial 0 with value: 0.8050860903288083.\n",
      "Default metric period is 5 because R2 is/are not implemented for GPU\n",
      "Metric R2 is not implemented on GPU. Will use CPU for metric computation, this could significantly affect learning time\n",
      "[I 2025-05-31 22:45:13,428] Trial 1 finished with value: 0.7787767567080331 and parameters: {'bootstrap_type': 'Bayesian', 'iterations': 925, 'depth': 4, 'learning_rate': 0.013024264537052365, 'l2_leaf_reg': 10.806963567006393, 'random_strength': 2.7343748067428474e-06, 'border_count': 138, 'bagging_temperature': 0.6884907672129524}. Best is trial 0 with value: 0.8050860903288083.\n",
      "Default metric period is 5 because R2 is/are not implemented for GPU\n",
      "Metric R2 is not implemented on GPU. Will use CPU for metric computation, this could significantly affect learning time\n",
      "[I 2025-05-31 22:45:54,217] Trial 2 finished with value: 0.8338727750371205 and parameters: {'bootstrap_type': 'Bernoulli', 'iterations': 1957, 'depth': 6, 'learning_rate': 0.07625246461745842, 'l2_leaf_reg': 3.1901334338772176, 'random_strength': 6.287301970848111e-08, 'border_count': 81, 'subsample': 0.7674085689155923}. Best is trial 2 with value: 0.8338727750371205.\n",
      "Default metric period is 5 because R2 is/are not implemented for GPU\n",
      "Metric R2 is not implemented on GPU. Will use CPU for metric computation, this could significantly affect learning time\n",
      "[I 2025-05-31 22:46:33,931] Trial 3 finished with value: 0.8396234689588188 and parameters: {'bootstrap_type': 'Bayesian', 'iterations': 1236, 'depth': 8, 'learning_rate': 0.07503728475238682, 'l2_leaf_reg': 23.00993630222385, 'random_strength': 4.28013003256645, 'border_count': 172, 'bagging_temperature': 0.6913154335511176}. Best is trial 3 with value: 0.8396234689588188.\n",
      "Default metric period is 5 because R2 is/are not implemented for GPU\n",
      "Metric R2 is not implemented on GPU. Will use CPU for metric computation, this could significantly affect learning time\n",
      "[I 2025-05-31 22:47:40,331] Trial 4 finished with value: 0.8030818568702058 and parameters: {'bootstrap_type': 'Bernoulli', 'iterations': 1951, 'depth': 4, 'learning_rate': 0.011158482344980274, 'l2_leaf_reg': 7.0969390193677295, 'random_strength': 0.07556133137521288, 'border_count': 228, 'subsample': 0.7047380083192583}. Best is trial 3 with value: 0.8396234689588188.\n",
      "Default metric period is 5 because R2 is/are not implemented for GPU\n",
      "Metric R2 is not implemented on GPU. Will use CPU for metric computation, this could significantly affect learning time\n",
      "[I 2025-05-31 22:48:23,130] Trial 5 finished with value: 0.833281006288101 and parameters: {'bootstrap_type': 'Bernoulli', 'iterations': 786, 'depth': 6, 'learning_rate': 0.059617161610711566, 'l2_leaf_reg': 7.942851660189005, 'random_strength': 2.5108116146321675e-09, 'border_count': 125, 'subsample': 0.5339350153413354}. Best is trial 3 with value: 0.8396234689588188.\n",
      "Default metric period is 5 because R2 is/are not implemented for GPU\n",
      "Metric R2 is not implemented on GPU. Will use CPU for metric computation, this could significantly affect learning time\n",
      "[I 2025-05-31 22:49:20,617] Trial 6 finished with value: 0.8300739223882505 and parameters: {'bootstrap_type': 'Bayesian', 'iterations': 1794, 'depth': 5, 'learning_rate': 0.07620170454559745, 'l2_leaf_reg': 5.53054097130574, 'random_strength': 0.011438264905306514, 'border_count': 167, 'bagging_temperature': 0.21261921933066819}. Best is trial 3 with value: 0.8396234689588188.\n",
      "Default metric period is 5 because R2 is/are not implemented for GPU\n",
      "Metric R2 is not implemented on GPU. Will use CPU for metric computation, this could significantly affect learning time\n",
      "[I 2025-05-31 22:50:17,444] Trial 7 finished with value: 0.8306151861350826 and parameters: {'bootstrap_type': 'Bayesian', 'iterations': 634, 'depth': 8, 'learning_rate': 0.023800465324596252, 'l2_leaf_reg': 6.775804037569271, 'random_strength': 1.4477307850434982e-08, 'border_count': 87, 'bagging_temperature': 0.9357989435437988}. Best is trial 3 with value: 0.8396234689588188.\n",
      "Default metric period is 5 because R2 is/are not implemented for GPU\n",
      "Metric R2 is not implemented on GPU. Will use CPU for metric computation, this could significantly affect learning time\n",
      "[I 2025-05-31 22:51:04,599] Trial 8 finished with value: 0.813305916518523 and parameters: {'bootstrap_type': 'Bayesian', 'iterations': 1259, 'depth': 4, 'learning_rate': 0.03134440601254027, 'l2_leaf_reg': 5.164678805776071, 'random_strength': 2.7436318055583616e-08, 'border_count': 197, 'bagging_temperature': 0.6250676931432563}. Best is trial 3 with value: 0.8396234689588188.\n",
      "Default metric period is 5 because R2 is/are not implemented for GPU\n",
      "Metric R2 is not implemented on GPU. Will use CPU for metric computation, this could significantly affect learning time\n",
      "[I 2025-05-31 22:51:44,116] Trial 9 finished with value: 0.8240004141504831 and parameters: {'bootstrap_type': 'Bernoulli', 'iterations': 1070, 'depth': 5, 'learning_rate': 0.02944751731107954, 'l2_leaf_reg': 7.074070891676973, 'random_strength': 2.505230859067043e-07, 'border_count': 78, 'subsample': 0.5304153823703319}. Best is trial 3 with value: 0.8396234689588188.\n",
      "Default metric period is 5 because R2 is/are not implemented for GPU\n",
      "Metric R2 is not implemented on GPU. Will use CPU for metric computation, this could significantly affect learning time\n",
      "[I 2025-05-31 22:53:29,087] Trial 10 finished with value: 0.8425539713538439 and parameters: {'bootstrap_type': 'Bayesian', 'iterations': 1493, 'depth': 8, 'learning_rate': 0.0497929572285106, 'l2_leaf_reg': 29.311173580453964, 'random_strength': 2.8008818821700596, 'border_count': 243, 'bagging_temperature': 0.26461899880099465}. Best is trial 10 with value: 0.8425539713538439.\n",
      "Default metric period is 5 because R2 is/are not implemented for GPU\n",
      "Metric R2 is not implemented on GPU. Will use CPU for metric computation, this could significantly affect learning time\n",
      "[I 2025-05-31 22:55:50,797] Trial 11 finished with value: 0.843252713719096 and parameters: {'bootstrap_type': 'Bayesian', 'iterations': 1494, 'depth': 8, 'learning_rate': 0.047669359625121234, 'l2_leaf_reg': 28.912662605733168, 'random_strength': 9.202486243864476, 'border_count': 244, 'bagging_temperature': 0.16986234038101233}. Best is trial 11 with value: 0.843252713719096.\n",
      "Default metric period is 5 because R2 is/are not implemented for GPU\n",
      "Metric R2 is not implemented on GPU. Will use CPU for metric computation, this could significantly affect learning time\n",
      "[I 2025-05-31 22:57:35,925] Trial 12 finished with value: 0.8405353147791115 and parameters: {'bootstrap_type': 'Bayesian', 'iterations': 1523, 'depth': 7, 'learning_rate': 0.04964548169458341, 'l2_leaf_reg': 29.19338580533307, 'random_strength': 5.330259312588436, 'border_count': 252, 'bagging_temperature': 0.11537690219060481}. Best is trial 11 with value: 0.843252713719096.\n",
      "Default metric period is 5 because R2 is/are not implemented for GPU\n",
      "Metric R2 is not implemented on GPU. Will use CPU for metric computation, this could significantly affect learning time\n",
      "[I 2025-05-31 22:59:14,380] Trial 13 finished with value: 0.8403140433592238 and parameters: {'bootstrap_type': 'Bayesian', 'iterations': 1507, 'depth': 7, 'learning_rate': 0.04436619265039486, 'l2_leaf_reg': 13.361500036061983, 'random_strength': 0.009384194835389102, 'border_count': 251, 'bagging_temperature': 0.30879707487432506}. Best is trial 11 with value: 0.843252713719096.\n",
      "Default metric period is 5 because R2 is/are not implemented for GPU\n",
      "Metric R2 is not implemented on GPU. Will use CPU for metric computation, this could significantly affect learning time\n",
      "[I 2025-05-31 23:01:06,677] Trial 14 finished with value: 0.8428820492054665 and parameters: {'bootstrap_type': 'Bayesian', 'iterations': 1525, 'depth': 8, 'learning_rate': 0.04224135944476867, 'l2_leaf_reg': 29.202150918952224, 'random_strength': 6.440042634336534e-05, 'border_count': 221, 'bagging_temperature': 0.007507597718735437}. Best is trial 11 with value: 0.843252713719096.\n",
      "Default metric period is 5 because R2 is/are not implemented for GPU\n",
      "Metric R2 is not implemented on GPU. Will use CPU for metric computation, this could significantly affect learning time\n",
      "[I 2025-05-31 23:02:56,343] Trial 15 finished with value: 0.8408379800817921 and parameters: {'bootstrap_type': 'Bayesian', 'iterations': 1713, 'depth': 7, 'learning_rate': 0.03723529532406362, 'l2_leaf_reg': 16.13102544049512, 'random_strength': 0.00017626539341836442, 'border_count': 203, 'bagging_temperature': 0.03262793904650693}. Best is trial 11 with value: 0.843252713719096.\n",
      "Default metric period is 5 because R2 is/are not implemented for GPU\n",
      "Metric R2 is not implemented on GPU. Will use CPU for metric computation, this could significantly affect learning time\n",
      "[I 2025-05-31 23:04:31,289] Trial 16 finished with value: 0.8454663611932107 and parameters: {'bootstrap_type': 'Bayesian', 'iterations': 1415, 'depth': 8, 'learning_rate': 0.09631690416150157, 'l2_leaf_reg': 20.48747200558469, 'random_strength': 8.93025501491342e-05, 'border_count': 221, 'bagging_temperature': 0.003419592111004288}. Best is trial 16 with value: 0.8454663611932107.\n",
      "Default metric period is 5 because R2 is/are not implemented for GPU\n",
      "Metric R2 is not implemented on GPU. Will use CPU for metric computation, this could significantly affect learning time\n",
      "[I 2025-05-31 23:05:37,988] Trial 17 finished with value: 0.8408534004153237 and parameters: {'bootstrap_type': 'Bayesian', 'iterations': 1338, 'depth': 7, 'learning_rate': 0.09446674046056547, 'l2_leaf_reg': 20.73268062581156, 'random_strength': 7.91673594425527e-05, 'border_count': 193, 'bagging_temperature': 0.43761039218789266}. Best is trial 16 with value: 0.8454663611932107.\n",
      "Default metric period is 5 because R2 is/are not implemented for GPU\n",
      "Metric R2 is not implemented on GPU. Will use CPU for metric computation, this could significantly affect learning time\n",
      "[I 2025-05-31 23:08:04,399] Trial 18 finished with value: 0.8396949813105391 and parameters: {'bootstrap_type': 'Bayesian', 'iterations': 1666, 'depth': 8, 'learning_rate': 0.017292343916777267, 'l2_leaf_reg': 13.861027167253205, 'random_strength': 4.6654041866783e-06, 'border_count': 228, 'bagging_temperature': 0.4240342913946392}. Best is trial 16 with value: 0.8454663611932107.\n",
      "Default metric period is 5 because R2 is/are not implemented for GPU\n",
      "Metric R2 is not implemented on GPU. Will use CPU for metric computation, this could significantly affect learning time\n",
      "[I 2025-05-31 23:08:51,800] Trial 19 finished with value: 0.8400073693379181 and parameters: {'bootstrap_type': 'Bayesian', 'iterations': 1032, 'depth': 7, 'learning_rate': 0.09980568298525473, 'l2_leaf_reg': 23.282768926951636, 'random_strength': 0.0017864078799330364, 'border_count': 181, 'bagging_temperature': 0.15382700853227738}. Best is trial 16 with value: 0.8454663611932107.\n",
      "Default metric period is 5 because R2 is/are not implemented for GPU\n",
      "Metric R2 is not implemented on GPU. Will use CPU for metric computation, this could significantly affect learning time\n",
      "[I 2025-05-31 23:09:28,236] Trial 20 finished with value: 0.828803265172152 and parameters: {'bootstrap_type': 'Bayesian', 'iterations': 512, 'depth': 6, 'learning_rate': 0.06144987109705643, 'l2_leaf_reg': 10.335359416010718, 'random_strength': 0.5542789785485845, 'border_count': 145, 'bagging_temperature': 0.3400876138301183}. Best is trial 16 with value: 0.8454663611932107.\n",
      "Default metric period is 5 because R2 is/are not implemented for GPU\n",
      "Metric R2 is not implemented on GPU. Will use CPU for metric computation, this could significantly affect learning time\n",
      "[I 2025-05-31 23:11:19,716] Trial 21 finished with value: 0.843168031118747 and parameters: {'bootstrap_type': 'Bayesian', 'iterations': 1423, 'depth': 8, 'learning_rate': 0.04085293665110681, 'l2_leaf_reg': 29.637795809586223, 'random_strength': 0.00018146478685553418, 'border_count': 225, 'bagging_temperature': 0.030906948295538497}. Best is trial 16 with value: 0.8454663611932107.\n",
      "Default metric period is 5 because R2 is/are not implemented for GPU\n",
      "Metric R2 is not implemented on GPU. Will use CPU for metric computation, this could significantly affect learning time\n",
      "[I 2025-05-31 23:12:48,454] Trial 22 finished with value: 0.8426328481436803 and parameters: {'bootstrap_type': 'Bayesian', 'iterations': 1369, 'depth': 8, 'learning_rate': 0.03562980598879758, 'l2_leaf_reg': 23.731760929701906, 'random_strength': 5.313617808998078e-06, 'border_count': 235, 'bagging_temperature': 0.0887856818361472}. Best is trial 16 with value: 0.8454663611932107.\n",
      "Default metric period is 5 because R2 is/are not implemented for GPU\n",
      "Metric R2 is not implemented on GPU. Will use CPU for metric computation, this could significantly affect learning time\n",
      "[I 2025-05-31 23:14:49,583] Trial 23 finished with value: 0.8457275130846733 and parameters: {'bootstrap_type': 'Bayesian', 'iterations': 1622, 'depth': 8, 'learning_rate': 0.06141812877834573, 'l2_leaf_reg': 18.611897930225016, 'random_strength': 0.0008427828569398906, 'border_count': 214, 'bagging_temperature': 0.023323595597567325}. Best is trial 23 with value: 0.8457275130846733.\n"
     ]
    }
   ],
   "source": [
    "study = optuna.create_study(direction='maximize')\n",
    "study.optimize(objective, n_trials=50, timeout=1800)"
   ]
  },
  {
   "cell_type": "code",
   "execution_count": 133,
   "id": "8ff407ab-4856-4747-82b8-3240c7f7696e",
   "metadata": {},
   "outputs": [
    {
     "name": "stdout",
     "output_type": "stream",
     "text": [
      "Best Trial Score: 0.8457275130846733\n",
      "Best Parameters: {'bootstrap_type': 'Bayesian', 'iterations': 1622, 'depth': 8, 'learning_rate': 0.06141812877834573, 'l2_leaf_reg': 18.611897930225016, 'random_strength': 0.0008427828569398906, 'border_count': 214, 'bagging_temperature': 0.023323595597567325}\n"
     ]
    }
   ],
   "source": [
    "print(\"Best Trial Score:\", study.best_value)\n",
    "print(\"Best Parameters:\", study.best_params)\n"
   ]
  },
  {
   "cell_type": "code",
   "execution_count": 134,
   "id": "a968cb19-81ed-406b-aebd-374237e451c8",
   "metadata": {},
   "outputs": [
    {
     "name": "stderr",
     "output_type": "stream",
     "text": [
      "Default metric period is 5 because R2 is/are not implemented for GPU\n",
      "Metric R2 is not implemented on GPU. Will use CPU for metric computation, this could significantly affect learning time\n"
     ]
    },
    {
     "name": "stdout",
     "output_type": "stream",
     "text": [
      "0:\tlearn: 0.0707818\ttest: 0.0708059\tbest: 0.0708059 (0)\ttotal: 83.1ms\tremaining: 2m 14s\n",
      "100:\tlearn: 0.8333684\ttest: 0.8054403\tbest: 0.8054403 (100)\ttotal: 6.43s\tremaining: 1m 36s\n",
      "200:\tlearn: 0.8686105\ttest: 0.8241859\tbest: 0.8241859 (200)\ttotal: 13.5s\tremaining: 1m 35s\n",
      "300:\tlearn: 0.8852549\ttest: 0.8331705\tbest: 0.8331887 (294)\ttotal: 20.3s\tremaining: 1m 29s\n",
      "400:\tlearn: 0.8936123\ttest: 0.8366404\tbest: 0.8366404 (400)\ttotal: 26.4s\tremaining: 1m 20s\n",
      "500:\tlearn: 0.9003385\ttest: 0.8398225\tbest: 0.8398225 (500)\ttotal: 33.2s\tremaining: 1m 14s\n",
      "600:\tlearn: 0.9061282\ttest: 0.8420669\tbest: 0.8420669 (600)\ttotal: 39.8s\tremaining: 1m 7s\n",
      "700:\tlearn: 0.9102081\ttest: 0.8429378\tbest: 0.8429915 (699)\ttotal: 46.5s\tremaining: 1m 1s\n",
      "800:\tlearn: 0.9134595\ttest: 0.8439791\tbest: 0.8440103 (797)\ttotal: 53s\tremaining: 54.3s\n",
      "900:\tlearn: 0.9163000\ttest: 0.8448276\tbest: 0.8448427 (899)\ttotal: 1m\tremaining: 48.1s\n",
      "1000:\tlearn: 0.9184640\ttest: 0.8456158\tbest: 0.8456174 (994)\ttotal: 1m 7s\tremaining: 41.8s\n",
      "1100:\tlearn: 0.9204027\ttest: 0.8462222\tbest: 0.8462222 (1100)\ttotal: 1m 14s\tremaining: 35.2s\n",
      "1200:\tlearn: 0.9223582\ttest: 0.8463790\tbest: 0.8464562 (1179)\ttotal: 1m 21s\tremaining: 28.7s\n",
      "1300:\tlearn: 0.9241740\ttest: 0.8465605\tbest: 0.8466672 (1291)\ttotal: 1m 28s\tremaining: 22s\n",
      "bestTest = 0.8466672163\n",
      "bestIteration = 1291\n",
      "Shrink model to first 1292 iterations.\n",
      "Final R2: 0.8466672103473695\n",
      "MAE: 0.23824503094719784\n",
      "RMSE: 0.22437794522297763\n"
     ]
    }
   ],
   "source": [
    "best_model = CatBoostRegressor(**study.best_params,\n",
    "                                task_type='GPU',\n",
    "                                devices='0',\n",
    "                                eval_metric='R2',\n",
    "                                loss_function='RMSE',\n",
    "                                early_stopping_rounds=50,\n",
    "                                verbose=100)\n",
    "\n",
    "train_pool = Pool(x_train, y_train, cat_features=['season', 'crop'])\n",
    "test_pool = Pool(x_test, y_test, cat_features=['season', 'crop'])\n",
    "\n",
    "best_model.fit(train_pool, eval_set=test_pool)\n",
    "\n",
    "# Final prediction & evaluation\n",
    "y_pred = best_model.predict(x_test)\n",
    "\n",
    "from sklearn.metrics import mean_absolute_error, mean_squared_error\n",
    "\n",
    "print(\"Final R2:\", r2_score(y_test, y_pred))\n",
    "print(\"MAE:\", mean_absolute_error(y_test, y_pred))\n",
    "print(\"RMSE:\", mean_squared_error(y_test, y_pred))"
   ]
  },
  {
   "cell_type": "code",
   "execution_count": 135,
   "id": "3e2931ff-83ef-4d31-859f-502336fdc209",
   "metadata": {},
   "outputs": [
    {
     "data": {
      "text/plain": [
       "0.9261057404325903"
      ]
     },
     "execution_count": 135,
     "metadata": {},
     "output_type": "execute_result"
    }
   ],
   "source": [
    "y_pred_train = best_model.predict(x_train)\n",
    "r2_score(y_train,y_pred_train)"
   ]
  },
  {
   "cell_type": "code",
   "execution_count": 136,
   "id": "c6660ac7-ef8d-4517-8cf2-dd11d25f3d63",
   "metadata": {},
   "outputs": [
    {
     "data": {
      "text/plain": [
       "0.8466672103473695"
      ]
     },
     "execution_count": 136,
     "metadata": {},
     "output_type": "execute_result"
    }
   ],
   "source": [
    "r2_score(y_test,y_pred)"
   ]
  },
  {
   "cell_type": "code",
   "execution_count": 137,
   "id": "489812c6-7c73-419b-8573-7ad6b8bbbd2d",
   "metadata": {},
   "outputs": [],
   "source": [
    "model.save_model(\"catboost_best_model.cbm\")"
   ]
  },
  {
   "cell_type": "code",
   "execution_count": 138,
   "id": "51256a93-dd02-4533-ac1e-e047fd2bded6",
   "metadata": {},
   "outputs": [],
   "source": [
    "from catboost import CatBoostRegressor, Pool"
   ]
  },
  {
   "cell_type": "code",
   "execution_count": 139,
   "id": "363bf5a3-61e4-4fee-9f51-9ef223e2e4ad",
   "metadata": {},
   "outputs": [],
   "source": [
    "model=CatBoostRegressor()"
   ]
  },
  {
   "cell_type": "code",
   "execution_count": 140,
   "id": "e44db387-d002-4c4c-b5f1-96974c7282c6",
   "metadata": {},
   "outputs": [
    {
     "data": {
      "text/plain": [
       "<catboost.core.CatBoostRegressor at 0x2c480466050>"
      ]
     },
     "execution_count": 140,
     "metadata": {},
     "output_type": "execute_result"
    }
   ],
   "source": [
    "model.load_model('catboost_best_model.cbm')"
   ]
  },
  {
   "cell_type": "code",
   "execution_count": 141,
   "id": "510f3d18-fcff-4107-b8b0-0895d3787f87",
   "metadata": {},
   "outputs": [
    {
     "data": {
      "text/html": [
       "<div>\n",
       "<style scoped>\n",
       "    .dataframe tbody tr th:only-of-type {\n",
       "        vertical-align: middle;\n",
       "    }\n",
       "\n",
       "    .dataframe tbody tr th {\n",
       "        vertical-align: top;\n",
       "    }\n",
       "\n",
       "    .dataframe thead th {\n",
       "        text-align: right;\n",
       "    }\n",
       "</style>\n",
       "<table border=\"1\" class=\"dataframe\">\n",
       "  <thead>\n",
       "    <tr style=\"text-align: right;\">\n",
       "      <th></th>\n",
       "      <th>crop_year</th>\n",
       "      <th>season</th>\n",
       "      <th>crop</th>\n",
       "      <th>area</th>\n",
       "      <th>temperature_2m_mean</th>\n",
       "      <th>precipitation_sum</th>\n",
       "      <th>relative_humidity_2m_mean</th>\n",
       "      <th>wind_speed_10m_mean</th>\n",
       "      <th>latitude</th>\n",
       "      <th>longitude</th>\n",
       "    </tr>\n",
       "  </thead>\n",
       "  <tbody>\n",
       "    <tr>\n",
       "      <th>196293</th>\n",
       "      <td>2018</td>\n",
       "      <td>kharif</td>\n",
       "      <td>arhar/tur</td>\n",
       "      <td>8.337827</td>\n",
       "      <td>30.524337</td>\n",
       "      <td>1.639104</td>\n",
       "      <td>57.123297</td>\n",
       "      <td>18.537061</td>\n",
       "      <td>14.475294</td>\n",
       "      <td>78.821686</td>\n",
       "    </tr>\n",
       "    <tr>\n",
       "      <th>196292</th>\n",
       "      <td>2018</td>\n",
       "      <td>rabi</td>\n",
       "      <td>arhar/tur</td>\n",
       "      <td>6.966967</td>\n",
       "      <td>27.324539</td>\n",
       "      <td>0.095680</td>\n",
       "      <td>65.982719</td>\n",
       "      <td>9.026267</td>\n",
       "      <td>16.291519</td>\n",
       "      <td>80.454159</td>\n",
       "    </tr>\n",
       "    <tr>\n",
       "      <th>196323</th>\n",
       "      <td>2018</td>\n",
       "      <td>kharif</td>\n",
       "      <td>bajra</td>\n",
       "      <td>4.418841</td>\n",
       "      <td>28.712652</td>\n",
       "      <td>8.850824</td>\n",
       "      <td>77.973477</td>\n",
       "      <td>9.236416</td>\n",
       "      <td>18.114126</td>\n",
       "      <td>83.411439</td>\n",
       "    </tr>\n",
       "    <tr>\n",
       "      <th>196322</th>\n",
       "      <td>2018</td>\n",
       "      <td>kharif</td>\n",
       "      <td>bajra</td>\n",
       "      <td>4.442651</td>\n",
       "      <td>28.544194</td>\n",
       "      <td>9.827921</td>\n",
       "      <td>81.937993</td>\n",
       "      <td>11.404050</td>\n",
       "      <td>18.294931</td>\n",
       "      <td>83.893884</td>\n",
       "    </tr>\n",
       "    <tr>\n",
       "      <th>196321</th>\n",
       "      <td>2018</td>\n",
       "      <td>rabi</td>\n",
       "      <td>bajra</td>\n",
       "      <td>0.693147</td>\n",
       "      <td>26.882892</td>\n",
       "      <td>0.226152</td>\n",
       "      <td>66.549539</td>\n",
       "      <td>9.343433</td>\n",
       "      <td>14.717439</td>\n",
       "      <td>79.660506</td>\n",
       "    </tr>\n",
       "    <tr>\n",
       "      <th>...</th>\n",
       "      <td>...</td>\n",
       "      <td>...</td>\n",
       "      <td>...</td>\n",
       "      <td>...</td>\n",
       "      <td>...</td>\n",
       "      <td>...</td>\n",
       "      <td>...</td>\n",
       "      <td>...</td>\n",
       "      <td>...</td>\n",
       "      <td>...</td>\n",
       "    </tr>\n",
       "    <tr>\n",
       "      <th>249491</th>\n",
       "      <td>2020</td>\n",
       "      <td>rabi</td>\n",
       "      <td>wheat</td>\n",
       "      <td>9.114160</td>\n",
       "      <td>12.551224</td>\n",
       "      <td>2.734038</td>\n",
       "      <td>60.397664</td>\n",
       "      <td>3.186096</td>\n",
       "      <td>30.729860</td>\n",
       "      <td>78.443420</td>\n",
       "    </tr>\n",
       "    <tr>\n",
       "      <th>249460</th>\n",
       "      <td>2020</td>\n",
       "      <td>wholeyear</td>\n",
       "      <td>turmeric</td>\n",
       "      <td>0.693147</td>\n",
       "      <td>12.463553</td>\n",
       "      <td>6.557644</td>\n",
       "      <td>56.127426</td>\n",
       "      <td>3.479982</td>\n",
       "      <td>30.608720</td>\n",
       "      <td>79.065170</td>\n",
       "    </tr>\n",
       "    <tr>\n",
       "      <th>249485</th>\n",
       "      <td>2020</td>\n",
       "      <td>rabi</td>\n",
       "      <td>wheat</td>\n",
       "      <td>9.965476</td>\n",
       "      <td>7.998832</td>\n",
       "      <td>2.927197</td>\n",
       "      <td>71.856507</td>\n",
       "      <td>5.530812</td>\n",
       "      <td>29.390529</td>\n",
       "      <td>79.460869</td>\n",
       "    </tr>\n",
       "    <tr>\n",
       "      <th>249431</th>\n",
       "      <td>2020</td>\n",
       "      <td>kharif</td>\n",
       "      <td>soyabean</td>\n",
       "      <td>3.610918</td>\n",
       "      <td>19.961075</td>\n",
       "      <td>13.932401</td>\n",
       "      <td>85.659140</td>\n",
       "      <td>3.244839</td>\n",
       "      <td>30.008790</td>\n",
       "      <td>79.928018</td>\n",
       "    </tr>\n",
       "    <tr>\n",
       "      <th>249468</th>\n",
       "      <td>2020</td>\n",
       "      <td>summer</td>\n",
       "      <td>urad</td>\n",
       "      <td>2.302585</td>\n",
       "      <td>23.703710</td>\n",
       "      <td>1.304355</td>\n",
       "      <td>55.102151</td>\n",
       "      <td>5.963441</td>\n",
       "      <td>30.325565</td>\n",
       "      <td>78.043681</td>\n",
       "    </tr>\n",
       "  </tbody>\n",
       "</table>\n",
       "<p>35974 rows × 10 columns</p>\n",
       "</div>"
      ],
      "text/plain": [
       "        crop_year     season       crop      area  ...  relative_humidity_2m_mean  wind_speed_10m_mean   latitude  longitude\n",
       "196293       2018     kharif  arhar/tur  8.337827  ...                  57.123297            18.537061  14.475294  78.821686\n",
       "196292       2018       rabi  arhar/tur  6.966967  ...                  65.982719             9.026267  16.291519  80.454159\n",
       "196323       2018     kharif      bajra  4.418841  ...                  77.973477             9.236416  18.114126  83.411439\n",
       "196322       2018     kharif      bajra  4.442651  ...                  81.937993            11.404050  18.294931  83.893884\n",
       "196321       2018       rabi      bajra  0.693147  ...                  66.549539             9.343433  14.717439  79.660506\n",
       "...           ...        ...        ...       ...  ...                        ...                  ...        ...        ...\n",
       "249491       2020       rabi      wheat  9.114160  ...                  60.397664             3.186096  30.729860  78.443420\n",
       "249460       2020  wholeyear   turmeric  0.693147  ...                  56.127426             3.479982  30.608720  79.065170\n",
       "249485       2020       rabi      wheat  9.965476  ...                  71.856507             5.530812  29.390529  79.460869\n",
       "249431       2020     kharif   soyabean  3.610918  ...                  85.659140             3.244839  30.008790  79.928018\n",
       "249468       2020     summer       urad  2.302585  ...                  55.102151             5.963441  30.325565  78.043681\n",
       "\n",
       "[35974 rows x 10 columns]"
      ]
     },
     "execution_count": 141,
     "metadata": {},
     "output_type": "execute_result"
    }
   ],
   "source": [
    "x_test"
   ]
  },
  {
   "cell_type": "code",
   "execution_count": 142,
   "id": "1106037a-5a17-4ae3-9057-9506195222bc",
   "metadata": {},
   "outputs": [],
   "source": [
    "input_data = pd.DataFrame([{\n",
    "                    \"crop_year\": 2021,\n",
    "                    \"season\": 'Kharif',\n",
    "                    \"crop\": 'bajra',\n",
    "                    \"area\": np.log1p(50000),\n",
    "                    \"temperature_2m_mean\": 25,\n",
    "                    \"precipitation_sum\": 66,\n",
    "                    \"relative_humidity_2m_mean\": 30,\n",
    "                    \"wind_speed_10m_mean\": 10,\n",
    "                    \"latitude\": 14,\n",
    "                    \"longitude\": 78,\n",
    "                }])"
   ]
  },
  {
   "cell_type": "code",
   "execution_count": 143,
   "id": "034df428-52d1-4140-8c09-5406c45e5e38",
   "metadata": {},
   "outputs": [
    {
     "data": {
      "text/plain": [
       "array([0.8726691])"
      ]
     },
     "execution_count": 143,
     "metadata": {},
     "output_type": "execute_result"
    }
   ],
   "source": [
    "model.predict(input_data)"
   ]
  },
  {
   "cell_type": "code",
   "execution_count": null,
   "id": "da42612a-47b5-4b84-9aed-cdc7273c9d1c",
   "metadata": {},
   "outputs": [],
   "source": []
  }
 ],
 "metadata": {
  "kernelspec": {
   "display_name": "Python 3 (ipykernel)",
   "language": "python",
   "name": "python3"
  },
  "language_info": {
   "codemirror_mode": {
    "name": "ipython",
    "version": 3
   },
   "file_extension": ".py",
   "mimetype": "text/x-python",
   "name": "python",
   "nbconvert_exporter": "python",
   "pygments_lexer": "ipython3",
   "version": "3.10.16"
  }
 },
 "nbformat": 4,
 "nbformat_minor": 5
}
